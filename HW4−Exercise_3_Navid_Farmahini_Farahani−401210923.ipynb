{
  "cells": [
    {
      "cell_type": "code",
      "source": [
        "#In the name of God\n",
        "\n",
        "student_id = 401210923\n",
        "student_name = \"Navid Farahani\"\n",
        "\n",
        "print(\"your student id:\", student_id)\n",
        "print(\"your name:\", student_name)\n",
        "import numpy as np\n",
        "import torch\n",
        "\n",
        "\n",
        "import torch.nn as nn\n",
        "import torch.nn.functional as F\n",
        "import os\n",
        "\n",
        "from torch.utils.data import random_split\n",
        "import matplotlib.pyplot as plt\n",
        "from torch.utils.data.dataloader import DataLoader\n",
        "from torchvision.datasets import ImageFolder\n",
        "from torchvision.transforms import ToTensor\n",
        "from torch.utils.data import Dataset, DataLoader\n",
        "\n",
        "\n",
        "from transformers import GPT2LMHeadModel, GPT2Tokenizer\n"
      ],
      "metadata": {
        "id": "NnJnrDJ03dB_",
        "colab": {
          "base_uri": "https://localhost:8080/"
        },
        "outputId": "8975be58-9ecf-4c34-97e0-b4a264441d40"
      },
      "execution_count": 1,
      "outputs": [
        {
          "output_type": "stream",
          "name": "stdout",
          "text": [
            "your student id: 401210923\n",
            "your name: Navid Farahani\n"
          ]
        }
      ]
    },
    {
      "cell_type": "code",
      "source": [
        "from google.colab import drive\n",
        "drive.mount('/content/drive')"
      ],
      "metadata": {
        "colab": {
          "base_uri": "https://localhost:8080/"
        },
        "id": "HLbbDD5I31rw",
        "outputId": "bc8c830c-288a-4ba3-b258-3be34578c982"
      },
      "execution_count": 2,
      "outputs": [
        {
          "output_type": "stream",
          "name": "stdout",
          "text": [
            "Mounted at /content/drive\n"
          ]
        }
      ]
    },
    {
      "cell_type": "markdown",
      "source": [
        "**قسمت الف**\n"
      ],
      "metadata": {
        "id": "ELrDi0IYS_Xi"
      }
    },
    {
      "cell_type": "code",
      "source": [
        "# Load the pre-trained GPT2 model and tokenizer for Persian language\n",
        "\n",
        "# Selecting the tokenizer for tokenizing\n",
        "tokenizer = GPT2Tokenizer.from_pretrained('HooshvareLab/gpt2-fa')\n",
        "tokenizer.pad_token=tokenizer.eos_token# Now the model will be able to detect end of sentences!\n",
        "\n",
        "dir='drive/MyDrive/Q3 Materials/'\n",
        "\n",
        "# reading from the text file and using \\n for finding the hemistiches\n",
        "\n",
        "with open(dir+'ferdousi.txt', 'r', encoding='utf-8') as f:\n",
        "    text = f.read()\n",
        "    sentences = text.strip().split('\\n')\n",
        "    # we consider 2 hemistiches and then predict the next t=2 hemistiches\n",
        "    pairs = [(sentences[i]+' '+sentences[i+1],sentences[i+2]+' '+sentences[i+3]) for i in range(2, (len(sentences)-1)//2, 2)]# range 2, because the first sentence is English!\n"
      ],
      "metadata": {
        "id": "MqCJJ1nN3k3H",
        "colab": {
          "base_uri": "https://localhost:8080/",
          "height": 372,
          "referenced_widgets": [
            "5288b74568734c77b3d951df03f92a1f",
            "795cd37d275a422086f95bc35bbb2ddb",
            "58b56e4f8fe24a40be01b688dbb56a3a",
            "4d38b007df51459092f0f71461b60925",
            "39e9b071b50f4260963fc27fdc1de65e",
            "31fa63b1ec2b4cb2b839e0c1d1abe7ab",
            "9f4a739b83f24e6f87a55d7dfb92379f",
            "d204825ee48c44309f85af2ad2361d90",
            "b83888f9f02942b6b30bd5753c16a75f",
            "b5784b31a2d345099c9bb4ef4037464f",
            "7acc8e96faca4102839003546f8bd45c",
            "51e6ea24306e4abf8c8aeafc4a769d7c",
            "416586d110584a74b283ca4b0f14161e",
            "4b9e22b10e934cd4960fc7d9a63f6841",
            "cfec61ace76a456fa77703bb3735bfc5",
            "3c192a65667a4353a581372cf2be9f05",
            "15f0ccbeb01d45fe81069d597cafeeb5",
            "d7bfeb3e4b6f49db9dc028de7f008c18",
            "1ddd22bd435840c88883ab7526740e24",
            "5c456ed12b6349ecb47210e33ace2b89",
            "63dedbf4260d4d13992a1f0f603d4216",
            "742f6d4e71f84fe08cf4b1b124156636",
            "9a0168e214004275a57ece8afaa1cfcf",
            "49cad58658144da396a868f245b0fd3e",
            "df200c8929b84160aa3ff2e532ea099e",
            "f9bb32c0e75141d897410a3c52d92189",
            "4dd5aefcea02457e97266774b6c66e49",
            "17bffb27f99f460288fdf962e1c713e0",
            "24c5cba1a13d444383bc51077cf29435",
            "723da0f89903427e8ae1f283d47c5ee0",
            "87efe7df8aa94fe2873230ad61cd9cad",
            "16c4437ec5fc4934b03fae2c5788d23a",
            "51c83153e53549e89979d5f6632b4730",
            "f7c8a5cf88c549baa2d028c18aaa0823",
            "488541ad0bec426996766f85c31ceaef",
            "35ab3a14e2e845c2a208f17fd485fffb",
            "b25f6c7331c24f6995d52e27211a988d",
            "902c04b326974c0fb5b1b921b95103b7",
            "1379f94abf6f4b49858b970358a9fe15",
            "e9d2ac3e3d654fd68b65f0f49cd3f99e",
            "c7b8f7c37d0c47e4a93bc833977fd91e",
            "1e56784136d44ba4a27e69f6f860a1dd",
            "4de1627a74a3438e8460aab64f93f18c",
            "4741dfb9e9bd4c748cf1bb9e0e5d0dca",
            "b0e24e855d5f48d0b9a859b3ad0738f8",
            "237d0fad733c41af8abc815e77ec1fac",
            "f605a4e6b23442e3b733afc047c118fe",
            "0b28b4f1ee9243fbbf1c374f6f0639fa",
            "1ed1f47598a2475cbb1c1703f3704b28",
            "7ab2d30369a2457fbaf9e472a54c5b33",
            "c4d437084cad4f5bb215604068978d8b",
            "2893bf69d3594697a73daeb27f8cf609",
            "1c3ee001c44c4c74a59abc1f11ecc0fd",
            "641d6114db1c401ba1e08847d6f0c282",
            "d92d7b399ef743a19f79be5d13f54365",
            "483caa70b92e459fa0ea42f72d861e7a",
            "4b9737bfd2f74a5f84963282f5d0d652",
            "3b6c55eaa5534407b32883428d7942d9",
            "bd545debcc1041e6bc69cdb3bbdd53f0",
            "813a8873ba314dd4891ffc8cca9bcc5f",
            "f626a72ac65b4574982625093ac95ea1",
            "332e854f3f264c54a861eb889de8b790",
            "efaf58b87de34aeb8d6a27d1772b744b",
            "88fbb5dc2cce43dc99b9322035d65a6b",
            "72773dad8e43404cb4c8312a3117607e",
            "dcf6f593926c4404ad4c99c626b9b6de",
            "a5be8b54419348e380714fab8ec4c639",
            "6917c56d44fc4cae8e62e0e1a114617b",
            "0c29c48858174896aa30269a674e7d36",
            "d46ce8547a90463faf35ea81733f5209",
            "c16dacc3e14f4ed6a33b8a04128b1b3c",
            "33816a869dc945de9c95ad7270544e9e",
            "8a76e1b6d9304dc382fad7d7cd13c8f9",
            "6c595ab0cc8a4772866f57963ad9c886",
            "850197bb6d8f4aa0a4fa0b4696c67cc8",
            "631aae99e9f54db29028c63f7c0dac73",
            "3b4fcc7ac0584dbe925325a1c134973e"
          ]
        },
        "outputId": "fb47e11c-063b-4ac0-f12a-b1847fc2aa76"
      },
      "execution_count": 3,
      "outputs": [
        {
          "output_type": "stream",
          "name": "stderr",
          "text": [
            "/usr/local/lib/python3.10/dist-packages/huggingface_hub/utils/_token.py:88: UserWarning: \n",
            "The secret `HF_TOKEN` does not exist in your Colab secrets.\n",
            "To authenticate with the Hugging Face Hub, create a token in your settings tab (https://huggingface.co/settings/tokens), set it as secret in your Google Colab and restart your session.\n",
            "You will be able to reuse this secret in all of your notebooks.\n",
            "Please note that authentication is recommended but still optional to access public models or datasets.\n",
            "  warnings.warn(\n"
          ]
        },
        {
          "output_type": "display_data",
          "data": {
            "text/plain": [
              "tokenizer_config.json:   0%|          | 0.00/728 [00:00<?, ?B/s]"
            ],
            "application/vnd.jupyter.widget-view+json": {
              "version_major": 2,
              "version_minor": 0,
              "model_id": "5288b74568734c77b3d951df03f92a1f"
            }
          },
          "metadata": {}
        },
        {
          "output_type": "display_data",
          "data": {
            "text/plain": [
              "vocab.json:   0%|          | 0.00/1.16M [00:00<?, ?B/s]"
            ],
            "application/vnd.jupyter.widget-view+json": {
              "version_major": 2,
              "version_minor": 0,
              "model_id": "51e6ea24306e4abf8c8aeafc4a769d7c"
            }
          },
          "metadata": {}
        },
        {
          "output_type": "display_data",
          "data": {
            "text/plain": [
              "merges.txt:   0%|          | 0.00/875k [00:00<?, ?B/s]"
            ],
            "application/vnd.jupyter.widget-view+json": {
              "version_major": 2,
              "version_minor": 0,
              "model_id": "9a0168e214004275a57ece8afaa1cfcf"
            }
          },
          "metadata": {}
        },
        {
          "output_type": "display_data",
          "data": {
            "text/plain": [
              "added_tokens.json:   0%|          | 0.00/14.0 [00:00<?, ?B/s]"
            ],
            "application/vnd.jupyter.widget-view+json": {
              "version_major": 2,
              "version_minor": 0,
              "model_id": "f7c8a5cf88c549baa2d028c18aaa0823"
            }
          },
          "metadata": {}
        },
        {
          "output_type": "display_data",
          "data": {
            "text/plain": [
              "special_tokens_map.json:   0%|          | 0.00/104 [00:00<?, ?B/s]"
            ],
            "application/vnd.jupyter.widget-view+json": {
              "version_major": 2,
              "version_minor": 0,
              "model_id": "b0e24e855d5f48d0b9a859b3ad0738f8"
            }
          },
          "metadata": {}
        },
        {
          "output_type": "display_data",
          "data": {
            "text/plain": [
              "tokenizer.json:   0%|          | 0.00/2.75M [00:00<?, ?B/s]"
            ],
            "application/vnd.jupyter.widget-view+json": {
              "version_major": 2,
              "version_minor": 0,
              "model_id": "483caa70b92e459fa0ea42f72d861e7a"
            }
          },
          "metadata": {}
        },
        {
          "output_type": "display_data",
          "data": {
            "text/plain": [
              "config.json:   0%|          | 0.00/808 [00:00<?, ?B/s]"
            ],
            "application/vnd.jupyter.widget-view+json": {
              "version_major": 2,
              "version_minor": 0,
              "model_id": "a5be8b54419348e380714fab8ec4c639"
            }
          },
          "metadata": {}
        }
      ]
    },
    {
      "cell_type": "code",
      "source": [
        "print(len(pairs[0][0]))# So, for example, we have 48 vowels for the couplet( every couplet is made up of two hemistiches)\n",
        "print(pairs[0][0])# The first couplet\n",
        "print(pairs[0][1])# The second couplet"
      ],
      "metadata": {
        "colab": {
          "base_uri": "https://localhost:8080/"
        },
        "id": "PKTtzHYO5WbA",
        "outputId": "676e4d22-7461-481b-b418-35fb1699bfc6"
      },
      "execution_count": 12,
      "outputs": [
        {
          "output_type": "stream",
          "name": "stdout",
          "text": [
            "48\n",
            "به نام خداوند جان و خرد کزین برتر اندیشه برنگذرد\n",
            "خداوند نام و خداوند جای خداوند روزی ده رهنمای\n"
          ]
        }
      ]
    },
    {
      "cell_type": "code",
      "source": [
        "\n",
        "# Split all the couplets to train dataset and test dataset\n",
        "train_couplets = pairs[:int(len(pairs)*0.8)]\n",
        "test_couplets = pairs[int(len(pairs)*0.8):]\n"
      ],
      "metadata": {
        "id": "0nn3kjZ_cBgx"
      },
      "execution_count": 5,
      "outputs": []
    },
    {
      "cell_type": "markdown",
      "source": [
        "**قسمت ب**"
      ],
      "metadata": {
        "id": "Y1Gw1lazhvEu"
      }
    },
    {
      "cell_type": "code",
      "source": [
        "\n",
        "\n",
        "\n",
        "def to_device(data, device):\n",
        "    # for every batch, we pass the data to the current device.\n",
        "    if isinstance(data, (list,tuple)):\n",
        "        return [to_device(x, device) for x in data]\n",
        "    return data.to(device, non_blocking=True)\n",
        "\n",
        "\n",
        "\n",
        "class DeviceDataLoader():\n",
        "    def __init__(self, dl, device):\n",
        "        self.dl=dl\n",
        "        self.device=device\n",
        "\n",
        "    def __iter__(self):\n",
        "        #For every batch, we pass it to the current device.\n",
        "        for b in self.dl:\n",
        "            yield to_device(b, self.device)\n",
        "\n",
        "    def __len__(self):\n",
        "        return len(self.dl)\n",
        "\n",
        "# Selecting the current device\n",
        "if torch.cuda.is_available():\n",
        "      device=torch.device('cuda')\n",
        "else:\n",
        "      device=torch.device('cpu')\n",
        "\n",
        "\n",
        "# Tokenize the train and test pairs for every first and second couplet of train and test datasets, we consider the length 80 for tokens\n",
        "train_first_token = [tokenizer.encode_plus(pair[0], add_special_tokens=True,padding='max_length',max_length=80,return_tensors='pt',truncation=True) for pair in train_couplets]\n",
        "train_second_token = [tokenizer.encode_plus(pair[1], add_special_tokens=True,padding='max_length',max_length=80,return_tensors='pt',truncation=True) for pair in train_couplets]\n",
        "test_first_token = [tokenizer.encode_plus(pair[0], add_special_tokens=True,padding='max_length',max_length=80,return_tensors='pt',truncation=True) for pair in test_couplets]\n",
        "test_second_token = [tokenizer.encode_plus(pair[1], add_special_tokens=True,padding='max_length',max_length=80,return_tensors='pt',truncation=True) for pair in test_couplets]\n",
        "\n",
        "\n",
        "#### Dataset and Dataloader\n",
        "\n",
        "class CoupletsDatasetProducer(Dataset):\n",
        "  def __init__(self,first,second):\n",
        "    self.first=first# first couplet\n",
        "    self.second=second# second couplet\n",
        "\n",
        "  def __getitem__(self,index):\n",
        "    # We have 3 important variables, input_model,input_attention and output_model\n",
        "    # We send input_model which is the first couplet and receive output_model which is the second couplet\n",
        "    # Also, we need to define input_attention\n",
        "    # because the sizes of tokens are not necessary equal, so we need to tell the model to pay attention to non zero tokens\n",
        "    # Thus we use  .attention_mask to solve this issue.\n",
        "\n",
        "    input_tokens = self.first[index]\n",
        "    output_tokens = self.second[index]\n",
        "    input_model = input_tokens.input_ids\n",
        "    input_attention = input_tokens.attention_mask\n",
        "    output_model=output_tokens.input_ids\n",
        "    return input_model, input_attention, output_model\n",
        "\n",
        "  def __len__(self):\n",
        "    return len(self.first)\n",
        "\n",
        "\n",
        "train_dataset = CoupletsDatasetProducer(train_first_token,train_second_token)\n",
        "test_dataset = CoupletsDatasetProducer(test_first_token,test_second_token)\n",
        "\n",
        "train_dl = DataLoader(train_dataset,batch_size=32,shuffle=False)\n",
        "test_dl = DataLoader(test_dataset,batch_size=32,shuffle=False)\n",
        "\n",
        "train_dl=DeviceDataLoader(train_dl,device)\n",
        "test_dl=DeviceDataLoader(test_dl,device)"
      ],
      "metadata": {
        "id": "fhiCQItQXjcS"
      },
      "execution_count": 6,
      "outputs": []
    },
    {
      "cell_type": "code",
      "source": [
        "print(len(train_dataset))\n",
        "print(train_dataset[15])\n",
        "print(test_dataset[8])\n"
      ],
      "metadata": {
        "colab": {
          "base_uri": "https://localhost:8080/"
        },
        "id": "lqDyJezMZYER",
        "outputId": "64a5d366-ba2c-43bb-eb89-a21aac893d88"
      },
      "execution_count": 7,
      "outputs": [
        {
          "output_type": "stream",
          "name": "stdout",
          "text": [
            "19843\n",
            "(tensor([[ 1175,   520, 21337, 12841,  2964,  2969,   798,   902,  5170, 15233,\n",
            "          1257,     5,     5,     5,     5,     5,     5,     5,     5,     5,\n",
            "             5,     5,     5,     5,     5,     5,     5,     5,     5,     5,\n",
            "             5,     5,     5,     5,     5,     5,     5,     5,     5,     5,\n",
            "             5,     5,     5,     5,     5,     5,     5,     5,     5,     5,\n",
            "             5,     5,     5,     5,     5,     5,     5,     5,     5,     5,\n",
            "             5,     5,     5,     5,     5,     5,     5,     5,     5,     5,\n",
            "             5,     5,     5,     5,     5,     5,     5,     5,     5,     5]]), tensor([[1, 1, 1, 1, 1, 1, 1, 1, 1, 1, 1, 0, 0, 0, 0, 0, 0, 0, 0, 0, 0, 0, 0, 0,\n",
            "         0, 0, 0, 0, 0, 0, 0, 0, 0, 0, 0, 0, 0, 0, 0, 0, 0, 0, 0, 0, 0, 0, 0, 0,\n",
            "         0, 0, 0, 0, 0, 0, 0, 0, 0, 0, 0, 0, 0, 0, 0, 0, 0, 0, 0, 0, 0, 0, 0, 0,\n",
            "         0, 0, 0, 0, 0, 0, 0, 0]]), tensor([[ 1175,   399,   610,  3953, 27093,   312,  2964,   323,   696,   391,\n",
            "           444,   488, 18658,  1583,     5,     5,     5,     5,     5,     5,\n",
            "             5,     5,     5,     5,     5,     5,     5,     5,     5,     5,\n",
            "             5,     5,     5,     5,     5,     5,     5,     5,     5,     5,\n",
            "             5,     5,     5,     5,     5,     5,     5,     5,     5,     5,\n",
            "             5,     5,     5,     5,     5,     5,     5,     5,     5,     5,\n",
            "             5,     5,     5,     5,     5,     5,     5,     5,     5,     5,\n",
            "             5,     5,     5,     5,     5,     5,     5,     5,     5,     5]]))\n",
            "(tensor([[  281,  3833,  2984, 13052,   477,   364,   481, 10808,  1857,  1088,\n",
            "          1958,   293, 17084,   358,  3282,     5,     5,     5,     5,     5,\n",
            "             5,     5,     5,     5,     5,     5,     5,     5,     5,     5,\n",
            "             5,     5,     5,     5,     5,     5,     5,     5,     5,     5,\n",
            "             5,     5,     5,     5,     5,     5,     5,     5,     5,     5,\n",
            "             5,     5,     5,     5,     5,     5,     5,     5,     5,     5,\n",
            "             5,     5,     5,     5,     5,     5,     5,     5,     5,     5,\n",
            "             5,     5,     5,     5,     5,     5,     5,     5,     5,     5]]), tensor([[1, 1, 1, 1, 1, 1, 1, 1, 1, 1, 1, 1, 1, 1, 1, 0, 0, 0, 0, 0, 0, 0, 0, 0,\n",
            "         0, 0, 0, 0, 0, 0, 0, 0, 0, 0, 0, 0, 0, 0, 0, 0, 0, 0, 0, 0, 0, 0, 0, 0,\n",
            "         0, 0, 0, 0, 0, 0, 0, 0, 0, 0, 0, 0, 0, 0, 0, 0, 0, 0, 0, 0, 0, 0, 0, 0,\n",
            "         0, 0, 0, 0, 0, 0, 0, 0]]), tensor([[ 2984,   273,   580, 10808,   288,   293, 17084,   425,   449,   561,\n",
            "          2444,   293,  1059,  4216,     5,     5,     5,     5,     5,     5,\n",
            "             5,     5,     5,     5,     5,     5,     5,     5,     5,     5,\n",
            "             5,     5,     5,     5,     5,     5,     5,     5,     5,     5,\n",
            "             5,     5,     5,     5,     5,     5,     5,     5,     5,     5,\n",
            "             5,     5,     5,     5,     5,     5,     5,     5,     5,     5,\n",
            "             5,     5,     5,     5,     5,     5,     5,     5,     5,     5,\n",
            "             5,     5,     5,     5,     5,     5,     5,     5,     5,     5]]))\n"
          ]
        }
      ]
    },
    {
      "cell_type": "markdown",
      "source": [
        "**قسمت ج**"
      ],
      "metadata": {
        "id": "MxiFpP6Wh59s"
      }
    },
    {
      "cell_type": "code",
      "source": [
        "\n",
        "model=GPT2LMHeadModel.from_pretrained('HooshvareLab/gpt2-fa')\n",
        "\n",
        "for param in model.parameters():\n",
        "    param.requires_grad=True\n",
        "\n",
        "model.to(device)\n",
        "optimizer=torch.optim.Adam(model.parameters(),lr=1e-4)\n",
        "num_epochs=5\n",
        "losses=[]\n",
        "for epoch in range(num_epochs):\n",
        "    i=0\n",
        "    model.train()\n",
        "    for inputs,attention,labels in train_dl:\n",
        "\n",
        "        model=model.to(device)\n",
        "        i=i+1\n",
        "\n",
        "        inputs=inputs.to(device)\n",
        "        attention=attention.to(device)\n",
        "        labels=labels.to(device)\n",
        "\n",
        "\n",
        "        outputs = model(inputs.to(torch.long),attention_mask=attention,labels=inputs.to(torch.long))# passing input tokens, attention mask and labels to the model for calculating the loss but it\n",
        "        # seems that if we pass the inputs as labels the loss, and also the generated text will be better!\n",
        "\n",
        "        loss=outputs.loss# I asked from TA and it seems that we should use the output of the model to find the loss!!\n",
        "        losses.append(loss.item())\n",
        "\n",
        "\n",
        "        loss.backward()\n",
        "        optimizer.step()\n",
        "        optimizer.zero_grad()\n",
        "\n",
        "        if i %20==0:\n",
        "\n",
        "            input_sentence= tokenizer.batch_decode(inputs[0].to('cpu'), skip_special_tokens=True)# Making the sentence from tokens again!\n",
        "            model.eval()\n",
        "            tokenized_input=tokenizer.encode_plus(input_sentence,return_tensors='pt',max_length=80).to(device)# Constructing the tokens of input of the model and attention\n",
        "            # Now we use model.generate to generate new sentences, we should pass it input tokens, and attention mask, all other parameters are arbitrary but we fine tuned them.\n",
        "\n",
        "            out_model=model.generate(tokenized_input['input_ids'],do_sample=True,max_length=128, temperature=0.999, attention_mask=tokenized_input['attention_mask'])\n",
        "\n",
        "            print(\"Real sentence is:\\n\",input_sentence)\n",
        "            print(\"Generated sentence is:\\n\",[tokenizer.decode(out_model[i],skip_special_tokens=True) for i in range(len(out_model))])\n",
        "\n",
        "\n",
        "            print(\"Epoch is:\",epoch+1,\"\\nIteration is:\",i,\"      Loss is:\",loss.item(),)\n",
        "\n",
        "\n",
        "\n"
      ],
      "metadata": {
        "id": "Vruf2ksU3fwf",
        "colab": {
          "base_uri": "https://localhost:8080/"
        },
        "outputId": "13e20094-cd11-47c3-bfdc-06db5595671d"
      },
      "execution_count": 10,
      "outputs": [
        {
          "output_type": "stream",
          "name": "stderr",
          "text": [
            "Setting `pad_token_id` to `eos_token_id`:5 for open-end generation.\n",
            "A decoder-only architecture is being used, but right-padding was detected! For correct generation results, please set `padding_side='left'` when initializing the tokenizer.\n"
          ]
        },
        {
          "output_type": "stream",
          "name": "stdout",
          "text": [
            "Real sentence is:\n",
            " ['خورشگر بدیشان بزی چند و میش سپردی و صحرا نهادند پیش']\n",
            "Generated sentence is:\n",
            " ['']\n",
            "Epoch is: 1 \n",
            "Iteration is: 20       Loss is: 1.6294913291931152\n"
          ]
        },
        {
          "output_type": "stream",
          "name": "stderr",
          "text": [
            "Setting `pad_token_id` to `eos_token_id`:5 for open-end generation.\n",
            "A decoder-only architecture is being used, but right-padding was detected! For correct generation results, please set `padding_side='left'` when initializing the tokenizer.\n"
          ]
        },
        {
          "output_type": "stream",
          "name": "stdout",
          "text": [
            "Real sentence is:\n",
            " ['سزد گر بمانیم هر دو دژم کزین سان پدر کرد بر ما ستم']\n",
            "Generated sentence is:\n",
            " ['ى با سخن گفت یکی از جهان بخت']\n",
            "Epoch is: 1 \n",
            "Iteration is: 40       Loss is: 1.1919894218444824\n"
          ]
        },
        {
          "output_type": "stream",
          "name": "stderr",
          "text": [
            "Setting `pad_token_id` to `eos_token_id`:5 for open-end generation.\n",
            "A decoder-only architecture is being used, but right-padding was detected! For correct generation results, please set `padding_side='left'` when initializing the tokenizer.\n"
          ]
        },
        {
          "output_type": "stream",
          "name": "stdout",
          "text": [
            "Real sentence is:\n",
            " ['سپاهی بدین رزمگاه آمدیم نه بر آرزو کینه خواه آمدیم']\n",
            "Generated sentence is:\n",
            " ['ش بود گفت جهان را شاه و تخت شاهی کرد و تاج سر ضحاک']\n",
            "Epoch is: 1 \n",
            "Iteration is: 60       Loss is: 1.1525086164474487\n"
          ]
        },
        {
          "output_type": "stream",
          "name": "stderr",
          "text": [
            "Setting `pad_token_id` to `eos_token_id`:5 for open-end generation.\n",
            "A decoder-only architecture is being used, but right-padding was detected! For correct generation results, please set `padding_side='left'` when initializing the tokenizer.\n"
          ]
        },
        {
          "output_type": "stream",
          "name": "stdout",
          "text": [
            "Real sentence is:\n",
            " ['بدیدند مر پهلوان را پگاه وزان جایگه برگرفتند راه']\n",
            "Generated sentence is:\n",
            " [' ای که از سر نیزه یک کوه باشد شیر هم بر چون دل بجوی']\n",
            "Epoch is: 1 \n",
            "Iteration is: 80       Loss is: 1.0667824745178223\n"
          ]
        },
        {
          "output_type": "stream",
          "name": "stderr",
          "text": [
            "Setting `pad_token_id` to `eos_token_id`:5 for open-end generation.\n",
            "A decoder-only architecture is being used, but right-padding was detected! For correct generation results, please set `padding_side='left'` when initializing the tokenizer.\n"
          ]
        },
        {
          "output_type": "stream",
          "name": "stdout",
          "text": [
            "Real sentence is:\n",
            " ['چو از خوان خسرو بپرداختند به تخت دگر جای می ساختند']\n",
            "Generated sentence is:\n",
            " ['']\n",
            "Epoch is: 1 \n",
            "Iteration is: 100       Loss is: 1.0331223011016846\n"
          ]
        },
        {
          "output_type": "stream",
          "name": "stderr",
          "text": [
            "Setting `pad_token_id` to `eos_token_id`:5 for open-end generation.\n",
            "A decoder-only architecture is being used, but right-padding was detected! For correct generation results, please set `padding_side='left'` when initializing the tokenizer.\n"
          ]
        },
        {
          "output_type": "stream",
          "name": "stdout",
          "text": [
            "Real sentence is:\n",
            " ['شب آمد جهان سر به سر تیره گشت مرا بازو از کوفتن خیره گشت']\n",
            "Generated sentence is:\n",
            " ['اید که با سر راه راه رفتن با پای تخت خواب همی شد ز شاه چین به زمان']\n",
            "Epoch is: 1 \n",
            "Iteration is: 120       Loss is: 1.0037771463394165\n"
          ]
        },
        {
          "output_type": "stream",
          "name": "stderr",
          "text": [
            "Setting `pad_token_id` to `eos_token_id`:5 for open-end generation.\n",
            "A decoder-only architecture is being used, but right-padding was detected! For correct generation results, please set `padding_side='left'` when initializing the tokenizer.\n"
          ]
        },
        {
          "output_type": "stream",
          "name": "stdout",
          "text": [
            "Real sentence is:\n",
            " ['ز گرد سواران در آن پهن دشت زمین شش شد و آسمان گشت هشت']\n",
            "Generated sentence is:\n",
            " ['گان را به زمین زد هر چه که تو خواستند به دستان تاختند']\n",
            "Epoch is: 1 \n",
            "Iteration is: 140       Loss is: 1.0339171886444092\n"
          ]
        },
        {
          "output_type": "stream",
          "name": "stderr",
          "text": [
            "Setting `pad_token_id` to `eos_token_id`:5 for open-end generation.\n",
            "A decoder-only architecture is being used, but right-padding was detected! For correct generation results, please set `padding_side='left'` when initializing the tokenizer.\n"
          ]
        },
        {
          "output_type": "stream",
          "name": "stdout",
          "text": [
            "Real sentence is:\n",
            " ['پراگنده در پادشاهی سوار همانا که هستند سیصدهزار']\n",
            "Generated sentence is:\n",
            " [' اندر آید کیستی یکی به تو بدار بر تو بداد از او']\n",
            "Epoch is: 1 \n",
            "Iteration is: 160       Loss is: 1.0183181762695312\n"
          ]
        },
        {
          "output_type": "stream",
          "name": "stderr",
          "text": [
            "Setting `pad_token_id` to `eos_token_id`:5 for open-end generation.\n",
            "A decoder-only architecture is being used, but right-padding was detected! For correct generation results, please set `padding_side='left'` when initializing the tokenizer.\n"
          ]
        },
        {
          "output_type": "stream",
          "name": "stdout",
          "text": [
            "Real sentence is:\n",
            " ['خبر شد به شاه هماور ازین که رستم نهادست بر رخش زین']\n",
            "Generated sentence is:\n",
            " ['گان باید به آن گروه داد از جنگ و تیمار بر دیوان گردان']\n",
            "Epoch is: 1 \n",
            "Iteration is: 180       Loss is: 0.8959699273109436\n"
          ]
        },
        {
          "output_type": "stream",
          "name": "stderr",
          "text": [
            "Setting `pad_token_id` to `eos_token_id`:5 for open-end generation.\n",
            "A decoder-only architecture is being used, but right-padding was detected! For correct generation results, please set `padding_side='left'` when initializing the tokenizer.\n"
          ]
        },
        {
          "output_type": "stream",
          "name": "stdout",
          "text": [
            "Real sentence is:\n",
            " ['نهانی بسازیم بهتر بود خرد داشتن کار مهتر بود']\n",
            "Generated sentence is:\n",
            " ['ش ز گنج و ز بیابان آید بی نیاز ز شکار']\n",
            "Epoch is: 1 \n",
            "Iteration is: 200       Loss is: 1.0052489042282104\n"
          ]
        },
        {
          "output_type": "stream",
          "name": "stderr",
          "text": [
            "Setting `pad_token_id` to `eos_token_id`:5 for open-end generation.\n",
            "A decoder-only architecture is being used, but right-padding was detected! For correct generation results, please set `padding_side='left'` when initializing the tokenizer.\n"
          ]
        },
        {
          "output_type": "stream",
          "name": "stdout",
          "text": [
            "Real sentence is:\n",
            " ['همی ماند رستم ازو در شگفت ز پیگارش اندازه ها برگرفت']\n",
            "Generated sentence is:\n",
            " ['م که این کار و این آیین را دیده گفت من چه کنم']\n",
            "Epoch is: 1 \n",
            "Iteration is: 220       Loss is: 0.9644824862480164\n"
          ]
        },
        {
          "output_type": "stream",
          "name": "stderr",
          "text": [
            "Setting `pad_token_id` to `eos_token_id`:5 for open-end generation.\n",
            "A decoder-only architecture is being used, but right-padding was detected! For correct generation results, please set `padding_side='left'` when initializing the tokenizer.\n"
          ]
        },
        {
          "output_type": "stream",
          "name": "stdout",
          "text": [
            "Real sentence is:\n",
            " ['ز هر در سخن چون بدین گونه گشت بر آتش یکی را بباید گذشت']\n",
            "Generated sentence is:\n",
            " ['وان مرا بدین که در سراسر مرا بباید کنم روی']\n",
            "Epoch is: 1 \n",
            "Iteration is: 240       Loss is: 0.9637762308120728\n"
          ]
        },
        {
          "output_type": "stream",
          "name": "stderr",
          "text": [
            "Setting `pad_token_id` to `eos_token_id`:5 for open-end generation.\n",
            "A decoder-only architecture is being used, but right-padding was detected! For correct generation results, please set `padding_side='left'` when initializing the tokenizer.\n"
          ]
        },
        {
          "output_type": "stream",
          "name": "stdout",
          "text": [
            "Real sentence is:\n",
            " ['ز کاووس وز خام گفتار او ز خوی بد و رای و پیگار او']\n",
            "Generated sentence is:\n",
            " [' را از با او نگه داشت به تندی و با مهر و خردان پرامید']\n",
            "Epoch is: 1 \n",
            "Iteration is: 260       Loss is: 0.9111366868019104\n"
          ]
        },
        {
          "output_type": "stream",
          "name": "stderr",
          "text": [
            "Setting `pad_token_id` to `eos_token_id`:5 for open-end generation.\n",
            "A decoder-only architecture is being used, but right-padding was detected! For correct generation results, please set `padding_side='left'` when initializing the tokenizer.\n"
          ]
        },
        {
          "output_type": "stream",
          "name": "stdout",
          "text": [
            "Real sentence is:\n",
            " ['هرآنکس که او از در کار بود بدان مرز با او سزاوار بود']\n",
            "Generated sentence is:\n",
            " [' همه با او به هم رای پر شتابنده ست و پر ز خواب']\n",
            "Epoch is: 1 \n",
            "Iteration is: 280       Loss is: 0.8842714428901672\n"
          ]
        },
        {
          "output_type": "stream",
          "name": "stderr",
          "text": [
            "Setting `pad_token_id` to `eos_token_id`:5 for open-end generation.\n",
            "A decoder-only architecture is being used, but right-padding was detected! For correct generation results, please set `padding_side='left'` when initializing the tokenizer.\n"
          ]
        },
        {
          "output_type": "stream",
          "name": "stdout",
          "text": [
            "Real sentence is:\n",
            " ['فرنگیس رانیز خواهند کشت مکن هیچ گونه برین کار پشت']\n",
            "Generated sentence is:\n",
            " ['']\n",
            "Epoch is: 1 \n",
            "Iteration is: 300       Loss is: 0.9314584136009216\n"
          ]
        },
        {
          "output_type": "stream",
          "name": "stderr",
          "text": [
            "Setting `pad_token_id` to `eos_token_id`:5 for open-end generation.\n",
            "A decoder-only architecture is being used, but right-padding was detected! For correct generation results, please set `padding_side='left'` when initializing the tokenizer.\n"
          ]
        },
        {
          "output_type": "stream",
          "name": "stdout",
          "text": [
            "Real sentence is:\n",
            " ['بران ابر باران خجسته سروش به گودرز گفتی که بگشای گوش']\n",
            "Generated sentence is:\n",
            " ['وی برکشید تا به خاک اندر آورد همی تا به پیش او که بر خاک پر از خاک انداختی']\n",
            "Epoch is: 1 \n",
            "Iteration is: 320       Loss is: 0.9061257839202881\n"
          ]
        },
        {
          "output_type": "stream",
          "name": "stderr",
          "text": [
            "Setting `pad_token_id` to `eos_token_id`:5 for open-end generation.\n",
            "A decoder-only architecture is being used, but right-padding was detected! For correct generation results, please set `padding_side='left'` when initializing the tokenizer.\n"
          ]
        },
        {
          "output_type": "stream",
          "name": "stdout",
          "text": [
            "Real sentence is:\n",
            " ['چو خورشید برزد سر از برج شیر سپهر اندر آورد شب را به زیر']\n",
            "Generated sentence is:\n",
            " ['']\n",
            "Epoch is: 1 \n",
            "Iteration is: 340       Loss is: 0.9036731719970703\n"
          ]
        },
        {
          "output_type": "stream",
          "name": "stderr",
          "text": [
            "Setting `pad_token_id` to `eos_token_id`:5 for open-end generation.\n",
            "A decoder-only architecture is being used, but right-padding was detected! For correct generation results, please set `padding_side='left'` when initializing the tokenizer.\n"
          ]
        },
        {
          "output_type": "stream",
          "name": "stdout",
          "text": [
            "Real sentence is:\n",
            " ['درفشی کجا شیر پیکر بزر که گودرز کشواد دارد بسر']\n",
            "Generated sentence is:\n",
            " ['']\n",
            "Epoch is: 1 \n",
            "Iteration is: 360       Loss is: 0.9666824340820312\n"
          ]
        },
        {
          "output_type": "stream",
          "name": "stderr",
          "text": [
            "Setting `pad_token_id` to `eos_token_id`:5 for open-end generation.\n",
            "A decoder-only architecture is being used, but right-padding was detected! For correct generation results, please set `padding_side='left'` when initializing the tokenizer.\n"
          ]
        },
        {
          "output_type": "stream",
          "name": "stdout",
          "text": [
            "Real sentence is:\n",
            " ['بیامد باسپ اندر آورد پای بکردار باد اندر آمد ز جای']\n",
            "Generated sentence is:\n",
            " [' نام از آن باره رنج بی نیاز شد چون دژ و برج و تیغ']\n",
            "Epoch is: 1 \n",
            "Iteration is: 380       Loss is: 0.8974145650863647\n"
          ]
        },
        {
          "output_type": "stream",
          "name": "stderr",
          "text": [
            "Setting `pad_token_id` to `eos_token_id`:5 for open-end generation.\n",
            "A decoder-only architecture is being used, but right-padding was detected! For correct generation results, please set `padding_side='left'` when initializing the tokenizer.\n"
          ]
        },
        {
          "output_type": "stream",
          "name": "stdout",
          "text": [
            "Real sentence is:\n",
            " ['درخشیدن تیغ و ژوپین و خشت تو گفتی شب اندر هوا لاله کشت']\n",
            "Generated sentence is:\n",
            " ['']\n",
            "Epoch is: 1 \n",
            "Iteration is: 400       Loss is: 0.8785375952720642\n"
          ]
        },
        {
          "output_type": "stream",
          "name": "stderr",
          "text": [
            "Setting `pad_token_id` to `eos_token_id`:5 for open-end generation.\n",
            "A decoder-only architecture is being used, but right-padding was detected! For correct generation results, please set `padding_side='left'` when initializing the tokenizer.\n"
          ]
        },
        {
          "output_type": "stream",
          "name": "stdout",
          "text": [
            "Real sentence is:\n",
            " ['چو خاقان بدیدش به بر درگرفت بماند از بر و یال پیران شگفت']\n",
            "Generated sentence is:\n",
            " [' در جنگ بیاراستند که با لشکری جنگست سپاه']\n",
            "Epoch is: 1 \n",
            "Iteration is: 420       Loss is: 0.879861056804657\n"
          ]
        },
        {
          "output_type": "stream",
          "name": "stderr",
          "text": [
            "Setting `pad_token_id` to `eos_token_id`:5 for open-end generation.\n",
            "A decoder-only architecture is being used, but right-padding was detected! For correct generation results, please set `padding_side='left'` when initializing the tokenizer.\n"
          ]
        },
        {
          "output_type": "stream",
          "name": "stdout",
          "text": [
            "Real sentence is:\n",
            " ['نهادند آوردگاهی بزرگ کشانی بیامد بکردار گرگ']\n",
            "Generated sentence is:\n",
            " ['']\n",
            "Epoch is: 1 \n",
            "Iteration is: 440       Loss is: 0.916537344455719\n"
          ]
        },
        {
          "output_type": "stream",
          "name": "stderr",
          "text": [
            "Setting `pad_token_id` to `eos_token_id`:5 for open-end generation.\n",
            "A decoder-only architecture is being used, but right-padding was detected! For correct generation results, please set `padding_side='left'` when initializing the tokenizer.\n"
          ]
        },
        {
          "output_type": "stream",
          "name": "stdout",
          "text": [
            "Real sentence is:\n",
            " ['گریزی بهنگام با سر بجای به از رزم جستن بنام و برای']\n",
            "Generated sentence is:\n",
            " [' ز خون ز پیش او ز من یکی سخن گوست و کردار خون']\n",
            "Epoch is: 1 \n",
            "Iteration is: 460       Loss is: 0.8448768258094788\n"
          ]
        },
        {
          "output_type": "stream",
          "name": "stderr",
          "text": [
            "Setting `pad_token_id` to `eos_token_id`:5 for open-end generation.\n",
            "A decoder-only architecture is being used, but right-padding was detected! For correct generation results, please set `padding_side='left'` when initializing the tokenizer.\n"
          ]
        },
        {
          "output_type": "stream",
          "name": "stdout",
          "text": [
            "Real sentence is:\n",
            " ['بدو گفت کای دیو ناسازگار ببینی کنون گردش روزگار']\n",
            "Generated sentence is:\n",
            " ['وان بگرد شاه بر گرد اندر بداد و سپاه اندر آورد ز گردان']\n",
            "Epoch is: 1 \n",
            "Iteration is: 480       Loss is: 0.8740618824958801\n"
          ]
        },
        {
          "output_type": "stream",
          "name": "stderr",
          "text": [
            "Setting `pad_token_id` to `eos_token_id`:5 for open-end generation.\n",
            "A decoder-only architecture is being used, but right-padding was detected! For correct generation results, please set `padding_side='left'` when initializing the tokenizer.\n"
          ]
        },
        {
          "output_type": "stream",
          "name": "stdout",
          "text": [
            "Real sentence is:\n",
            " ['اگر هست خود جای گفتار نیست ولیکن شنیدن چو دیدار نیست']\n",
            "Generated sentence is:\n",
            " [' و دست از رنج اندرون همه ازو بی یال باد و بی بند']\n",
            "Epoch is: 1 \n",
            "Iteration is: 500       Loss is: 0.9375551342964172\n"
          ]
        },
        {
          "output_type": "stream",
          "name": "stderr",
          "text": [
            "Setting `pad_token_id` to `eos_token_id`:5 for open-end generation.\n",
            "A decoder-only architecture is being used, but right-padding was detected! For correct generation results, please set `padding_side='left'` when initializing the tokenizer.\n"
          ]
        },
        {
          "output_type": "stream",
          "name": "stdout",
          "text": [
            "Real sentence is:\n",
            " ['گرانمایه هفت اسب با کاروان یکی رخش و دیگر نشست گوان']\n",
            "Generated sentence is:\n",
            " [' و ز آفرین که دل بسته از دور و در تو دارم ز گردان تو']\n",
            "Epoch is: 1 \n",
            "Iteration is: 520       Loss is: 0.9064702987670898\n"
          ]
        },
        {
          "output_type": "stream",
          "name": "stderr",
          "text": [
            "Setting `pad_token_id` to `eos_token_id`:5 for open-end generation.\n",
            "A decoder-only architecture is being used, but right-padding was detected! For correct generation results, please set `padding_side='left'` when initializing the tokenizer.\n"
          ]
        },
        {
          "output_type": "stream",
          "name": "stdout",
          "text": [
            "Real sentence is:\n",
            " ['چو پیران بدید آن سپاه بزرگ بخون تشنه هر یک بکردار گرگ']\n",
            "Generated sentence is:\n",
            " ['ده ز گردان سپاه و ز گردان لشکر بدو شد به سپاه']\n",
            "Epoch is: 1 \n",
            "Iteration is: 540       Loss is: 0.8620152473449707\n"
          ]
        },
        {
          "output_type": "stream",
          "name": "stderr",
          "text": [
            "Setting `pad_token_id` to `eos_token_id`:5 for open-end generation.\n",
            "A decoder-only architecture is being used, but right-padding was detected! For correct generation results, please set `padding_side='left'` when initializing the tokenizer.\n"
          ]
        },
        {
          "output_type": "stream",
          "name": "stdout",
          "text": [
            "Real sentence is:\n",
            " ['بلشکر بفرمود پس پهلوان که بیدار باشید و روشن روان']\n",
            "Generated sentence is:\n",
            " [' آن گونه لشکر را بتوران بکین بدگمان نیو']\n",
            "Epoch is: 1 \n",
            "Iteration is: 560       Loss is: 0.819929301738739\n"
          ]
        },
        {
          "output_type": "stream",
          "name": "stderr",
          "text": [
            "Setting `pad_token_id` to `eos_token_id`:5 for open-end generation.\n",
            "A decoder-only architecture is being used, but right-padding was detected! For correct generation results, please set `padding_side='left'` when initializing the tokenizer.\n"
          ]
        },
        {
          "output_type": "stream",
          "name": "stdout",
          "text": [
            "Real sentence is:\n",
            " ['که پشت همه شهر توران بدوست چو روی تو بیند بدردش پوست']\n",
            "Generated sentence is:\n",
            " [' ازان کس را که این داستان سر از تخم تو ناید با کس']\n",
            "Epoch is: 1 \n",
            "Iteration is: 580       Loss is: 0.820182204246521\n"
          ]
        },
        {
          "output_type": "stream",
          "name": "stderr",
          "text": [
            "Setting `pad_token_id` to `eos_token_id`:5 for open-end generation.\n",
            "A decoder-only architecture is being used, but right-padding was detected! For correct generation results, please set `padding_side='left'` when initializing the tokenizer.\n"
          ]
        },
        {
          "output_type": "stream",
          "name": "stdout",
          "text": [
            "Real sentence is:\n",
            " ['بزنهار بر ما کنون عار نیست سپاهست بسیار و سالار نیست']\n",
            "Generated sentence is:\n",
            " ['']\n",
            "Epoch is: 1 \n",
            "Iteration is: 600       Loss is: 0.8117125034332275\n"
          ]
        },
        {
          "output_type": "stream",
          "name": "stderr",
          "text": [
            "Setting `pad_token_id` to `eos_token_id`:5 for open-end generation.\n",
            "A decoder-only architecture is being used, but right-padding was detected! For correct generation results, please set `padding_side='left'` when initializing the tokenizer.\n"
          ]
        },
        {
          "output_type": "stream",
          "name": "stdout",
          "text": [
            "Real sentence is:\n",
            " ['دمادم فرستد سلیح و سپاه خورش را شتر نگسلاند ز راه']\n",
            "Generated sentence is:\n",
            " [' نامداران مرد و با هوش و مهرش بر شاه گستهم']\n",
            "Epoch is: 1 \n",
            "Iteration is: 620       Loss is: 0.8599324226379395\n"
          ]
        },
        {
          "output_type": "stream",
          "name": "stderr",
          "text": [
            "Setting `pad_token_id` to `eos_token_id`:5 for open-end generation.\n",
            "A decoder-only architecture is being used, but right-padding was detected! For correct generation results, please set `padding_side='left'` when initializing the tokenizer.\n"
          ]
        },
        {
          "output_type": "stream",
          "name": "stdout",
          "text": [
            "Real sentence is:\n",
            " ['خورشگر بدیشان بزی چند و میش سپردی و صحرا نهادند پیش']\n",
            "Generated sentence is:\n",
            " [' نه کسی که ببایست همی گفت بدشت به کین همی']\n",
            "Epoch is: 2 \n",
            "Iteration is: 20       Loss is: 0.951231837272644\n"
          ]
        },
        {
          "output_type": "stream",
          "name": "stderr",
          "text": [
            "Setting `pad_token_id` to `eos_token_id`:5 for open-end generation.\n",
            "A decoder-only architecture is being used, but right-padding was detected! For correct generation results, please set `padding_side='left'` when initializing the tokenizer.\n"
          ]
        },
        {
          "output_type": "stream",
          "name": "stdout",
          "text": [
            "Real sentence is:\n",
            " ['سزد گر بمانیم هر دو دژم کزین سان پدر کرد بر ما ستم']\n",
            "Generated sentence is:\n",
            " [' ازو بر به تخت بر تخت برآمد چو نام شاه بر نهفت بر تخت گاه']\n",
            "Epoch is: 2 \n",
            "Iteration is: 40       Loss is: 0.8539609313011169\n"
          ]
        },
        {
          "output_type": "stream",
          "name": "stderr",
          "text": [
            "Setting `pad_token_id` to `eos_token_id`:5 for open-end generation.\n",
            "A decoder-only architecture is being used, but right-padding was detected! For correct generation results, please set `padding_side='left'` when initializing the tokenizer.\n"
          ]
        },
        {
          "output_type": "stream",
          "name": "stdout",
          "text": [
            "Real sentence is:\n",
            " ['سپاهی بدین رزمگاه آمدیم نه بر آرزو کینه خواه آمدیم']\n",
            "Generated sentence is:\n",
            " [' و شاه ز ما یکی دو دیده بان و ز ما آن سه شاه را']\n",
            "Epoch is: 2 \n",
            "Iteration is: 60       Loss is: 0.8031047582626343\n"
          ]
        },
        {
          "output_type": "stream",
          "name": "stderr",
          "text": [
            "Setting `pad_token_id` to `eos_token_id`:5 for open-end generation.\n",
            "A decoder-only architecture is being used, but right-padding was detected! For correct generation results, please set `padding_side='left'` when initializing the tokenizer.\n"
          ]
        },
        {
          "output_type": "stream",
          "name": "stdout",
          "text": [
            "Real sentence is:\n",
            " ['بدیدند مر پهلوان را پگاه وزان جایگه برگرفتند راه']\n",
            "Generated sentence is:\n",
            " ['گان بدو بر نهادند سوی کاخ سام نهادند']\n",
            "Epoch is: 2 \n",
            "Iteration is: 80       Loss is: 0.85399329662323\n"
          ]
        },
        {
          "output_type": "stream",
          "name": "stderr",
          "text": [
            "Setting `pad_token_id` to `eos_token_id`:5 for open-end generation.\n",
            "A decoder-only architecture is being used, but right-padding was detected! For correct generation results, please set `padding_side='left'` when initializing the tokenizer.\n"
          ]
        },
        {
          "output_type": "stream",
          "name": "stdout",
          "text": [
            "Real sentence is:\n",
            " ['چو از خوان خسرو بپرداختند به تخت دگر جای می ساختند']\n",
            "Generated sentence is:\n",
            " [' و ز دور و ز راه که رای او همه پیش ایشان به شادی و گژ']\n",
            "Epoch is: 2 \n",
            "Iteration is: 100       Loss is: 0.807558536529541\n"
          ]
        },
        {
          "output_type": "stream",
          "name": "stderr",
          "text": [
            "Setting `pad_token_id` to `eos_token_id`:5 for open-end generation.\n",
            "A decoder-only architecture is being used, but right-padding was detected! For correct generation results, please set `padding_side='left'` when initializing the tokenizer.\n"
          ]
        },
        {
          "output_type": "stream",
          "name": "stdout",
          "text": [
            "Real sentence is:\n",
            " ['شب آمد جهان سر به سر تیره گشت مرا بازو از کوفتن خیره گشت']\n",
            "Generated sentence is:\n",
            " ['وان آمد به فرمان شاه جهان را یکی شد رای او']\n",
            "Epoch is: 2 \n",
            "Iteration is: 120       Loss is: 0.7857290506362915\n"
          ]
        },
        {
          "output_type": "stream",
          "name": "stderr",
          "text": [
            "Setting `pad_token_id` to `eos_token_id`:5 for open-end generation.\n",
            "A decoder-only architecture is being used, but right-padding was detected! For correct generation results, please set `padding_side='left'` when initializing the tokenizer.\n"
          ]
        },
        {
          "output_type": "stream",
          "name": "stdout",
          "text": [
            "Real sentence is:\n",
            " ['ز گرد سواران در آن پهن دشت زمین شش شد و آسمان گشت هشت']\n",
            "Generated sentence is:\n",
            " [' اندر هر گونه جنگ و رزم و بخت تو دانی همی با من چه جنگ']\n",
            "Epoch is: 2 \n",
            "Iteration is: 140       Loss is: 0.7962175607681274\n"
          ]
        },
        {
          "output_type": "stream",
          "name": "stderr",
          "text": [
            "Setting `pad_token_id` to `eos_token_id`:5 for open-end generation.\n",
            "A decoder-only architecture is being used, but right-padding was detected! For correct generation results, please set `padding_side='left'` when initializing the tokenizer.\n"
          ]
        },
        {
          "output_type": "stream",
          "name": "stdout",
          "text": [
            "Real sentence is:\n",
            " ['پراگنده در پادشاهی سوار همانا که هستند سیصدهزار']\n",
            "Generated sentence is:\n",
            " [' از بر پشت کوه و در روی خویش برآویختند ز روی']\n",
            "Epoch is: 2 \n",
            "Iteration is: 160       Loss is: 0.7944096326828003\n"
          ]
        },
        {
          "output_type": "stream",
          "name": "stderr",
          "text": [
            "Setting `pad_token_id` to `eos_token_id`:5 for open-end generation.\n",
            "A decoder-only architecture is being used, but right-padding was detected! For correct generation results, please set `padding_side='left'` when initializing the tokenizer.\n"
          ]
        },
        {
          "output_type": "stream",
          "name": "stdout",
          "text": [
            "Real sentence is:\n",
            " ['خبر شد به شاه هماور ازین که رستم نهادست بر رخش زین']\n",
            "Generated sentence is:\n",
            " [' اندر زمان شاه که جنگ را بی تو کنم و بر دل و زبان']\n",
            "Epoch is: 2 \n",
            "Iteration is: 180       Loss is: 0.700926661491394\n"
          ]
        },
        {
          "output_type": "stream",
          "name": "stderr",
          "text": [
            "Setting `pad_token_id` to `eos_token_id`:5 for open-end generation.\n",
            "A decoder-only architecture is being used, but right-padding was detected! For correct generation results, please set `padding_side='left'` when initializing the tokenizer.\n"
          ]
        },
        {
          "output_type": "stream",
          "name": "stdout",
          "text": [
            "Real sentence is:\n",
            " ['نهانی بسازیم بهتر بود خرد داشتن کار مهتر بود']\n",
            "Generated sentence is:\n",
            " ['و و فرهاد ز لشکر یکی انجمن کرد به شاه که از لشکر یک و یک کلاه']\n",
            "Epoch is: 2 \n",
            "Iteration is: 200       Loss is: 0.8285191059112549\n"
          ]
        },
        {
          "output_type": "stream",
          "name": "stderr",
          "text": [
            "Setting `pad_token_id` to `eos_token_id`:5 for open-end generation.\n",
            "A decoder-only architecture is being used, but right-padding was detected! For correct generation results, please set `padding_side='left'` when initializing the tokenizer.\n"
          ]
        },
        {
          "output_type": "stream",
          "name": "stdout",
          "text": [
            "Real sentence is:\n",
            " ['همی ماند رستم ازو در شگفت ز پیگارش اندازه ها برگرفت']\n",
            "Generated sentence is:\n",
            " [' و رکیب و بازو به جنگ اندرش از تو به بالا دارد و نام']\n",
            "Epoch is: 2 \n",
            "Iteration is: 220       Loss is: 0.7928154468536377\n"
          ]
        },
        {
          "output_type": "stream",
          "name": "stderr",
          "text": [
            "Setting `pad_token_id` to `eos_token_id`:5 for open-end generation.\n",
            "A decoder-only architecture is being used, but right-padding was detected! For correct generation results, please set `padding_side='left'` when initializing the tokenizer.\n"
          ]
        },
        {
          "output_type": "stream",
          "name": "stdout",
          "text": [
            "Real sentence is:\n",
            " ['ز هر در سخن چون بدین گونه گشت بر آتش یکی را بباید گذشت']\n",
            "Generated sentence is:\n",
            " [' و گرسیوز چو از پیش او به تختش برگرفتنش درود']\n",
            "Epoch is: 2 \n",
            "Iteration is: 240       Loss is: 0.8158096075057983\n"
          ]
        },
        {
          "output_type": "stream",
          "name": "stderr",
          "text": [
            "Setting `pad_token_id` to `eos_token_id`:5 for open-end generation.\n",
            "A decoder-only architecture is being used, but right-padding was detected! For correct generation results, please set `padding_side='left'` when initializing the tokenizer.\n"
          ]
        },
        {
          "output_type": "stream",
          "name": "stdout",
          "text": [
            "Real sentence is:\n",
            " ['ز کاووس وز خام گفتار او ز خوی بد و رای و پیگار او']\n",
            "Generated sentence is:\n",
            " [' و زان گونه در جنگ با شاه به هم در جنگ بگفتند که چون خورشید شد به راه']\n",
            "Epoch is: 2 \n",
            "Iteration is: 260       Loss is: 0.7469738125801086\n"
          ]
        },
        {
          "output_type": "stream",
          "name": "stderr",
          "text": [
            "Setting `pad_token_id` to `eos_token_id`:5 for open-end generation.\n",
            "A decoder-only architecture is being used, but right-padding was detected! For correct generation results, please set `padding_side='left'` when initializing the tokenizer.\n"
          ]
        },
        {
          "output_type": "stream",
          "name": "stdout",
          "text": [
            "Real sentence is:\n",
            " ['هرآنکس که او از در کار بود بدان مرز با او سزاوار بود']\n",
            "Generated sentence is:\n",
            " [' و مرد بی گناه به جنگ و گردش نیست یکی نیز نه این نیست']\n",
            "Epoch is: 2 \n",
            "Iteration is: 280       Loss is: 0.6904497742652893\n"
          ]
        },
        {
          "output_type": "stream",
          "name": "stderr",
          "text": [
            "Setting `pad_token_id` to `eos_token_id`:5 for open-end generation.\n",
            "A decoder-only architecture is being used, but right-padding was detected! For correct generation results, please set `padding_side='left'` when initializing the tokenizer.\n"
          ]
        },
        {
          "output_type": "stream",
          "name": "stdout",
          "text": [
            "Real sentence is:\n",
            " ['فرنگیس رانیز خواهند کشت مکن هیچ گونه برین کار پشت']\n",
            "Generated sentence is:\n",
            " ['ش به تخت فروماند سوی رود روانش را به آبنوس']\n",
            "Epoch is: 2 \n",
            "Iteration is: 300       Loss is: 0.7902258634567261\n"
          ]
        },
        {
          "output_type": "stream",
          "name": "stderr",
          "text": [
            "Setting `pad_token_id` to `eos_token_id`:5 for open-end generation.\n",
            "A decoder-only architecture is being used, but right-padding was detected! For correct generation results, please set `padding_side='left'` when initializing the tokenizer.\n"
          ]
        },
        {
          "output_type": "stream",
          "name": "stdout",
          "text": [
            "Real sentence is:\n",
            " ['بران ابر باران خجسته سروش به گودرز گفتی که بگشای گوش']\n",
            "Generated sentence is:\n",
            " ['شان به زرین سپر یکی نامه از اسپ و یکی تاجور بخت']\n",
            "Epoch is: 2 \n",
            "Iteration is: 320       Loss is: 0.7665806412696838\n"
          ]
        },
        {
          "output_type": "stream",
          "name": "stderr",
          "text": [
            "Setting `pad_token_id` to `eos_token_id`:5 for open-end generation.\n",
            "A decoder-only architecture is being used, but right-padding was detected! For correct generation results, please set `padding_side='left'` when initializing the tokenizer.\n"
          ]
        },
        {
          "output_type": "stream",
          "name": "stdout",
          "text": [
            "Real sentence is:\n",
            " ['چو خورشید برزد سر از برج شیر سپهر اندر آورد شب را به زیر']\n",
            "Generated sentence is:\n",
            " [' تا به نزدیک او آید همی تا به ایران کند از برگاه او']\n",
            "Epoch is: 2 \n",
            "Iteration is: 340       Loss is: 0.7359452843666077\n"
          ]
        },
        {
          "output_type": "stream",
          "name": "stderr",
          "text": [
            "Setting `pad_token_id` to `eos_token_id`:5 for open-end generation.\n",
            "A decoder-only architecture is being used, but right-padding was detected! For correct generation results, please set `padding_side='left'` when initializing the tokenizer.\n"
          ]
        },
        {
          "output_type": "stream",
          "name": "stdout",
          "text": [
            "Real sentence is:\n",
            " ['درفشی کجا شیر پیکر بزر که گودرز کشواد دارد بسر']\n",
            "Generated sentence is:\n",
            " [' جهانجوی و باژ دو چشم و ز آب و باژ فرهی']\n",
            "Epoch is: 2 \n",
            "Iteration is: 360       Loss is: 0.7952995300292969\n"
          ]
        },
        {
          "output_type": "stream",
          "name": "stderr",
          "text": [
            "Setting `pad_token_id` to `eos_token_id`:5 for open-end generation.\n",
            "A decoder-only architecture is being used, but right-padding was detected! For correct generation results, please set `padding_side='left'` when initializing the tokenizer.\n"
          ]
        },
        {
          "output_type": "stream",
          "name": "stdout",
          "text": [
            "Real sentence is:\n",
            " ['بیامد باسپ اندر آورد پای بکردار باد اندر آمد ز جای']\n",
            "Generated sentence is:\n",
            " [' لشکر سوی پهلوان آمدند و باز آمدند و باز شتاب']\n",
            "Epoch is: 2 \n",
            "Iteration is: 380       Loss is: 0.746341347694397\n"
          ]
        },
        {
          "output_type": "stream",
          "name": "stderr",
          "text": [
            "Setting `pad_token_id` to `eos_token_id`:5 for open-end generation.\n",
            "A decoder-only architecture is being used, but right-padding was detected! For correct generation results, please set `padding_side='left'` when initializing the tokenizer.\n"
          ]
        },
        {
          "output_type": "stream",
          "name": "stdout",
          "text": [
            "Real sentence is:\n",
            " ['درخشیدن تیغ و ژوپین و خشت تو گفتی شب اندر هوا لاله کشت']\n",
            "Generated sentence is:\n",
            " [' و شاد گشت و بی پدر در تنگ بگذاشت سر']\n",
            "Epoch is: 2 \n",
            "Iteration is: 400       Loss is: 0.7131181359291077\n"
          ]
        },
        {
          "output_type": "stream",
          "name": "stderr",
          "text": [
            "Setting `pad_token_id` to `eos_token_id`:5 for open-end generation.\n",
            "A decoder-only architecture is being used, but right-padding was detected! For correct generation results, please set `padding_side='left'` when initializing the tokenizer.\n"
          ]
        },
        {
          "output_type": "stream",
          "name": "stdout",
          "text": [
            "Real sentence is:\n",
            " ['چو خاقان بدیدش به بر درگرفت بماند از بر و یال پیران شگفت']\n",
            "Generated sentence is:\n",
            " [' و همه دانش جوی که آید زمان و زمان کس درنگ و روز']\n",
            "Epoch is: 2 \n",
            "Iteration is: 420       Loss is: 0.7317588329315186\n"
          ]
        },
        {
          "output_type": "stream",
          "name": "stderr",
          "text": [
            "Setting `pad_token_id` to `eos_token_id`:5 for open-end generation.\n",
            "A decoder-only architecture is being used, but right-padding was detected! For correct generation results, please set `padding_side='left'` when initializing the tokenizer.\n"
          ]
        },
        {
          "output_type": "stream",
          "name": "stdout",
          "text": [
            "Real sentence is:\n",
            " ['نهادند آوردگاهی بزرگ کشانی بیامد بکردار گرگ']\n",
            "Generated sentence is:\n",
            " [' بر خیره نماند از کار او دل پر ز خشم دل اندر افتاد']\n",
            "Epoch is: 2 \n",
            "Iteration is: 440       Loss is: 0.776099443435669\n"
          ]
        },
        {
          "output_type": "stream",
          "name": "stderr",
          "text": [
            "Setting `pad_token_id` to `eos_token_id`:5 for open-end generation.\n",
            "A decoder-only architecture is being used, but right-padding was detected! For correct generation results, please set `padding_side='left'` when initializing the tokenizer.\n"
          ]
        },
        {
          "output_type": "stream",
          "name": "stdout",
          "text": [
            "Real sentence is:\n",
            " ['گریزی بهنگام با سر بجای به از رزم جستن بنام و برای']\n",
            "Generated sentence is:\n",
            " [' از هر کسی که آمد بر شاه چین زمین شد زمین شد به چین']\n",
            "Epoch is: 2 \n",
            "Iteration is: 460       Loss is: 0.709636390209198\n"
          ]
        },
        {
          "output_type": "stream",
          "name": "stderr",
          "text": [
            "Setting `pad_token_id` to `eos_token_id`:5 for open-end generation.\n",
            "A decoder-only architecture is being used, but right-padding was detected! For correct generation results, please set `padding_side='left'` when initializing the tokenizer.\n"
          ]
        },
        {
          "output_type": "stream",
          "name": "stdout",
          "text": [
            "Real sentence is:\n",
            " ['بدو گفت کای دیو ناسازگار ببینی کنون گردش روزگار']\n",
            "Generated sentence is:\n",
            " [' اندر آمد یکی نامه ز لشکر گزین کرد شهریار کلید']\n",
            "Epoch is: 2 \n",
            "Iteration is: 480       Loss is: 0.7271691560745239\n"
          ]
        },
        {
          "output_type": "stream",
          "name": "stderr",
          "text": [
            "Setting `pad_token_id` to `eos_token_id`:5 for open-end generation.\n",
            "A decoder-only architecture is being used, but right-padding was detected! For correct generation results, please set `padding_side='left'` when initializing the tokenizer.\n"
          ]
        },
        {
          "output_type": "stream",
          "name": "stdout",
          "text": [
            "Real sentence is:\n",
            " ['اگر هست خود جای گفتار نیست ولیکن شنیدن چو دیدار نیست']\n",
            "Generated sentence is:\n",
            " ['شان بجوئید روانش ز هر سو که او بود سر بدگشیر']\n",
            "Epoch is: 2 \n",
            "Iteration is: 500       Loss is: 0.7997508645057678\n"
          ]
        },
        {
          "output_type": "stream",
          "name": "stderr",
          "text": [
            "Setting `pad_token_id` to `eos_token_id`:5 for open-end generation.\n",
            "A decoder-only architecture is being used, but right-padding was detected! For correct generation results, please set `padding_side='left'` when initializing the tokenizer.\n"
          ]
        },
        {
          "output_type": "stream",
          "name": "stdout",
          "text": [
            "Real sentence is:\n",
            " ['گرانمایه هفت اسب با کاروان یکی رخش و دیگر نشست گوان']\n",
            "Generated sentence is:\n",
            " ['ده بنزدیک رستم بپای و پای نشسته پر از آفرین و روی']\n",
            "Epoch is: 2 \n",
            "Iteration is: 520       Loss is: 0.777234673500061\n"
          ]
        },
        {
          "output_type": "stream",
          "name": "stderr",
          "text": [
            "Setting `pad_token_id` to `eos_token_id`:5 for open-end generation.\n",
            "A decoder-only architecture is being used, but right-padding was detected! For correct generation results, please set `padding_side='left'` when initializing the tokenizer.\n"
          ]
        },
        {
          "output_type": "stream",
          "name": "stdout",
          "text": [
            "Real sentence is:\n",
            " ['چو پیران بدید آن سپاه بزرگ بخون تشنه هر یک بکردار گرگ']\n",
            "Generated sentence is:\n",
            " [' ازان تخت بر کمر خواستش ز توران گروه را براه خاست']\n",
            "Epoch is: 2 \n",
            "Iteration is: 540       Loss is: 0.744576632976532\n"
          ]
        },
        {
          "output_type": "stream",
          "name": "stderr",
          "text": [
            "Setting `pad_token_id` to `eos_token_id`:5 for open-end generation.\n",
            "A decoder-only architecture is being used, but right-padding was detected! For correct generation results, please set `padding_side='left'` when initializing the tokenizer.\n"
          ]
        },
        {
          "output_type": "stream",
          "name": "stdout",
          "text": [
            "Real sentence is:\n",
            " ['بلشکر بفرمود پس پهلوان که بیدار باشید و روشن روان']\n",
            "Generated sentence is:\n",
            " [' از جنگ جنگ او یکی را نشان پیش اندرون خاک و سنگ']\n",
            "Epoch is: 2 \n",
            "Iteration is: 560       Loss is: 0.6838275194168091\n"
          ]
        },
        {
          "output_type": "stream",
          "name": "stderr",
          "text": [
            "Setting `pad_token_id` to `eos_token_id`:5 for open-end generation.\n",
            "A decoder-only architecture is being used, but right-padding was detected! For correct generation results, please set `padding_side='left'` when initializing the tokenizer.\n"
          ]
        },
        {
          "output_type": "stream",
          "name": "stdout",
          "text": [
            "Real sentence is:\n",
            " ['که پشت همه شهر توران بدوست چو روی تو بیند بدردش پوست']\n",
            "Generated sentence is:\n",
            " [' از من که با بدیشان یکی سوی یزدان کنم بتیران سر']\n",
            "Epoch is: 2 \n",
            "Iteration is: 580       Loss is: 0.6890761256217957\n"
          ]
        },
        {
          "output_type": "stream",
          "name": "stderr",
          "text": [
            "Setting `pad_token_id` to `eos_token_id`:5 for open-end generation.\n",
            "A decoder-only architecture is being used, but right-padding was detected! For correct generation results, please set `padding_side='left'` when initializing the tokenizer.\n"
          ]
        },
        {
          "output_type": "stream",
          "name": "stdout",
          "text": [
            "Real sentence is:\n",
            " ['بزنهار بر ما کنون عار نیست سپاهست بسیار و سالار نیست']\n",
            "Generated sentence is:\n",
            " ['شان زین چنین کرد آفرین که با شاه و نامداران بباد']\n",
            "Epoch is: 2 \n",
            "Iteration is: 600       Loss is: 0.6968722939491272\n"
          ]
        },
        {
          "output_type": "stream",
          "name": "stderr",
          "text": [
            "Setting `pad_token_id` to `eos_token_id`:5 for open-end generation.\n",
            "A decoder-only architecture is being used, but right-padding was detected! For correct generation results, please set `padding_side='left'` when initializing the tokenizer.\n"
          ]
        },
        {
          "output_type": "stream",
          "name": "stdout",
          "text": [
            "Real sentence is:\n",
            " ['دمادم فرستد سلیح و سپاه خورش را شتر نگسلاند ز راه']\n",
            "Generated sentence is:\n",
            " [' او را بباید برین نامداری ازو دور کرد پیش اوی']\n",
            "Epoch is: 2 \n",
            "Iteration is: 620       Loss is: 0.7381046414375305\n"
          ]
        },
        {
          "output_type": "stream",
          "name": "stderr",
          "text": [
            "Setting `pad_token_id` to `eos_token_id`:5 for open-end generation.\n",
            "A decoder-only architecture is being used, but right-padding was detected! For correct generation results, please set `padding_side='left'` when initializing the tokenizer.\n"
          ]
        },
        {
          "output_type": "stream",
          "name": "stdout",
          "text": [
            "Real sentence is:\n",
            " ['خورشگر بدیشان بزی چند و میش سپردی و صحرا نهادند پیش']\n",
            "Generated sentence is:\n",
            " [' آن نامور پهلوان ترکان بپیش جهاندیده بد بر پهلوان روی']\n",
            "Epoch is: 3 \n",
            "Iteration is: 20       Loss is: 0.8465195894241333\n"
          ]
        },
        {
          "output_type": "stream",
          "name": "stderr",
          "text": [
            "Setting `pad_token_id` to `eos_token_id`:5 for open-end generation.\n",
            "A decoder-only architecture is being used, but right-padding was detected! For correct generation results, please set `padding_side='left'` when initializing the tokenizer.\n"
          ]
        },
        {
          "output_type": "stream",
          "name": "stdout",
          "text": [
            "Real sentence is:\n",
            " ['سزد گر بمانیم هر دو دژم کزین سان پدر کرد بر ما ستم']\n",
            "Generated sentence is:\n",
            " [' ز لشکر شاه آمد بزی ز درگاه شاه جهان در صف آمد']\n",
            "Epoch is: 3 \n",
            "Iteration is: 40       Loss is: 0.7406039834022522\n"
          ]
        },
        {
          "output_type": "stream",
          "name": "stderr",
          "text": [
            "Setting `pad_token_id` to `eos_token_id`:5 for open-end generation.\n",
            "A decoder-only architecture is being used, but right-padding was detected! For correct generation results, please set `padding_side='left'` when initializing the tokenizer.\n"
          ]
        },
        {
          "output_type": "stream",
          "name": "stdout",
          "text": [
            "Real sentence is:\n",
            " ['سپاهی بدین رزمگاه آمدیم نه بر آرزو کینه خواه آمدیم']\n",
            "Generated sentence is:\n",
            " ['ندگان وزان نامداران شاه به گرد اندر آورده دشت']\n",
            "Epoch is: 3 \n",
            "Iteration is: 60       Loss is: 0.6765069365501404\n"
          ]
        },
        {
          "output_type": "stream",
          "name": "stderr",
          "text": [
            "Setting `pad_token_id` to `eos_token_id`:5 for open-end generation.\n",
            "A decoder-only architecture is being used, but right-padding was detected! For correct generation results, please set `padding_side='left'` when initializing the tokenizer.\n"
          ]
        },
        {
          "output_type": "stream",
          "name": "stdout",
          "text": [
            "Real sentence is:\n",
            " ['بدیدند مر پهلوان را پگاه وزان جایگه برگرفتند راه']\n",
            "Generated sentence is:\n",
            " [' بر پشت تو با جام زر برمت به ابر اندر کنار او نزیچ']\n",
            "Epoch is: 3 \n",
            "Iteration is: 80       Loss is: 0.7401885986328125\n"
          ]
        },
        {
          "output_type": "stream",
          "name": "stderr",
          "text": [
            "Setting `pad_token_id` to `eos_token_id`:5 for open-end generation.\n",
            "A decoder-only architecture is being used, but right-padding was detected! For correct generation results, please set `padding_side='left'` when initializing the tokenizer.\n"
          ]
        },
        {
          "output_type": "stream",
          "name": "stdout",
          "text": [
            "Real sentence is:\n",
            " ['چو از خوان خسرو بپرداختند به تخت دگر جای می ساختند']\n",
            "Generated sentence is:\n",
            " [' بر من یکی پهلوان به نام به زاری بر زدم تا شب اندر شگفت']\n",
            "Epoch is: 3 \n",
            "Iteration is: 100       Loss is: 0.6865419745445251\n"
          ]
        },
        {
          "output_type": "stream",
          "name": "stderr",
          "text": [
            "Setting `pad_token_id` to `eos_token_id`:5 for open-end generation.\n",
            "A decoder-only architecture is being used, but right-padding was detected! For correct generation results, please set `padding_side='left'` when initializing the tokenizer.\n"
          ]
        },
        {
          "output_type": "stream",
          "name": "stdout",
          "text": [
            "Real sentence is:\n",
            " ['شب آمد جهان سر به سر تیره گشت مرا بازو از کوفتن خیره گشت']\n",
            "Generated sentence is:\n",
            " [' این سخنها را یکی کن که چون بباید کنون شدن پیش دل شادمان']\n",
            "Epoch is: 3 \n",
            "Iteration is: 120       Loss is: 0.6730387210845947\n"
          ]
        },
        {
          "output_type": "stream",
          "name": "stderr",
          "text": [
            "Setting `pad_token_id` to `eos_token_id`:5 for open-end generation.\n",
            "A decoder-only architecture is being used, but right-padding was detected! For correct generation results, please set `padding_side='left'` when initializing the tokenizer.\n"
          ]
        },
        {
          "output_type": "stream",
          "name": "stdout",
          "text": [
            "Real sentence is:\n",
            " ['ز گرد سواران در آن پهن دشت زمین شش شد و آسمان گشت هشت']\n",
            "Generated sentence is:\n",
            " [' بر او بگریست ز درد اندر آورد دم ز درد جگر']\n",
            "Epoch is: 3 \n",
            "Iteration is: 140       Loss is: 0.676362156867981\n"
          ]
        },
        {
          "output_type": "stream",
          "name": "stderr",
          "text": [
            "Setting `pad_token_id` to `eos_token_id`:5 for open-end generation.\n",
            "A decoder-only architecture is being used, but right-padding was detected! For correct generation results, please set `padding_side='left'` when initializing the tokenizer.\n"
          ]
        },
        {
          "output_type": "stream",
          "name": "stdout",
          "text": [
            "Real sentence is:\n",
            " ['پراگنده در پادشاهی سوار همانا که هستند سیصدهزار']\n",
            "Generated sentence is:\n",
            " [' و گورشید روی زمین بر شد زمین بر که هرگز نگردد سرش']\n",
            "Epoch is: 3 \n",
            "Iteration is: 160       Loss is: 0.6702861785888672\n"
          ]
        },
        {
          "output_type": "stream",
          "name": "stderr",
          "text": [
            "Setting `pad_token_id` to `eos_token_id`:5 for open-end generation.\n",
            "A decoder-only architecture is being used, but right-padding was detected! For correct generation results, please set `padding_side='left'` when initializing the tokenizer.\n"
          ]
        },
        {
          "output_type": "stream",
          "name": "stdout",
          "text": [
            "Real sentence is:\n",
            " ['خبر شد به شاه هماور ازین که رستم نهادست بر رخش زین']\n",
            "Generated sentence is:\n",
            " [' و بگرفت بر میان همه جای بیمست و راه دشوار را به پای']\n",
            "Epoch is: 3 \n",
            "Iteration is: 180       Loss is: 0.5969928503036499\n"
          ]
        },
        {
          "output_type": "stream",
          "name": "stderr",
          "text": [
            "Setting `pad_token_id` to `eos_token_id`:5 for open-end generation.\n",
            "A decoder-only architecture is being used, but right-padding was detected! For correct generation results, please set `padding_side='left'` when initializing the tokenizer.\n"
          ]
        },
        {
          "output_type": "stream",
          "name": "stdout",
          "text": [
            "Real sentence is:\n",
            " ['نهانی بسازیم بهتر بود خرد داشتن کار مهتر بود']\n",
            "Generated sentence is:\n",
            " [' از دیو و شیردل و رهی نره شیر دل و رخش و شیر']\n",
            "Epoch is: 3 \n",
            "Iteration is: 200       Loss is: 0.7236692309379578\n"
          ]
        },
        {
          "output_type": "stream",
          "name": "stderr",
          "text": [
            "Setting `pad_token_id` to `eos_token_id`:5 for open-end generation.\n",
            "A decoder-only architecture is being used, but right-padding was detected! For correct generation results, please set `padding_side='left'` when initializing the tokenizer.\n"
          ]
        },
        {
          "output_type": "stream",
          "name": "stdout",
          "text": [
            "Real sentence is:\n",
            " ['همی ماند رستم ازو در شگفت ز پیگارش اندازه ها برگرفت']\n",
            "Generated sentence is:\n",
            " [' و گویم همان گردون به فرمان او سپاهی گران']\n",
            "Epoch is: 3 \n",
            "Iteration is: 220       Loss is: 0.6811558604240417\n"
          ]
        },
        {
          "output_type": "stream",
          "name": "stderr",
          "text": [
            "Setting `pad_token_id` to `eos_token_id`:5 for open-end generation.\n",
            "A decoder-only architecture is being used, but right-padding was detected! For correct generation results, please set `padding_side='left'` when initializing the tokenizer.\n"
          ]
        },
        {
          "output_type": "stream",
          "name": "stdout",
          "text": [
            "Real sentence is:\n",
            " ['ز هر در سخن چون بدین گونه گشت بر آتش یکی را بباید گذشت']\n",
            "Generated sentence is:\n",
            " [' و نکوح و هم خواسته به شاه بدانست زو باز']\n",
            "Epoch is: 3 \n",
            "Iteration is: 240       Loss is: 0.7073304653167725\n"
          ]
        },
        {
          "output_type": "stream",
          "name": "stderr",
          "text": [
            "Setting `pad_token_id` to `eos_token_id`:5 for open-end generation.\n",
            "A decoder-only architecture is being used, but right-padding was detected! For correct generation results, please set `padding_side='left'` when initializing the tokenizer.\n"
          ]
        },
        {
          "output_type": "stream",
          "name": "stdout",
          "text": [
            "Real sentence is:\n",
            " ['ز کاووس وز خام گفتار او ز خوی بد و رای و پیگار او']\n",
            "Generated sentence is:\n",
            " [' و رکیب و از خواسته به نزد فرستاده آمد چو گرد بلند']\n",
            "Epoch is: 3 \n",
            "Iteration is: 260       Loss is: 0.6515576243400574\n"
          ]
        },
        {
          "output_type": "stream",
          "name": "stderr",
          "text": [
            "Setting `pad_token_id` to `eos_token_id`:5 for open-end generation.\n",
            "A decoder-only architecture is being used, but right-padding was detected! For correct generation results, please set `padding_side='left'` when initializing the tokenizer.\n"
          ]
        },
        {
          "output_type": "stream",
          "name": "stdout",
          "text": [
            "Real sentence is:\n",
            " ['هرآنکس که او از در کار بود بدان مرز با او سزاوار بود']\n",
            "Generated sentence is:\n",
            " [' از پدر تو به درگاه من ببار تا به درگاه من بیاید تو']\n",
            "Epoch is: 3 \n",
            "Iteration is: 280       Loss is: 0.5889906287193298\n"
          ]
        },
        {
          "output_type": "stream",
          "name": "stderr",
          "text": [
            "Setting `pad_token_id` to `eos_token_id`:5 for open-end generation.\n",
            "A decoder-only architecture is being used, but right-padding was detected! For correct generation results, please set `padding_side='left'` when initializing the tokenizer.\n"
          ]
        },
        {
          "output_type": "stream",
          "name": "stdout",
          "text": [
            "Real sentence is:\n",
            " ['فرنگیس رانیز خواهند کشت مکن هیچ گونه برین کار پشت']\n",
            "Generated sentence is:\n",
            " [' هم از انجمن که ایدونک پیدا کند پیشم شتاب و کین']\n",
            "Epoch is: 3 \n",
            "Iteration is: 300       Loss is: 0.6821014881134033\n"
          ]
        },
        {
          "output_type": "stream",
          "name": "stderr",
          "text": [
            "Setting `pad_token_id` to `eos_token_id`:5 for open-end generation.\n",
            "A decoder-only architecture is being used, but right-padding was detected! For correct generation results, please set `padding_side='left'` when initializing the tokenizer.\n"
          ]
        },
        {
          "output_type": "stream",
          "name": "stdout",
          "text": [
            "Real sentence is:\n",
            " ['بران ابر باران خجسته سروش به گودرز گفتی که بگشای گوش']\n",
            "Generated sentence is:\n",
            " [' از جهان آفریدش به خنجر یکی اسپ تازی پلنگان ببرد']\n",
            "Epoch is: 3 \n",
            "Iteration is: 320       Loss is: 0.642461895942688\n"
          ]
        },
        {
          "output_type": "stream",
          "name": "stderr",
          "text": [
            "Setting `pad_token_id` to `eos_token_id`:5 for open-end generation.\n",
            "A decoder-only architecture is being used, but right-padding was detected! For correct generation results, please set `padding_side='left'` when initializing the tokenizer.\n"
          ]
        },
        {
          "output_type": "stream",
          "name": "stdout",
          "text": [
            "Real sentence is:\n",
            " ['چو خورشید برزد سر از برج شیر سپهر اندر آورد شب را به زیر']\n",
            "Generated sentence is:\n",
            " [' از جهان آفرین تا چه گوید ز کیخسرو و پیلان و کم گوی']\n",
            "Epoch is: 3 \n",
            "Iteration is: 340       Loss is: 0.5985880494117737\n"
          ]
        },
        {
          "output_type": "stream",
          "name": "stderr",
          "text": [
            "Setting `pad_token_id` to `eos_token_id`:5 for open-end generation.\n",
            "A decoder-only architecture is being used, but right-padding was detected! For correct generation results, please set `padding_side='left'` when initializing the tokenizer.\n"
          ]
        },
        {
          "output_type": "stream",
          "name": "stdout",
          "text": [
            "Real sentence is:\n",
            " ['درفشی کجا شیر پیکر بزر که گودرز کشواد دارد بسر']\n",
            "Generated sentence is:\n",
            " [' از تخت زرین ستای وز گوهر همه جامهٔ یکسر به پهلوی']\n",
            "Epoch is: 3 \n",
            "Iteration is: 360       Loss is: 0.6852823495864868\n"
          ]
        },
        {
          "output_type": "stream",
          "name": "stderr",
          "text": [
            "Setting `pad_token_id` to `eos_token_id`:5 for open-end generation.\n",
            "A decoder-only architecture is being used, but right-padding was detected! For correct generation results, please set `padding_side='left'` when initializing the tokenizer.\n"
          ]
        },
        {
          "output_type": "stream",
          "name": "stdout",
          "text": [
            "Real sentence is:\n",
            " ['بیامد باسپ اندر آورد پای بکردار باد اندر آمد ز جای']\n",
            "Generated sentence is:\n",
            " [' اسپ کم آید ز پشت گراز زرهش ز اسپ و ز پشت']\n",
            "Epoch is: 3 \n",
            "Iteration is: 380       Loss is: 0.6227008104324341\n"
          ]
        },
        {
          "output_type": "stream",
          "name": "stderr",
          "text": [
            "Setting `pad_token_id` to `eos_token_id`:5 for open-end generation.\n",
            "A decoder-only architecture is being used, but right-padding was detected! For correct generation results, please set `padding_side='left'` when initializing the tokenizer.\n"
          ]
        },
        {
          "output_type": "stream",
          "name": "stdout",
          "text": [
            "Real sentence is:\n",
            " ['درخشیدن تیغ و ژوپین و خشت تو گفتی شب اندر هوا لاله کشت']\n",
            "Generated sentence is:\n",
            " [' و با سپاه آرای بلند پذیره شدن را بخواند نام و نشان']\n",
            "Epoch is: 3 \n",
            "Iteration is: 400       Loss is: 0.5894540548324585\n"
          ]
        },
        {
          "output_type": "stream",
          "name": "stderr",
          "text": [
            "Setting `pad_token_id` to `eos_token_id`:5 for open-end generation.\n",
            "A decoder-only architecture is being used, but right-padding was detected! For correct generation results, please set `padding_side='left'` when initializing the tokenizer.\n"
          ]
        },
        {
          "output_type": "stream",
          "name": "stdout",
          "text": [
            "Real sentence is:\n",
            " ['چو خاقان بدیدش به بر درگرفت بماند از بر و یال پیران شگفت']\n",
            "Generated sentence is:\n",
            " [' سنان و سنان و نیزه بچنگ آورید سنان و سپر']\n",
            "Epoch is: 3 \n",
            "Iteration is: 420       Loss is: 0.6020216345787048\n"
          ]
        },
        {
          "output_type": "stream",
          "name": "stderr",
          "text": [
            "Setting `pad_token_id` to `eos_token_id`:5 for open-end generation.\n",
            "A decoder-only architecture is being used, but right-padding was detected! For correct generation results, please set `padding_side='left'` when initializing the tokenizer.\n"
          ]
        },
        {
          "output_type": "stream",
          "name": "stdout",
          "text": [
            "Real sentence is:\n",
            " ['نهادند آوردگاهی بزرگ کشانی بیامد بکردار گرگ']\n",
            "Generated sentence is:\n",
            " [' از جهان آفرین کردگار جهان آفرین را بخواه']\n",
            "Epoch is: 3 \n",
            "Iteration is: 440       Loss is: 0.6436536908149719\n"
          ]
        },
        {
          "output_type": "stream",
          "name": "stderr",
          "text": [
            "Setting `pad_token_id` to `eos_token_id`:5 for open-end generation.\n",
            "A decoder-only architecture is being used, but right-padding was detected! For correct generation results, please set `padding_side='left'` when initializing the tokenizer.\n"
          ]
        },
        {
          "output_type": "stream",
          "name": "stdout",
          "text": [
            "Real sentence is:\n",
            " ['گریزی بهنگام با سر بجای به از رزم جستن بنام و برای']\n",
            "Generated sentence is:\n",
            " [' و مغفرش همه پیش صف برکشیدند چون پر آب تشت']\n",
            "Epoch is: 3 \n",
            "Iteration is: 460       Loss is: 0.587343156337738\n"
          ]
        },
        {
          "output_type": "stream",
          "name": "stderr",
          "text": [
            "Setting `pad_token_id` to `eos_token_id`:5 for open-end generation.\n",
            "A decoder-only architecture is being used, but right-padding was detected! For correct generation results, please set `padding_side='left'` when initializing the tokenizer.\n"
          ]
        },
        {
          "output_type": "stream",
          "name": "stdout",
          "text": [
            "Real sentence is:\n",
            " ['بدو گفت کای دیو ناسازگار ببینی کنون گردش روزگار']\n",
            "Generated sentence is:\n",
            " [' اندر آن لشکر آرایند که با گرز و شمشیر شود کار تنگ']\n",
            "Epoch is: 3 \n",
            "Iteration is: 480       Loss is: 0.5922114849090576\n"
          ]
        },
        {
          "output_type": "stream",
          "name": "stderr",
          "text": [
            "Setting `pad_token_id` to `eos_token_id`:5 for open-end generation.\n",
            "A decoder-only architecture is being used, but right-padding was detected! For correct generation results, please set `padding_side='left'` when initializing the tokenizer.\n"
          ]
        },
        {
          "output_type": "stream",
          "name": "stdout",
          "text": [
            "Real sentence is:\n",
            " ['اگر هست خود جای گفتار نیست ولیکن شنیدن چو دیدار نیست']\n",
            "Generated sentence is:\n",
            " ['دهش چنان داد می و می فگند بنمود یک بانگ خروس']\n",
            "Epoch is: 3 \n",
            "Iteration is: 500       Loss is: 0.6614751815795898\n"
          ]
        },
        {
          "output_type": "stream",
          "name": "stderr",
          "text": [
            "Setting `pad_token_id` to `eos_token_id`:5 for open-end generation.\n",
            "A decoder-only architecture is being used, but right-padding was detected! For correct generation results, please set `padding_side='left'` when initializing the tokenizer.\n"
          ]
        },
        {
          "output_type": "stream",
          "name": "stdout",
          "text": [
            "Real sentence is:\n",
            " ['گرانمایه هفت اسب با کاروان یکی رخش و دیگر نشست گوان']\n",
            "Generated sentence is:\n",
            " [' و بایوان و بنخسر پر شتاب دو دیده و دو لب آب']\n",
            "Epoch is: 3 \n",
            "Iteration is: 520       Loss is: 0.6347198486328125\n"
          ]
        },
        {
          "output_type": "stream",
          "name": "stderr",
          "text": [
            "Setting `pad_token_id` to `eos_token_id`:5 for open-end generation.\n",
            "A decoder-only architecture is being used, but right-padding was detected! For correct generation results, please set `padding_side='left'` when initializing the tokenizer.\n"
          ]
        },
        {
          "output_type": "stream",
          "name": "stdout",
          "text": [
            "Real sentence is:\n",
            " ['چو پیران بدید آن سپاه بزرگ بخون تشنه هر یک بکردار گرگ']\n",
            "Generated sentence is:\n",
            " ['ندهٔ تخت و گنج آراسته دو پهلوان جهاندار']\n",
            "Epoch is: 3 \n",
            "Iteration is: 540       Loss is: 0.6324383020401001\n"
          ]
        },
        {
          "output_type": "stream",
          "name": "stderr",
          "text": [
            "Setting `pad_token_id` to `eos_token_id`:5 for open-end generation.\n",
            "A decoder-only architecture is being used, but right-padding was detected! For correct generation results, please set `padding_side='left'` when initializing the tokenizer.\n"
          ]
        },
        {
          "output_type": "stream",
          "name": "stdout",
          "text": [
            "Real sentence is:\n",
            " ['بلشکر بفرمود پس پهلوان که بیدار باشید و روشن روان']\n",
            "Generated sentence is:\n",
            " ['ش هوش آمد و جنگ بجوشیدش ز پیشم بجنگ آن سر آب']\n",
            "Epoch is: 3 \n",
            "Iteration is: 560       Loss is: 0.5637599229812622\n"
          ]
        },
        {
          "output_type": "stream",
          "name": "stderr",
          "text": [
            "Setting `pad_token_id` to `eos_token_id`:5 for open-end generation.\n",
            "A decoder-only architecture is being used, but right-padding was detected! For correct generation results, please set `padding_side='left'` when initializing the tokenizer.\n"
          ]
        },
        {
          "output_type": "stream",
          "name": "stdout",
          "text": [
            "Real sentence is:\n",
            " ['که پشت همه شهر توران بدوست چو روی تو بیند بدردش پوست']\n",
            "Generated sentence is:\n",
            " ['ش فراوان و گفت کتر کاید این کار از بر تو برفتد زمین']\n",
            "Epoch is: 3 \n",
            "Iteration is: 580       Loss is: 0.5644932985305786\n"
          ]
        },
        {
          "output_type": "stream",
          "name": "stderr",
          "text": [
            "Setting `pad_token_id` to `eos_token_id`:5 for open-end generation.\n",
            "A decoder-only architecture is being used, but right-padding was detected! For correct generation results, please set `padding_side='left'` when initializing the tokenizer.\n"
          ]
        },
        {
          "output_type": "stream",
          "name": "stdout",
          "text": [
            "Real sentence is:\n",
            " ['بزنهار بر ما کنون عار نیست سپاهست بسیار و سالار نیست']\n",
            "Generated sentence is:\n",
            " ['ز و بگرز درفشی بدست یکی باد بر کمان پیش من']\n",
            "Epoch is: 3 \n",
            "Iteration is: 600       Loss is: 0.5801974534988403\n"
          ]
        },
        {
          "output_type": "stream",
          "name": "stderr",
          "text": [
            "Setting `pad_token_id` to `eos_token_id`:5 for open-end generation.\n",
            "A decoder-only architecture is being used, but right-padding was detected! For correct generation results, please set `padding_side='left'` when initializing the tokenizer.\n"
          ]
        },
        {
          "output_type": "stream",
          "name": "stdout",
          "text": [
            "Real sentence is:\n",
            " ['دمادم فرستد سلیح و سپاه خورش را شتر نگسلاند ز راه']\n",
            "Generated sentence is:\n",
            " ['ده همه دشت کرد آفرین که بر داد و دین و راه گریز']\n",
            "Epoch is: 3 \n",
            "Iteration is: 620       Loss is: 0.5985130071640015\n"
          ]
        },
        {
          "output_type": "stream",
          "name": "stderr",
          "text": [
            "Setting `pad_token_id` to `eos_token_id`:5 for open-end generation.\n",
            "A decoder-only architecture is being used, but right-padding was detected! For correct generation results, please set `padding_side='left'` when initializing the tokenizer.\n"
          ]
        },
        {
          "output_type": "stream",
          "name": "stdout",
          "text": [
            "Real sentence is:\n",
            " ['خورشگر بدیشان بزی چند و میش سپردی و صحرا نهادند پیش']\n",
            "Generated sentence is:\n",
            " [' از شاه کیخسرو آمد پدید بر جهانجوی گفت آن بدیز']\n",
            "Epoch is: 4 \n",
            "Iteration is: 20       Loss is: 0.7652052640914917\n"
          ]
        },
        {
          "output_type": "stream",
          "name": "stderr",
          "text": [
            "Setting `pad_token_id` to `eos_token_id`:5 for open-end generation.\n",
            "A decoder-only architecture is being used, but right-padding was detected! For correct generation results, please set `padding_side='left'` when initializing the tokenizer.\n"
          ]
        },
        {
          "output_type": "stream",
          "name": "stdout",
          "text": [
            "Real sentence is:\n",
            " ['سزد گر بمانیم هر دو دژم کزین سان پدر کرد بر ما ستم']\n",
            "Generated sentence is:\n",
            " [' و همیدون یکی تازه هوش آمدند بدوی به راه نیو']\n",
            "Epoch is: 4 \n",
            "Iteration is: 40       Loss is: 0.6244162321090698\n"
          ]
        },
        {
          "output_type": "stream",
          "name": "stderr",
          "text": [
            "Setting `pad_token_id` to `eos_token_id`:5 for open-end generation.\n",
            "A decoder-only architecture is being used, but right-padding was detected! For correct generation results, please set `padding_side='left'` when initializing the tokenizer.\n"
          ]
        },
        {
          "output_type": "stream",
          "name": "stdout",
          "text": [
            "Real sentence is:\n",
            " ['سپاهی بدین رزمگاه آمدیم نه بر آرزو کینه خواه آمدیم']\n",
            "Generated sentence is:\n",
            " ['وید و گفت مر شاه را چو روی سپهدار ایران زمین']\n",
            "Epoch is: 4 \n",
            "Iteration is: 60       Loss is: 0.5373409986495972\n"
          ]
        },
        {
          "output_type": "stream",
          "name": "stderr",
          "text": [
            "Setting `pad_token_id` to `eos_token_id`:5 for open-end generation.\n",
            "A decoder-only architecture is being used, but right-padding was detected! For correct generation results, please set `padding_side='left'` when initializing the tokenizer.\n"
          ]
        },
        {
          "output_type": "stream",
          "name": "stdout",
          "text": [
            "Real sentence is:\n",
            " ['بدیدند مر پهلوان را پگاه وزان جایگه برگرفتند راه']\n",
            "Generated sentence is:\n",
            " ['شی ز جای نشست بسان غرقه به خون بر سهیل گوش']\n",
            "Epoch is: 4 \n",
            "Iteration is: 80       Loss is: 0.601915717124939\n"
          ]
        },
        {
          "output_type": "stream",
          "name": "stderr",
          "text": [
            "Setting `pad_token_id` to `eos_token_id`:5 for open-end generation.\n",
            "A decoder-only architecture is being used, but right-padding was detected! For correct generation results, please set `padding_side='left'` when initializing the tokenizer.\n"
          ]
        },
        {
          "output_type": "stream",
          "name": "stdout",
          "text": [
            "Real sentence is:\n",
            " ['چو از خوان خسرو بپرداختند به تخت دگر جای می ساختند']\n",
            "Generated sentence is:\n",
            " ['ش که بود روزگار که با من چه کرد که چون من شد کهن']\n",
            "Epoch is: 4 \n",
            "Iteration is: 100       Loss is: 0.5521008372306824\n"
          ]
        },
        {
          "output_type": "stream",
          "name": "stderr",
          "text": [
            "Setting `pad_token_id` to `eos_token_id`:5 for open-end generation.\n",
            "A decoder-only architecture is being used, but right-padding was detected! For correct generation results, please set `padding_side='left'` when initializing the tokenizer.\n"
          ]
        },
        {
          "output_type": "stream",
          "name": "stdout",
          "text": [
            "Real sentence is:\n",
            " ['شب آمد جهان سر به سر تیره گشت مرا بازو از کوفتن خیره گشت']\n",
            "Generated sentence is:\n",
            " [' و هم چاره جوی ز راه نیاید به رسم کیان بر تو راه']\n",
            "Epoch is: 4 \n",
            "Iteration is: 120       Loss is: 0.5514130592346191\n"
          ]
        },
        {
          "output_type": "stream",
          "name": "stderr",
          "text": [
            "Setting `pad_token_id` to `eos_token_id`:5 for open-end generation.\n",
            "A decoder-only architecture is being used, but right-padding was detected! For correct generation results, please set `padding_side='left'` when initializing the tokenizer.\n"
          ]
        },
        {
          "output_type": "stream",
          "name": "stdout",
          "text": [
            "Real sentence is:\n",
            " ['ز گرد سواران در آن پهن دشت زمین شش شد و آسمان گشت هشت']\n",
            "Generated sentence is:\n",
            " [' و هر گونه با سپاه برو آفرین کن که با من چه دارند و گاه']\n",
            "Epoch is: 4 \n",
            "Iteration is: 140       Loss is: 0.5437865257263184\n"
          ]
        },
        {
          "output_type": "stream",
          "name": "stderr",
          "text": [
            "Setting `pad_token_id` to `eos_token_id`:5 for open-end generation.\n",
            "A decoder-only architecture is being used, but right-padding was detected! For correct generation results, please set `padding_side='left'` when initializing the tokenizer.\n"
          ]
        },
        {
          "output_type": "stream",
          "name": "stdout",
          "text": [
            "Real sentence is:\n",
            " ['پراگنده در پادشاهی سوار همانا که هستند سیصدهزار']\n",
            "Generated sentence is:\n",
            " [' ز زابلستان چون بهشتی شد ناپدید از ناپدید و ناپدید']\n",
            "Epoch is: 4 \n",
            "Iteration is: 160       Loss is: 0.5441493391990662\n"
          ]
        },
        {
          "output_type": "stream",
          "name": "stderr",
          "text": [
            "Setting `pad_token_id` to `eos_token_id`:5 for open-end generation.\n",
            "A decoder-only architecture is being used, but right-padding was detected! For correct generation results, please set `padding_side='left'` when initializing the tokenizer.\n"
          ]
        },
        {
          "output_type": "stream",
          "name": "stdout",
          "text": [
            "Real sentence is:\n",
            " ['خبر شد به شاه هماور ازین که رستم نهادست بر رخش زین']\n",
            "Generated sentence is:\n",
            " ['ده زو نام او را بخواند که کاووس نام او ماند نه پیلان پرند']\n",
            "Epoch is: 4 \n",
            "Iteration is: 180       Loss is: 0.48183658719062805\n"
          ]
        },
        {
          "output_type": "stream",
          "name": "stderr",
          "text": [
            "Setting `pad_token_id` to `eos_token_id`:5 for open-end generation.\n",
            "A decoder-only architecture is being used, but right-padding was detected! For correct generation results, please set `padding_side='left'` when initializing the tokenizer.\n"
          ]
        },
        {
          "output_type": "stream",
          "name": "stdout",
          "text": [
            "Real sentence is:\n",
            " ['نهانی بسازیم بهتر بود خرد داشتن کار مهتر بود']\n",
            "Generated sentence is:\n",
            " ['ده ز ترکان فرستاده ای چون قارن رزم زن و مرد']\n",
            "Epoch is: 4 \n",
            "Iteration is: 200       Loss is: 0.5735780596733093\n"
          ]
        },
        {
          "output_type": "stream",
          "name": "stderr",
          "text": [
            "Setting `pad_token_id` to `eos_token_id`:5 for open-end generation.\n",
            "A decoder-only architecture is being used, but right-padding was detected! For correct generation results, please set `padding_side='left'` when initializing the tokenizer.\n"
          ]
        },
        {
          "output_type": "stream",
          "name": "stdout",
          "text": [
            "Real sentence is:\n",
            " ['همی ماند رستم ازو در شگفت ز پیگارش اندازه ها برگرفت']\n",
            "Generated sentence is:\n",
            " [' از که چون او شاه کند پر خرد کشته شود رزم شیر']\n",
            "Epoch is: 4 \n",
            "Iteration is: 220       Loss is: 0.5513912439346313\n"
          ]
        },
        {
          "output_type": "stream",
          "name": "stderr",
          "text": [
            "Setting `pad_token_id` to `eos_token_id`:5 for open-end generation.\n",
            "A decoder-only architecture is being used, but right-padding was detected! For correct generation results, please set `padding_side='left'` when initializing the tokenizer.\n"
          ]
        },
        {
          "output_type": "stream",
          "name": "stdout",
          "text": [
            "Real sentence is:\n",
            " ['ز هر در سخن چون بدین گونه گشت بر آتش یکی را بباید گذشت']\n",
            "Generated sentence is:\n",
            " [' و بنمود بسیارش ز کار فرو هشته بر کمربند او']\n",
            "Epoch is: 4 \n",
            "Iteration is: 240       Loss is: 0.5750475525856018\n"
          ]
        },
        {
          "output_type": "stream",
          "name": "stderr",
          "text": [
            "Setting `pad_token_id` to `eos_token_id`:5 for open-end generation.\n",
            "A decoder-only architecture is being used, but right-padding was detected! For correct generation results, please set `padding_side='left'` when initializing the tokenizer.\n"
          ]
        },
        {
          "output_type": "stream",
          "name": "stdout",
          "text": [
            "Real sentence is:\n",
            " ['ز کاووس وز خام گفتار او ز خوی بد و رای و پیگار او']\n",
            "Generated sentence is:\n",
            " [' تو چنین کاو ز من بگذرد نخواهد سپهر و رست و نشیب']\n",
            "Epoch is: 4 \n",
            "Iteration is: 260       Loss is: 0.5423420071601868\n"
          ]
        },
        {
          "output_type": "stream",
          "name": "stderr",
          "text": [
            "Setting `pad_token_id` to `eos_token_id`:5 for open-end generation.\n",
            "A decoder-only architecture is being used, but right-padding was detected! For correct generation results, please set `padding_side='left'` when initializing the tokenizer.\n"
          ]
        },
        {
          "output_type": "stream",
          "name": "stdout",
          "text": [
            "Real sentence is:\n",
            " ['هرآنکس که او از در کار بود بدان مرز با او سزاوار بود']\n",
            "Generated sentence is:\n",
            " [' نره صد اشتر صد اشتر ز یلان هزار ز گرد ز دشت و ز دشت']\n",
            "Epoch is: 4 \n",
            "Iteration is: 280       Loss is: 0.46732214093208313\n"
          ]
        },
        {
          "output_type": "stream",
          "name": "stderr",
          "text": [
            "Setting `pad_token_id` to `eos_token_id`:5 for open-end generation.\n",
            "A decoder-only architecture is being used, but right-padding was detected! For correct generation results, please set `padding_side='left'` when initializing the tokenizer.\n"
          ]
        },
        {
          "output_type": "stream",
          "name": "stdout",
          "text": [
            "Real sentence is:\n",
            " ['فرنگیس رانیز خواهند کشت مکن هیچ گونه برین کار پشت']\n",
            "Generated sentence is:\n",
            " [' ز خواب و شتابش به راه سیاوش یکی نامجوی']\n",
            "Epoch is: 4 \n",
            "Iteration is: 300       Loss is: 0.5440937280654907\n"
          ]
        },
        {
          "output_type": "stream",
          "name": "stderr",
          "text": [
            "Setting `pad_token_id` to `eos_token_id`:5 for open-end generation.\n",
            "A decoder-only architecture is being used, but right-padding was detected! For correct generation results, please set `padding_side='left'` when initializing the tokenizer.\n"
          ]
        },
        {
          "output_type": "stream",
          "name": "stdout",
          "text": [
            "Real sentence is:\n",
            " ['بران ابر باران خجسته سروش به گودرز گفتی که بگشای گوش']\n",
            "Generated sentence is:\n",
            " [' از سر مرد جنگ یکی نیزه و تیغ تیز از میان برگذارد جفت']\n",
            "Epoch is: 4 \n",
            "Iteration is: 320       Loss is: 0.488019734621048\n"
          ]
        },
        {
          "output_type": "stream",
          "name": "stderr",
          "text": [
            "Setting `pad_token_id` to `eos_token_id`:5 for open-end generation.\n",
            "A decoder-only architecture is being used, but right-padding was detected! For correct generation results, please set `padding_side='left'` when initializing the tokenizer.\n"
          ]
        },
        {
          "output_type": "stream",
          "name": "stdout",
          "text": [
            "Real sentence is:\n",
            " ['چو خورشید برزد سر از برج شیر سپهر اندر آورد شب را به زیر']\n",
            "Generated sentence is:\n",
            " [' از اسپ گودرز آمد پدید به کردار شیر افگند و آمد']\n",
            "Epoch is: 4 \n",
            "Iteration is: 340       Loss is: 0.4535140097141266\n"
          ]
        },
        {
          "output_type": "stream",
          "name": "stderr",
          "text": [
            "Setting `pad_token_id` to `eos_token_id`:5 for open-end generation.\n",
            "A decoder-only architecture is being used, but right-padding was detected! For correct generation results, please set `padding_side='left'` when initializing the tokenizer.\n"
          ]
        },
        {
          "output_type": "stream",
          "name": "stdout",
          "text": [
            "Real sentence is:\n",
            " ['درفشی کجا شیر پیکر بزر که گودرز کشواد دارد بسر']\n",
            "Generated sentence is:\n",
            " [' از هر دو نژاد یکی یکی برز دار اندر دلها پر ز داد']\n",
            "Epoch is: 4 \n",
            "Iteration is: 360       Loss is: 0.5103021264076233\n"
          ]
        },
        {
          "output_type": "stream",
          "name": "stderr",
          "text": [
            "Setting `pad_token_id` to `eos_token_id`:5 for open-end generation.\n",
            "A decoder-only architecture is being used, but right-padding was detected! For correct generation results, please set `padding_side='left'` when initializing the tokenizer.\n"
          ]
        },
        {
          "output_type": "stream",
          "name": "stdout",
          "text": [
            "Real sentence is:\n",
            " ['بیامد باسپ اندر آورد پای بکردار باد اندر آمد ز جای']\n",
            "Generated sentence is:\n",
            " [' اسپ جنگ آور اسپ بیژن خرام فغان بر اسپ جنگی فزون']\n",
            "Epoch is: 4 \n",
            "Iteration is: 380       Loss is: 0.45718514919281006\n"
          ]
        },
        {
          "output_type": "stream",
          "name": "stderr",
          "text": [
            "Setting `pad_token_id` to `eos_token_id`:5 for open-end generation.\n",
            "A decoder-only architecture is being used, but right-padding was detected! For correct generation results, please set `padding_side='left'` when initializing the tokenizer.\n"
          ]
        },
        {
          "output_type": "stream",
          "name": "stdout",
          "text": [
            "Real sentence is:\n",
            " ['درخشیدن تیغ و ژوپین و خشت تو گفتی شب اندر هوا لاله کشت']\n",
            "Generated sentence is:\n",
            " [' هم ازان بار آمدش براه پر درد و پر بخت زیر بار']\n",
            "Epoch is: 4 \n",
            "Iteration is: 400       Loss is: 0.43114805221557617\n"
          ]
        },
        {
          "output_type": "stream",
          "name": "stderr",
          "text": [
            "Setting `pad_token_id` to `eos_token_id`:5 for open-end generation.\n",
            "A decoder-only architecture is being used, but right-padding was detected! For correct generation results, please set `padding_side='left'` when initializing the tokenizer.\n"
          ]
        },
        {
          "output_type": "stream",
          "name": "stdout",
          "text": [
            "Real sentence is:\n",
            " ['چو خاقان بدیدش به بر درگرفت بماند از بر و یال پیران شگفت']\n",
            "Generated sentence is:\n",
            " [' و برکش سوی کاسه رود همی رفت تا راه لشکر آردت دور']\n",
            "Epoch is: 4 \n",
            "Iteration is: 420       Loss is: 0.446929931640625\n"
          ]
        },
        {
          "output_type": "stream",
          "name": "stderr",
          "text": [
            "Setting `pad_token_id` to `eos_token_id`:5 for open-end generation.\n",
            "A decoder-only architecture is being used, but right-padding was detected! For correct generation results, please set `padding_side='left'` when initializing the tokenizer.\n"
          ]
        },
        {
          "output_type": "stream",
          "name": "stdout",
          "text": [
            "Real sentence is:\n",
            " ['نهادند آوردگاهی بزرگ کشانی بیامد بکردار گرگ']\n",
            "Generated sentence is:\n",
            " [' برو تا برفت سوی کوه هیونی بکردار گرد سیاه']\n",
            "Epoch is: 4 \n",
            "Iteration is: 440       Loss is: 0.4851818382740021\n"
          ]
        },
        {
          "output_type": "stream",
          "name": "stderr",
          "text": [
            "Setting `pad_token_id` to `eos_token_id`:5 for open-end generation.\n",
            "A decoder-only architecture is being used, but right-padding was detected! For correct generation results, please set `padding_side='left'` when initializing the tokenizer.\n"
          ]
        },
        {
          "output_type": "stream",
          "name": "stdout",
          "text": [
            "Real sentence is:\n",
            " ['گریزی بهنگام با سر بجای به از رزم جستن بنام و برای']\n",
            "Generated sentence is:\n",
            " [' چون او نترسد ز کار ز بیژن همی برخروشد بدگمان']\n",
            "Epoch is: 4 \n",
            "Iteration is: 460       Loss is: 0.42803457379341125\n"
          ]
        },
        {
          "output_type": "stream",
          "name": "stderr",
          "text": [
            "Setting `pad_token_id` to `eos_token_id`:5 for open-end generation.\n",
            "A decoder-only architecture is being used, but right-padding was detected! For correct generation results, please set `padding_side='left'` when initializing the tokenizer.\n"
          ]
        },
        {
          "output_type": "stream",
          "name": "stdout",
          "text": [
            "Real sentence is:\n",
            " ['بدو گفت کای دیو ناسازگار ببینی کنون گردش روزگار']\n",
            "Generated sentence is:\n",
            " ['وان بدو گفت بیدار بایرانیان شادان که پیروز بادی']\n",
            "Epoch is: 4 \n",
            "Iteration is: 480       Loss is: 0.43749314546585083\n"
          ]
        },
        {
          "output_type": "stream",
          "name": "stderr",
          "text": [
            "Setting `pad_token_id` to `eos_token_id`:5 for open-end generation.\n",
            "A decoder-only architecture is being used, but right-padding was detected! For correct generation results, please set `padding_side='left'` when initializing the tokenizer.\n"
          ]
        },
        {
          "output_type": "stream",
          "name": "stdout",
          "text": [
            "Real sentence is:\n",
            " ['اگر هست خود جای گفتار نیست ولیکن شنیدن چو دیدار نیست']\n",
            "Generated sentence is:\n",
            " ['ش و خروشش گرفت چپ و راست جهان آفرین را بخواند']\n",
            "Epoch is: 4 \n",
            "Iteration is: 500       Loss is: 0.4701649248600006\n"
          ]
        },
        {
          "output_type": "stream",
          "name": "stderr",
          "text": [
            "Setting `pad_token_id` to `eos_token_id`:5 for open-end generation.\n",
            "A decoder-only architecture is being used, but right-padding was detected! For correct generation results, please set `padding_side='left'` when initializing the tokenizer.\n"
          ]
        },
        {
          "output_type": "stream",
          "name": "stdout",
          "text": [
            "Real sentence is:\n",
            " ['گرانمایه هفت اسب با کاروان یکی رخش و دیگر نشست گوان']\n",
            "Generated sentence is:\n",
            " [' از پدر نامم یکی نامدار نگه کن بفرمت بار']\n",
            "Epoch is: 4 \n",
            "Iteration is: 520       Loss is: 0.45662829279899597\n"
          ]
        },
        {
          "output_type": "stream",
          "name": "stderr",
          "text": [
            "Setting `pad_token_id` to `eos_token_id`:5 for open-end generation.\n",
            "A decoder-only architecture is being used, but right-padding was detected! For correct generation results, please set `padding_side='left'` when initializing the tokenizer.\n"
          ]
        },
        {
          "output_type": "stream",
          "name": "stdout",
          "text": [
            "Real sentence is:\n",
            " ['چو پیران بدید آن سپاه بزرگ بخون تشنه هر یک بکردار گرگ']\n",
            "Generated sentence is:\n",
            " ['ده لشکرم سواران جنگ یکی مرد دلیر']\n",
            "Epoch is: 4 \n",
            "Iteration is: 540       Loss is: 0.4783160090446472\n"
          ]
        },
        {
          "output_type": "stream",
          "name": "stderr",
          "text": [
            "Setting `pad_token_id` to `eos_token_id`:5 for open-end generation.\n",
            "A decoder-only architecture is being used, but right-padding was detected! For correct generation results, please set `padding_side='left'` when initializing the tokenizer.\n"
          ]
        },
        {
          "output_type": "stream",
          "name": "stdout",
          "text": [
            "Real sentence is:\n",
            " ['بلشکر بفرمود پس پهلوان که بیدار باشید و روشن روان']\n",
            "Generated sentence is:\n",
            " [' از تو جدا شد پدیدآور بر جهان آفرینگند یاد']\n",
            "Epoch is: 4 \n",
            "Iteration is: 560       Loss is: 0.4048730731010437\n"
          ]
        },
        {
          "output_type": "stream",
          "name": "stderr",
          "text": [
            "Setting `pad_token_id` to `eos_token_id`:5 for open-end generation.\n",
            "A decoder-only architecture is being used, but right-padding was detected! For correct generation results, please set `padding_side='left'` when initializing the tokenizer.\n"
          ]
        },
        {
          "output_type": "stream",
          "name": "stdout",
          "text": [
            "Real sentence is:\n",
            " ['که پشت همه شهر توران بدوست چو روی تو بیند بدردش پوست']\n",
            "Generated sentence is:\n",
            " ['شان فرستاده ای سوی پهلوان بپیش سپاه']\n",
            "Epoch is: 4 \n",
            "Iteration is: 580       Loss is: 0.416221559047699\n"
          ]
        },
        {
          "output_type": "stream",
          "name": "stderr",
          "text": [
            "Setting `pad_token_id` to `eos_token_id`:5 for open-end generation.\n",
            "A decoder-only architecture is being used, but right-padding was detected! For correct generation results, please set `padding_side='left'` when initializing the tokenizer.\n"
          ]
        },
        {
          "output_type": "stream",
          "name": "stdout",
          "text": [
            "Real sentence is:\n",
            " ['بزنهار بر ما کنون عار نیست سپاهست بسیار و سالار نیست']\n",
            "Generated sentence is:\n",
            " ['ش بدرید و بنهاد روی چنان چون بود نزد شاه روی']\n",
            "Epoch is: 4 \n",
            "Iteration is: 600       Loss is: 0.42717844247817993\n"
          ]
        },
        {
          "output_type": "stream",
          "name": "stderr",
          "text": [
            "Setting `pad_token_id` to `eos_token_id`:5 for open-end generation.\n",
            "A decoder-only architecture is being used, but right-padding was detected! For correct generation results, please set `padding_side='left'` when initializing the tokenizer.\n"
          ]
        },
        {
          "output_type": "stream",
          "name": "stdout",
          "text": [
            "Real sentence is:\n",
            " ['دمادم فرستد سلیح و سپاه خورش را شتر نگسلاند ز راه']\n",
            "Generated sentence is:\n",
            " ['ست نامش ز پیران که بیژن بدان شارستان نهادست روی']\n",
            "Epoch is: 4 \n",
            "Iteration is: 620       Loss is: 0.4190942347049713\n"
          ]
        },
        {
          "output_type": "stream",
          "name": "stderr",
          "text": [
            "Setting `pad_token_id` to `eos_token_id`:5 for open-end generation.\n",
            "A decoder-only architecture is being used, but right-padding was detected! For correct generation results, please set `padding_side='left'` when initializing the tokenizer.\n"
          ]
        },
        {
          "output_type": "stream",
          "name": "stdout",
          "text": [
            "Real sentence is:\n",
            " ['خورشگر بدیشان بزی چند و میش سپردی و صحرا نهادند پیش']\n",
            "Generated sentence is:\n",
            " [' آفرین کردش و چندیش نخست یکی راز نهادش آن نام']\n",
            "Epoch is: 5 \n",
            "Iteration is: 20       Loss is: 0.6775506138801575\n"
          ]
        },
        {
          "output_type": "stream",
          "name": "stderr",
          "text": [
            "Setting `pad_token_id` to `eos_token_id`:5 for open-end generation.\n",
            "A decoder-only architecture is being used, but right-padding was detected! For correct generation results, please set `padding_side='left'` when initializing the tokenizer.\n"
          ]
        },
        {
          "output_type": "stream",
          "name": "stdout",
          "text": [
            "Real sentence is:\n",
            " ['سزد گر بمانیم هر دو دژم کزین سان پدر کرد بر ما ستم']\n",
            "Generated sentence is:\n",
            " ['و بد اندر آمد نخست جهان را بدوی پر از گفتگوی دید']\n",
            "Epoch is: 5 \n",
            "Iteration is: 40       Loss is: 0.4829329550266266\n"
          ]
        },
        {
          "output_type": "stream",
          "name": "stderr",
          "text": [
            "Setting `pad_token_id` to `eos_token_id`:5 for open-end generation.\n",
            "A decoder-only architecture is being used, but right-padding was detected! For correct generation results, please set `padding_side='left'` when initializing the tokenizer.\n"
          ]
        },
        {
          "output_type": "stream",
          "name": "stdout",
          "text": [
            "Real sentence is:\n",
            " ['سپاهی بدین رزمگاه آمدیم نه بر آرزو کینه خواه آمدیم']\n",
            "Generated sentence is:\n",
            " ['وند فریدون برو آفرین برگرفتند آفرین']\n",
            "Epoch is: 5 \n",
            "Iteration is: 60       Loss is: 0.40118029713630676\n"
          ]
        },
        {
          "output_type": "stream",
          "name": "stderr",
          "text": [
            "Setting `pad_token_id` to `eos_token_id`:5 for open-end generation.\n",
            "A decoder-only architecture is being used, but right-padding was detected! For correct generation results, please set `padding_side='left'` when initializing the tokenizer.\n"
          ]
        },
        {
          "output_type": "stream",
          "name": "stdout",
          "text": [
            "Real sentence is:\n",
            " ['بدیدند مر پهلوان را پگاه وزان جایگه برگرفتند راه']\n",
            "Generated sentence is:\n",
            " ['یش ز فرمان یزدان سرافراز بود به دلها ز شمشیر گردان بود']\n",
            "Epoch is: 5 \n",
            "Iteration is: 80       Loss is: 0.4257516860961914\n"
          ]
        },
        {
          "output_type": "stream",
          "name": "stderr",
          "text": [
            "Setting `pad_token_id` to `eos_token_id`:5 for open-end generation.\n",
            "A decoder-only architecture is being used, but right-padding was detected! For correct generation results, please set `padding_side='left'` when initializing the tokenizer.\n"
          ]
        },
        {
          "output_type": "stream",
          "name": "stdout",
          "text": [
            "Real sentence is:\n",
            " ['چو از خوان خسرو بپرداختند به تخت دگر جای می ساختند']\n",
            "Generated sentence is:\n",
            " ['یدم ز ایوان سوی کوه زمین براه که این کار کرد خواهد']\n",
            "Epoch is: 5 \n",
            "Iteration is: 100       Loss is: 0.3952476978302002\n"
          ]
        },
        {
          "output_type": "stream",
          "name": "stderr",
          "text": [
            "Setting `pad_token_id` to `eos_token_id`:5 for open-end generation.\n",
            "A decoder-only architecture is being used, but right-padding was detected! For correct generation results, please set `padding_side='left'` when initializing the tokenizer.\n"
          ]
        },
        {
          "output_type": "stream",
          "name": "stdout",
          "text": [
            "Real sentence is:\n",
            " ['شب آمد جهان سر به سر تیره گشت مرا بازو از کوفتن خیره گشت']\n",
            "Generated sentence is:\n",
            " [' آن چه باید کنون پاسخ به مهر ماه گذشته نگر تا چه خواست']\n",
            "Epoch is: 5 \n",
            "Iteration is: 120       Loss is: 0.4192971885204315\n"
          ]
        },
        {
          "output_type": "stream",
          "name": "stderr",
          "text": [
            "Setting `pad_token_id` to `eos_token_id`:5 for open-end generation.\n",
            "A decoder-only architecture is being used, but right-padding was detected! For correct generation results, please set `padding_side='left'` when initializing the tokenizer.\n"
          ]
        },
        {
          "output_type": "stream",
          "name": "stdout",
          "text": [
            "Real sentence is:\n",
            " ['ز گرد سواران در آن پهن دشت زمین شش شد و آسمان گشت هشت']\n",
            "Generated sentence is:\n",
            " ['یدن آمد ز راه کی قباد سپه را به خواری نمود']\n",
            "Epoch is: 5 \n",
            "Iteration is: 140       Loss is: 0.37309983372688293\n"
          ]
        },
        {
          "output_type": "stream",
          "name": "stderr",
          "text": [
            "Setting `pad_token_id` to `eos_token_id`:5 for open-end generation.\n",
            "A decoder-only architecture is being used, but right-padding was detected! For correct generation results, please set `padding_side='left'` when initializing the tokenizer.\n"
          ]
        },
        {
          "output_type": "stream",
          "name": "stdout",
          "text": [
            "Real sentence is:\n",
            " ['پراگنده در پادشاهی سوار همانا که هستند سیصدهزار']\n",
            "Generated sentence is:\n",
            " [' ز رستم ز جادو بترسید یکی پیلتن ز جادو بدید']\n",
            "Epoch is: 5 \n",
            "Iteration is: 160       Loss is: 0.387482225894928\n"
          ]
        },
        {
          "output_type": "stream",
          "name": "stderr",
          "text": [
            "Setting `pad_token_id` to `eos_token_id`:5 for open-end generation.\n",
            "A decoder-only architecture is being used, but right-padding was detected! For correct generation results, please set `padding_side='left'` when initializing the tokenizer.\n"
          ]
        },
        {
          "output_type": "stream",
          "name": "stdout",
          "text": [
            "Real sentence is:\n",
            " ['خبر شد به شاه هماور ازین که رستم نهادست بر رخش زین']\n",
            "Generated sentence is:\n",
            " ['ده ز کاووس شاه بردش هوش به ایران زمین کرد یاد']\n",
            "Epoch is: 5 \n",
            "Iteration is: 180       Loss is: 0.33929815888404846\n"
          ]
        },
        {
          "output_type": "stream",
          "name": "stderr",
          "text": [
            "Setting `pad_token_id` to `eos_token_id`:5 for open-end generation.\n",
            "A decoder-only architecture is being used, but right-padding was detected! For correct generation results, please set `padding_side='left'` when initializing the tokenizer.\n"
          ]
        },
        {
          "output_type": "stream",
          "name": "stdout",
          "text": [
            "Real sentence is:\n",
            " ['نهانی بسازیم بهتر بود خرد داشتن کار مهتر بود']\n",
            "Generated sentence is:\n",
            " [' چه خوانیم و چه می نتابیم و جنگ را ساخته ندیدیم و جنگ']\n",
            "Epoch is: 5 \n",
            "Iteration is: 200       Loss is: 0.38901907205581665\n"
          ]
        },
        {
          "output_type": "stream",
          "name": "stderr",
          "text": [
            "Setting `pad_token_id` to `eos_token_id`:5 for open-end generation.\n",
            "A decoder-only architecture is being used, but right-padding was detected! For correct generation results, please set `padding_side='left'` when initializing the tokenizer.\n"
          ]
        },
        {
          "output_type": "stream",
          "name": "stdout",
          "text": [
            "Real sentence is:\n",
            " ['همی ماند رستم ازو در شگفت ز پیگارش اندازه ها برگرفت']\n",
            "Generated sentence is:\n",
            " ['یمش گیو به نزدیک شاه ابا پیل سرافراز پیل و گوان']\n",
            "Epoch is: 5 \n",
            "Iteration is: 220       Loss is: 0.39316657185554504\n"
          ]
        },
        {
          "output_type": "stream",
          "name": "stderr",
          "text": [
            "Setting `pad_token_id` to `eos_token_id`:5 for open-end generation.\n",
            "A decoder-only architecture is being used, but right-padding was detected! For correct generation results, please set `padding_side='left'` when initializing the tokenizer.\n"
          ]
        },
        {
          "output_type": "stream",
          "name": "stdout",
          "text": [
            "Real sentence is:\n",
            " ['ز هر در سخن چون بدین گونه گشت بر آتش یکی را بباید گذشت']\n",
            "Generated sentence is:\n",
            " ['ش مرا برد با فر و ماه فروزان ز یاقوت و پیروزه تاج و کلاه']\n",
            "Epoch is: 5 \n",
            "Iteration is: 240       Loss is: 0.3812514543533325\n"
          ]
        },
        {
          "output_type": "stream",
          "name": "stderr",
          "text": [
            "Setting `pad_token_id` to `eos_token_id`:5 for open-end generation.\n",
            "A decoder-only architecture is being used, but right-padding was detected! For correct generation results, please set `padding_side='left'` when initializing the tokenizer.\n"
          ]
        },
        {
          "output_type": "stream",
          "name": "stdout",
          "text": [
            "Real sentence is:\n",
            " ['ز کاووس وز خام گفتار او ز خوی بد و رای و پیگار او']\n",
            "Generated sentence is:\n",
            " ['ش فراوان و خیره بماند هم تا زمانی درنگ و راه بپیمود']\n",
            "Epoch is: 5 \n",
            "Iteration is: 260       Loss is: 0.4148660898208618\n"
          ]
        },
        {
          "output_type": "stream",
          "name": "stderr",
          "text": [
            "Setting `pad_token_id` to `eos_token_id`:5 for open-end generation.\n",
            "A decoder-only architecture is being used, but right-padding was detected! For correct generation results, please set `padding_side='left'` when initializing the tokenizer.\n"
          ]
        },
        {
          "output_type": "stream",
          "name": "stdout",
          "text": [
            "Real sentence is:\n",
            " ['هرآنکس که او از در کار بود بدان مرز با او سزاوار بود']\n",
            "Generated sentence is:\n",
            " ['ش فراوان و شمرد به گیتی به مهر که هم چهر تو دید']\n",
            "Epoch is: 5 \n",
            "Iteration is: 280       Loss is: 0.2994517683982849\n"
          ]
        },
        {
          "output_type": "stream",
          "name": "stderr",
          "text": [
            "Setting `pad_token_id` to `eos_token_id`:5 for open-end generation.\n",
            "A decoder-only architecture is being used, but right-padding was detected! For correct generation results, please set `padding_side='left'` when initializing the tokenizer.\n"
          ]
        },
        {
          "output_type": "stream",
          "name": "stdout",
          "text": [
            "Real sentence is:\n",
            " ['فرنگیس رانیز خواهند کشت مکن هیچ گونه برین کار پشت']\n",
            "Generated sentence is:\n",
            " ['ت کزین خیره چه بود که با درد اندر نبرد آزمود']\n",
            "Epoch is: 5 \n",
            "Iteration is: 300       Loss is: 0.3648960292339325\n"
          ]
        },
        {
          "output_type": "stream",
          "name": "stderr",
          "text": [
            "Setting `pad_token_id` to `eos_token_id`:5 for open-end generation.\n",
            "A decoder-only architecture is being used, but right-padding was detected! For correct generation results, please set `padding_side='left'` when initializing the tokenizer.\n"
          ]
        },
        {
          "output_type": "stream",
          "name": "stdout",
          "text": [
            "Real sentence is:\n",
            " ['بران ابر باران خجسته سروش به گودرز گفتی که بگشای گوش']\n",
            "Generated sentence is:\n",
            " [' ز رستم سرفراز برید کس آن نامبردار و شیر']\n",
            "Epoch is: 5 \n",
            "Iteration is: 320       Loss is: 0.3196958005428314\n"
          ]
        },
        {
          "output_type": "stream",
          "name": "stderr",
          "text": [
            "Setting `pad_token_id` to `eos_token_id`:5 for open-end generation.\n",
            "A decoder-only architecture is being used, but right-padding was detected! For correct generation results, please set `padding_side='left'` when initializing the tokenizer.\n"
          ]
        },
        {
          "output_type": "stream",
          "name": "stdout",
          "text": [
            "Real sentence is:\n",
            " ['چو خورشید برزد سر از برج شیر سپهر اندر آورد شب را به زیر']\n",
            "Generated sentence is:\n",
            " [' از رستم سر و تاج بیارای خواب که بیدار بید و نخچیر']\n",
            "Epoch is: 5 \n",
            "Iteration is: 340       Loss is: 0.3002045452594757\n"
          ]
        },
        {
          "output_type": "stream",
          "name": "stderr",
          "text": [
            "Setting `pad_token_id` to `eos_token_id`:5 for open-end generation.\n",
            "A decoder-only architecture is being used, but right-padding was detected! For correct generation results, please set `padding_side='left'` when initializing the tokenizer.\n"
          ]
        },
        {
          "output_type": "stream",
          "name": "stdout",
          "text": [
            "Real sentence is:\n",
            " ['درفشی کجا شیر پیکر بزر که گودرز کشواد دارد بسر']\n",
            "Generated sentence is:\n",
            " [' از ره دادگر کردگار بآمد یکی راه و بد جوی']\n",
            "Epoch is: 5 \n",
            "Iteration is: 360       Loss is: 0.3252892792224884\n"
          ]
        },
        {
          "output_type": "stream",
          "name": "stderr",
          "text": [
            "Setting `pad_token_id` to `eos_token_id`:5 for open-end generation.\n",
            "A decoder-only architecture is being used, but right-padding was detected! For correct generation results, please set `padding_side='left'` when initializing the tokenizer.\n"
          ]
        },
        {
          "output_type": "stream",
          "name": "stdout",
          "text": [
            "Real sentence is:\n",
            " ['بیامد باسپ اندر آورد پای بکردار باد اندر آمد ز جای']\n",
            "Generated sentence is:\n",
            " ['ش بدشت و بفراخت نشست سوی اسپ او بر زمین']\n",
            "Epoch is: 5 \n",
            "Iteration is: 380       Loss is: 0.2948906123638153\n"
          ]
        },
        {
          "output_type": "stream",
          "name": "stderr",
          "text": [
            "Setting `pad_token_id` to `eos_token_id`:5 for open-end generation.\n",
            "A decoder-only architecture is being used, but right-padding was detected! For correct generation results, please set `padding_side='left'` when initializing the tokenizer.\n"
          ]
        },
        {
          "output_type": "stream",
          "name": "stdout",
          "text": [
            "Real sentence is:\n",
            " ['درخشیدن تیغ و ژوپین و خشت تو گفتی شب اندر هوا لاله کشت']\n",
            "Generated sentence is:\n",
            " [' ز هر کس بپسرو خشم یکی پرخرد بر گستوان خشت']\n",
            "Epoch is: 5 \n",
            "Iteration is: 400       Loss is: 0.2849532961845398\n"
          ]
        },
        {
          "output_type": "stream",
          "name": "stderr",
          "text": [
            "Setting `pad_token_id` to `eos_token_id`:5 for open-end generation.\n",
            "A decoder-only architecture is being used, but right-padding was detected! For correct generation results, please set `padding_side='left'` when initializing the tokenizer.\n"
          ]
        },
        {
          "output_type": "stream",
          "name": "stdout",
          "text": [
            "Real sentence is:\n",
            " ['چو خاقان بدیدش به بر درگرفت بماند از بر و یال پیران شگفت']\n",
            "Generated sentence is:\n",
            " [' کزو تا به هندوستان که ما پیش رویم باویم خشم']\n",
            "Epoch is: 5 \n",
            "Iteration is: 420       Loss is: 0.29209205508232117\n"
          ]
        },
        {
          "output_type": "stream",
          "name": "stderr",
          "text": [
            "Setting `pad_token_id` to `eos_token_id`:5 for open-end generation.\n",
            "A decoder-only architecture is being used, but right-padding was detected! For correct generation results, please set `padding_side='left'` when initializing the tokenizer.\n"
          ]
        },
        {
          "output_type": "stream",
          "name": "stdout",
          "text": [
            "Real sentence is:\n",
            " ['نهادند آوردگاهی بزرگ کشانی بیامد بکردار گرگ']\n",
            "Generated sentence is:\n",
            " ['ست افراسیاب که او بی گمان بدرید سنگ از دو میل']\n",
            "Epoch is: 5 \n",
            "Iteration is: 440       Loss is: 0.3161466717720032\n"
          ]
        },
        {
          "output_type": "stream",
          "name": "stderr",
          "text": [
            "Setting `pad_token_id` to `eos_token_id`:5 for open-end generation.\n",
            "A decoder-only architecture is being used, but right-padding was detected! For correct generation results, please set `padding_side='left'` when initializing the tokenizer.\n"
          ]
        },
        {
          "output_type": "stream",
          "name": "stdout",
          "text": [
            "Real sentence is:\n",
            " ['گریزی بهنگام با سر بجای به از رزم جستن بنام و برای']\n",
            "Generated sentence is:\n",
            " [' و چندان سپاه که با کام و جان پرهنر شاه']\n",
            "Epoch is: 5 \n",
            "Iteration is: 460       Loss is: 0.2647189497947693\n"
          ]
        },
        {
          "output_type": "stream",
          "name": "stderr",
          "text": [
            "Setting `pad_token_id` to `eos_token_id`:5 for open-end generation.\n",
            "A decoder-only architecture is being used, but right-padding was detected! For correct generation results, please set `padding_side='left'` when initializing the tokenizer.\n"
          ]
        },
        {
          "output_type": "stream",
          "name": "stdout",
          "text": [
            "Real sentence is:\n",
            " ['بدو گفت کای دیو ناسازگار ببینی کنون گردش روزگار']\n",
            "Generated sentence is:\n",
            " ['ش که جنگی نبود و لشکر بدو راه آشکار و نهان']\n",
            "Epoch is: 5 \n",
            "Iteration is: 480       Loss is: 0.28136804699897766\n"
          ]
        },
        {
          "output_type": "stream",
          "name": "stderr",
          "text": [
            "Setting `pad_token_id` to `eos_token_id`:5 for open-end generation.\n",
            "A decoder-only architecture is being used, but right-padding was detected! For correct generation results, please set `padding_side='left'` when initializing the tokenizer.\n"
          ]
        },
        {
          "output_type": "stream",
          "name": "stdout",
          "text": [
            "Real sentence is:\n",
            " ['اگر هست خود جای گفتار نیست ولیکن شنیدن چو دیدار نیست']\n",
            "Generated sentence is:\n",
            " [' ز هر سو سوی لشکر بگرفت که از باد اسپش چه آمد پدید']\n",
            "Epoch is: 5 \n",
            "Iteration is: 500       Loss is: 0.29052168130874634\n"
          ]
        },
        {
          "output_type": "stream",
          "name": "stderr",
          "text": [
            "Setting `pad_token_id` to `eos_token_id`:5 for open-end generation.\n",
            "A decoder-only architecture is being used, but right-padding was detected! For correct generation results, please set `padding_side='left'` when initializing the tokenizer.\n"
          ]
        },
        {
          "output_type": "stream",
          "name": "stdout",
          "text": [
            "Real sentence is:\n",
            " ['گرانمایه هفت اسب با کاروان یکی رخش و دیگر نشست گوان']\n",
            "Generated sentence is:\n",
            " [' هم نبینم چنین جام شاهت ببسته میان']\n",
            "Epoch is: 5 \n",
            "Iteration is: 520       Loss is: 0.2776812016963959\n"
          ]
        },
        {
          "output_type": "stream",
          "name": "stderr",
          "text": [
            "Setting `pad_token_id` to `eos_token_id`:5 for open-end generation.\n",
            "A decoder-only architecture is being used, but right-padding was detected! For correct generation results, please set `padding_side='left'` when initializing the tokenizer.\n"
          ]
        },
        {
          "output_type": "stream",
          "name": "stdout",
          "text": [
            "Real sentence is:\n",
            " ['چو پیران بدید آن سپاه بزرگ بخون تشنه هر یک بکردار گرگ']\n",
            "Generated sentence is:\n",
            " ['وند رستم رایی بافزون بپوشید بر لشکر و بنهاد رنج']\n",
            "Epoch is: 5 \n",
            "Iteration is: 540       Loss is: 0.3326635956764221\n"
          ]
        },
        {
          "output_type": "stream",
          "name": "stderr",
          "text": [
            "Setting `pad_token_id` to `eos_token_id`:5 for open-end generation.\n",
            "A decoder-only architecture is being used, but right-padding was detected! For correct generation results, please set `padding_side='left'` when initializing the tokenizer.\n"
          ]
        },
        {
          "output_type": "stream",
          "name": "stdout",
          "text": [
            "Real sentence is:\n",
            " ['بلشکر بفرمود پس پهلوان که بیدار باشید و روشن روان']\n",
            "Generated sentence is:\n",
            " ['شان فراوان دو پرخاشجوی که ای شیر انجمن']\n",
            "Epoch is: 5 \n",
            "Iteration is: 560       Loss is: 0.2585970461368561\n"
          ]
        },
        {
          "output_type": "stream",
          "name": "stderr",
          "text": [
            "Setting `pad_token_id` to `eos_token_id`:5 for open-end generation.\n",
            "A decoder-only architecture is being used, but right-padding was detected! For correct generation results, please set `padding_side='left'` when initializing the tokenizer.\n"
          ]
        },
        {
          "output_type": "stream",
          "name": "stdout",
          "text": [
            "Real sentence is:\n",
            " ['که پشت همه شهر توران بدوست چو روی تو بیند بدردش پوست']\n",
            "Generated sentence is:\n",
            " ['ده افراسیاب پس پرده اندر گرفت آن سپاه']\n",
            "Epoch is: 5 \n",
            "Iteration is: 580       Loss is: 0.26265713572502136\n"
          ]
        },
        {
          "output_type": "stream",
          "name": "stderr",
          "text": [
            "Setting `pad_token_id` to `eos_token_id`:5 for open-end generation.\n",
            "A decoder-only architecture is being used, but right-padding was detected! For correct generation results, please set `padding_side='left'` when initializing the tokenizer.\n"
          ]
        },
        {
          "output_type": "stream",
          "name": "stdout",
          "text": [
            "Real sentence is:\n",
            " ['بزنهار بر ما کنون عار نیست سپاهست بسیار و سالار نیست']\n",
            "Generated sentence is:\n",
            " ['ش بد و گوان ازان سان کشید که تا براندید چاک سپهر']\n",
            "Epoch is: 5 \n",
            "Iteration is: 600       Loss is: 0.27153682708740234\n"
          ]
        },
        {
          "output_type": "stream",
          "name": "stderr",
          "text": [
            "Setting `pad_token_id` to `eos_token_id`:5 for open-end generation.\n",
            "A decoder-only architecture is being used, but right-padding was detected! For correct generation results, please set `padding_side='left'` when initializing the tokenizer.\n"
          ]
        },
        {
          "output_type": "stream",
          "name": "stdout",
          "text": [
            "Real sentence is:\n",
            " ['دمادم فرستد سلیح و سپاه خورش را شتر نگسلاند ز راه']\n",
            "Generated sentence is:\n",
            " ['م ز شاه ترکان بجنگ کجا شاه کیخسرو روی']\n",
            "Epoch is: 5 \n",
            "Iteration is: 620       Loss is: 0.2562151551246643\n"
          ]
        }
      ]
    },
    {
      "cell_type": "code",
      "source": [
        "####### Plot the loss\n",
        "plt.plot(losses)\n",
        "plt.title(\"Loss for training\")\n",
        "plt.xlabel(\"Batches\")\n",
        "plt.ylabel(\"Train loss\")"
      ],
      "metadata": {
        "colab": {
          "base_uri": "https://localhost:8080/",
          "height": 490
        },
        "id": "3fvIUkszUyAk",
        "outputId": "411da2b1-a96b-42f3-9a62-a043e7b0bbca"
      },
      "execution_count": 13,
      "outputs": [
        {
          "output_type": "execute_result",
          "data": {
            "text/plain": [
              "Text(0, 0.5, 'Train loss')"
            ]
          },
          "metadata": {},
          "execution_count": 13
        },
        {
          "output_type": "display_data",
          "data": {
            "text/plain": [
              "<Figure size 640x480 with 1 Axes>"
            ],
            "image/png": "[encoded data removed]"
          },
          "metadata": {}
        }
      ]
    },
    {
      "cell_type": "markdown",
      "source": [
        "**قسمت د**"
      ],
      "metadata": {
        "id": "TfCTXA4zYrRU"
      }
    },
    {
      "cell_type": "code",
      "source": [
        "############‌ Examining on test\n",
        "\n",
        "with torch.no_grad():\n",
        "\n",
        "  for inputs, attention, labels in test_dl:\n",
        "\n",
        "      model=model.to(device)\n",
        "      i=i+1\n",
        "      inputs=inputs.to(device)\n",
        "      attention=attention.to(device)\n",
        "      labels=labels.to(device)\n",
        "\n",
        "      outputs = model(inputs.to(torch.long), attention_mask=attention, labels=inputs.to(torch.long))\n",
        "\n",
        "      # Calculate Perplexity loss which is exp of cross entropy between generated textes and second couplets\n",
        "\n",
        "      loss = F.cross_entropy(outputs.logits.view(-1, outputs.logits.size(-1)), labels.view(-1))\n",
        "      perplexity = torch.exp(loss)\n",
        "\n",
        "      if i % 20 == 0:\n",
        "\n",
        "          input_sentence= tokenizer.batch_decode(inputs[0].to('cpu'), skip_special_tokens=True)\n",
        "          model.eval()\n",
        "          test_dat = tokenizer.encode_plus(input_sentence,return_tensors='pt',max_length=80).to(device)\n",
        "\n",
        "          out_model = model.generate(test_dat['input_ids'], do_sample=True, max_length=128, temperature=0.99, num_return_sequences=1, attention_mask=test_dat['attention_mask'])\n",
        "\n",
        "          print(\"Real sentence is:\\n\",input_sentence)\n",
        "          print(\"Generated sentence is:\\n\",[tokenizer.decode(out_model[i],skip_special_tokens=True) for i in range(len(out_model))])\n",
        "          print(\"Perplexity:\", perplexity.item())\n",
        "\n"
      ],
      "metadata": {
        "colab": {
          "base_uri": "https://localhost:8080/"
        },
        "id": "oyhZt5Lti630",
        "outputId": "d5e7e4c5-979d-40d0-a801-527674a3afcb"
      },
      "execution_count": 14,
      "outputs": [
        {
          "output_type": "stream",
          "name": "stderr",
          "text": [
            "Setting `pad_token_id` to `eos_token_id`:5 for open-end generation.\n",
            "A decoder-only architecture is being used, but right-padding was detected! For correct generation results, please set `padding_side='left'` when initializing the tokenizer.\n"
          ]
        },
        {
          "output_type": "stream",
          "name": "stdout",
          "text": [
            "Real sentence is:\n",
            " ['یکی جای بود آن بسان بهشت گلش مشک سارا بد و زر خشت']\n",
            "Generated sentence is:\n",
            " [' چنین هم برم دشت و بر کوههٔ پیل کوس و المقدس']\n",
            "Perplexity: 9.322721481323242\n"
          ]
        },
        {
          "output_type": "stream",
          "name": "stderr",
          "text": [
            "Setting `pad_token_id` to `eos_token_id`:5 for open-end generation.\n",
            "A decoder-only architecture is being used, but right-padding was detected! For correct generation results, please set `padding_side='left'` when initializing the tokenizer.\n"
          ]
        },
        {
          "output_type": "stream",
          "name": "stdout",
          "text": [
            "Real sentence is:\n",
            " ['ز ریگ و بیابان وز کوه و شخ دو لشکر برین سان چو مور و ملخ']\n",
            "Generated sentence is:\n",
            " ['ده شه سی هزار همه رزمجوی و جنگ جوی']\n",
            "Perplexity: 8.304606437683105\n"
          ]
        },
        {
          "output_type": "stream",
          "name": "stderr",
          "text": [
            "Setting `pad_token_id` to `eos_token_id`:5 for open-end generation.\n",
            "A decoder-only architecture is being used, but right-padding was detected! For correct generation results, please set `padding_side='left'` when initializing the tokenizer.\n"
          ]
        },
        {
          "output_type": "stream",
          "name": "stdout",
          "text": [
            "Real sentence is:\n",
            " ['نشستند در گلشن زرنگار بزرگان پرمایه با شهریار']\n",
            "Generated sentence is:\n",
            " [' بکشت جنگی پلنگ چو آهو که هنگام جنگ کنی شکار']\n",
            "Perplexity: 9.856953620910645\n"
          ]
        },
        {
          "output_type": "stream",
          "name": "stderr",
          "text": [
            "Setting `pad_token_id` to `eos_token_id`:5 for open-end generation.\n",
            "A decoder-only architecture is being used, but right-padding was detected! For correct generation results, please set `padding_side='left'` when initializing the tokenizer.\n"
          ]
        },
        {
          "output_type": "stream",
          "name": "stdout",
          "text": [
            "Real sentence is:\n",
            " ['دگر گنج کش خواندندی عروس که آگند کاوس در شهر طوس']\n",
            "Generated sentence is:\n",
            " [' جز این سواران کس پیشکش که دانی تو نام و نشان']\n",
            "Perplexity: 10.20327377319336\n"
          ]
        },
        {
          "output_type": "stream",
          "name": "stderr",
          "text": [
            "Setting `pad_token_id` to `eos_token_id`:5 for open-end generation.\n",
            "A decoder-only architecture is being used, but right-padding was detected! For correct generation results, please set `padding_side='left'` when initializing the tokenizer.\n"
          ]
        },
        {
          "output_type": "stream",
          "name": "stdout",
          "text": [
            "Real sentence is:\n",
            " ['که او گفت در بیشهٔ فاسقون یکی گرگ باشد بسان هیون']\n",
            "Generated sentence is:\n",
            " ['ست مر جنگ را بخواند ز بیژن کسی کش بگوید بس']\n",
            "Perplexity: 10.758378028869629\n"
          ]
        },
        {
          "output_type": "stream",
          "name": "stderr",
          "text": [
            "Setting `pad_token_id` to `eos_token_id`:5 for open-end generation.\n",
            "A decoder-only architecture is being used, but right-padding was detected! For correct generation results, please set `padding_side='left'` when initializing the tokenizer.\n"
          ]
        },
        {
          "output_type": "stream",
          "name": "stdout",
          "text": [
            "Real sentence is:\n",
            " ['سوی گنبد آذر آرید روی به فرمان پیغمبر راست گوی']\n",
            "Generated sentence is:\n",
            " [' همه رفته باش رایی نخواهم بجایی که با دل آید بفر']\n",
            "Perplexity: 9.341463088989258\n"
          ]
        },
        {
          "output_type": "stream",
          "name": "stderr",
          "text": [
            "Setting `pad_token_id` to `eos_token_id`:5 for open-end generation.\n",
            "A decoder-only architecture is being used, but right-padding was detected! For correct generation results, please set `padding_side='left'` when initializing the tokenizer.\n"
          ]
        },
        {
          "output_type": "stream",
          "name": "stdout",
          "text": [
            "Real sentence is:\n",
            " ['ازان جادوی پیر بیرون کشید سرش را ز نیمه تن اندر برید']\n",
            "Generated sentence is:\n",
            " [' کوس و بافسون مر او را بدید بزرگان همگروه']\n",
            "Perplexity: 9.33321762084961\n"
          ]
        }
      ]
    },
    {
      "cell_type": "code",
      "source": [
        "# New Sentences!!\n",
        "input_sentence1='يوسف گم گشته باز آيد'\n",
        "input_sentence2='رستم با بدان بنشست'\n",
        "input_sentence3='افراسياب رستم را فراخواند'\n",
        "input_sentences=[input_sentence1,input_sentence2,input_sentence3]\n",
        "\n",
        "for sent in input_sentences:\n",
        "\n",
        "   model.eval()\n",
        "   test_dat = tokenizer.encode_plus(sent,return_tensors='pt',max_length=80).to(device)\n",
        "\n",
        "   out_model = model.generate(test_dat['input_ids'], do_sample=True, max_length=128, temperature=0.99, num_return_sequences=1, attention_mask=test_dat['attention_mask'])\n",
        "\n",
        "   print(\"Real sentence is:\\n\",sent)\n",
        "   print(\"Generated sentence is:\\n\",[tokenizer.decode(out_model[i],skip_special_tokens=True) for i in range(len(out_model))])\n",
        "\n"
      ],
      "metadata": {
        "colab": {
          "base_uri": "https://localhost:8080/"
        },
        "id": "DLqMYYReQruH",
        "outputId": "0dfb5699-6dd4-44af-b8c3-5ac80ed3daf0"
      },
      "execution_count": 15,
      "outputs": [
        {
          "output_type": "stream",
          "name": "stderr",
          "text": [
            "Setting `pad_token_id` to `eos_token_id`:5 for open-end generation.\n",
            "Setting `pad_token_id` to `eos_token_id`:5 for open-end generation.\n",
            "Setting `pad_token_id` to `eos_token_id`:5 for open-end generation.\n"
          ]
        },
        {
          "output_type": "stream",
          "name": "stdout",
          "text": [
            "Real sentence is:\n",
            " يوسف گم گشته باز آيد\n",
            "Generated sentence is:\n",
            " ['يوسف گم گشته باز آيدٔ به راه و راه']\n",
            "Real sentence is:\n",
            " رستم با بدان بنشست\n",
            "Generated sentence is:\n",
            " ['رستم با بدان بنشست شاهوزد اندر میان گله رهامش']\n",
            "Real sentence is:\n",
            " افراسياب رستم را فراخواند\n",
            "Generated sentence is:\n",
            " ['افراسياب رستم را فراخواند ورا پیش شاه']\n"
          ]
        }
      ]
    }
  ],
  "metadata": {
    "colab": {
      "provenance": [],
      "gpuType": "T4"
    },
    "kernelspec": {
      "display_name": "Python 3",
      "name": "python3"
    },
    "accelerator": "GPU",
    "widgets": {
      "application/vnd.jupyter.widget-state+json": {
        "5288b74568734c77b3d951df03f92a1f": {
          "model_module": "@jupyter-widgets/controls",
          "model_name": "HBoxModel",
          "model_module_version": "1.5.0",
          "state": {
            "_dom_classes": [],
            "_model_module": "@jupyter-widgets/controls",
            "_model_module_version": "1.5.0",
            "_model_name": "HBoxModel",
            "_view_count": null,
            "_view_module": "@jupyter-widgets/controls",
            "_view_module_version": "1.5.0",
            "_view_name": "HBoxView",
            "box_style": "",
            "children": [
              "IPY_MODEL_795cd37d275a422086f95bc35bbb2ddb",
              "IPY_MODEL_58b56e4f8fe24a40be01b688dbb56a3a",
              "IPY_MODEL_4d38b007df51459092f0f71461b60925"
            ],
            "layout": "IPY_MODEL_39e9b071b50f4260963fc27fdc1de65e"
          }
        },
        "795cd37d275a422086f95bc35bbb2ddb": {
          "model_module": "@jupyter-widgets/controls",
          "model_name": "HTMLModel",
          "model_module_version": "1.5.0",
          "state": {
            "_dom_classes": [],
            "_model_module": "@jupyter-widgets/controls",
            "_model_module_version": "1.5.0",
            "_model_name": "HTMLModel",
            "_view_count": null,
            "_view_module": "@jupyter-widgets/controls",
            "_view_module_version": "1.5.0",
            "_view_name": "HTMLView",
            "description": "",
            "description_tooltip": null,
            "layout": "IPY_MODEL_31fa63b1ec2b4cb2b839e0c1d1abe7ab",
            "placeholder": "​",
            "style": "IPY_MODEL_9f4a739b83f24e6f87a55d7dfb92379f",
            "value": "tokenizer_config.json: 100%"
          }
        },
        "58b56e4f8fe24a40be01b688dbb56a3a": {
          "model_module": "@jupyter-widgets/controls",
          "model_name": "FloatProgressModel",
          "model_module_version": "1.5.0",
          "state": {
            "_dom_classes": [],
            "_model_module": "@jupyter-widgets/controls",
            "_model_module_version": "1.5.0",
            "_model_name": "FloatProgressModel",
            "_view_count": null,
            "_view_module": "@jupyter-widgets/controls",
            "_view_module_version": "1.5.0",
            "_view_name": "ProgressView",
            "bar_style": "success",
            "description": "",
            "description_tooltip": null,
            "layout": "IPY_MODEL_d204825ee48c44309f85af2ad2361d90",
            "max": 728,
            "min": 0,
            "orientation": "horizontal",
            "style": "IPY_MODEL_b83888f9f02942b6b30bd5753c16a75f",
            "value": 728
          }
        },
        "4d38b007df51459092f0f71461b60925": {
          "model_module": "@jupyter-widgets/controls",
          "model_name": "HTMLModel",
          "model_module_version": "1.5.0",
          "state": {
            "_dom_classes": [],
            "_model_module": "@jupyter-widgets/controls",
            "_model_module_version": "1.5.0",
            "_model_name": "HTMLModel",
            "_view_count": null,
            "_view_module": "@jupyter-widgets/controls",
            "_view_module_version": "1.5.0",
            "_view_name": "HTMLView",
            "description": "",
            "description_tooltip": null,
            "layout": "IPY_MODEL_b5784b31a2d345099c9bb4ef4037464f",
            "placeholder": "​",
            "style": "IPY_MODEL_7acc8e96faca4102839003546f8bd45c",
            "value": " 728/728 [00:00&lt;00:00, 26.3kB/s]"
          }
        },
        "39e9b071b50f4260963fc27fdc1de65e": {
          "model_module": "@jupyter-widgets/base",
          "model_name": "LayoutModel",
          "model_module_version": "1.2.0",
          "state": {
            "_model_module": "@jupyter-widgets/base",
            "_model_module_version": "1.2.0",
            "_model_name": "LayoutModel",
            "_view_count": null,
            "_view_module": "@jupyter-widgets/base",
            "_view_module_version": "1.2.0",
            "_view_name": "LayoutView",
            "align_content": null,
            "align_items": null,
            "align_self": null,
            "border": null,
            "bottom": null,
            "display": null,
            "flex": null,
            "flex_flow": null,
            "grid_area": null,
            "grid_auto_columns": null,
            "grid_auto_flow": null,
            "grid_auto_rows": null,
            "grid_column": null,
            "grid_gap": null,
            "grid_row": null,
            "grid_template_areas": null,
            "grid_template_columns": null,
            "grid_template_rows": null,
            "height": null,
            "justify_content": null,
            "justify_items": null,
            "left": null,
            "margin": null,
            "max_height": null,
            "max_width": null,
            "min_height": null,
            "min_width": null,
            "object_fit": null,
            "object_position": null,
            "order": null,
            "overflow": null,
            "overflow_x": null,
            "overflow_y": null,
            "padding": null,
            "right": null,
            "top": null,
            "visibility": null,
            "width": null
          }
        },
        "31fa63b1ec2b4cb2b839e0c1d1abe7ab": {
          "model_module": "@jupyter-widgets/base",
          "model_name": "LayoutModel",
          "model_module_version": "1.2.0",
          "state": {
            "_model_module": "@jupyter-widgets/base",
            "_model_module_version": "1.2.0",
            "_model_name": "LayoutModel",
            "_view_count": null,
            "_view_module": "@jupyter-widgets/base",
            "_view_module_version": "1.2.0",
            "_view_name": "LayoutView",
            "align_content": null,
            "align_items": null,
            "align_self": null,
            "border": null,
            "bottom": null,
            "display": null,
            "flex": null,
            "flex_flow": null,
            "grid_area": null,
            "grid_auto_columns": null,
            "grid_auto_flow": null,
            "grid_auto_rows": null,
            "grid_column": null,
            "grid_gap": null,
            "grid_row": null,
            "grid_template_areas": null,
            "grid_template_columns": null,
            "grid_template_rows": null,
            "height": null,
            "justify_content": null,
            "justify_items": null,
            "left": null,
            "margin": null,
            "max_height": null,
            "max_width": null,
            "min_height": null,
            "min_width": null,
            "object_fit": null,
            "object_position": null,
            "order": null,
            "overflow": null,
            "overflow_x": null,
            "overflow_y": null,
            "padding": null,
            "right": null,
            "top": null,
            "visibility": null,
            "width": null
          }
        },
        "9f4a739b83f24e6f87a55d7dfb92379f": {
          "model_module": "@jupyter-widgets/controls",
          "model_name": "DescriptionStyleModel",
          "model_module_version": "1.5.0",
          "state": {
            "_model_module": "@jupyter-widgets/controls",
            "_model_module_version": "1.5.0",
            "_model_name": "DescriptionStyleModel",
            "_view_count": null,
            "_view_module": "@jupyter-widgets/base",
            "_view_module_version": "1.2.0",
            "_view_name": "StyleView",
            "description_width": ""
          }
        },
        "d204825ee48c44309f85af2ad2361d90": {
          "model_module": "@jupyter-widgets/base",
          "model_name": "LayoutModel",
          "model_module_version": "1.2.0",
          "state": {
            "_model_module": "@jupyter-widgets/base",
            "_model_module_version": "1.2.0",
            "_model_name": "LayoutModel",
            "_view_count": null,
            "_view_module": "@jupyter-widgets/base",
            "_view_module_version": "1.2.0",
            "_view_name": "LayoutView",
            "align_content": null,
            "align_items": null,
            "align_self": null,
            "border": null,
            "bottom": null,
            "display": null,
            "flex": null,
            "flex_flow": null,
            "grid_area": null,
            "grid_auto_columns": null,
            "grid_auto_flow": null,
            "grid_auto_rows": null,
            "grid_column": null,
            "grid_gap": null,
            "grid_row": null,
            "grid_template_areas": null,
            "grid_template_columns": null,
            "grid_template_rows": null,
            "height": null,
            "justify_content": null,
            "justify_items": null,
            "left": null,
            "margin": null,
            "max_height": null,
            "max_width": null,
            "min_height": null,
            "min_width": null,
            "object_fit": null,
            "object_position": null,
            "order": null,
            "overflow": null,
            "overflow_x": null,
            "overflow_y": null,
            "padding": null,
            "right": null,
            "top": null,
            "visibility": null,
            "width": null
          }
        },
        "b83888f9f02942b6b30bd5753c16a75f": {
          "model_module": "@jupyter-widgets/controls",
          "model_name": "ProgressStyleModel",
          "model_module_version": "1.5.0",
          "state": {
            "_model_module": "@jupyter-widgets/controls",
            "_model_module_version": "1.5.0",
            "_model_name": "ProgressStyleModel",
            "_view_count": null,
            "_view_module": "@jupyter-widgets/base",
            "_view_module_version": "1.2.0",
            "_view_name": "StyleView",
            "bar_color": null,
            "description_width": ""
          }
        },
        "b5784b31a2d345099c9bb4ef4037464f": {
          "model_module": "@jupyter-widgets/base",
          "model_name": "LayoutModel",
          "model_module_version": "1.2.0",
          "state": {
            "_model_module": "@jupyter-widgets/base",
            "_model_module_version": "1.2.0",
            "_model_name": "LayoutModel",
            "_view_count": null,
            "_view_module": "@jupyter-widgets/base",
            "_view_module_version": "1.2.0",
            "_view_name": "LayoutView",
            "align_content": null,
            "align_items": null,
            "align_self": null,
            "border": null,
            "bottom": null,
            "display": null,
            "flex": null,
            "flex_flow": null,
            "grid_area": null,
            "grid_auto_columns": null,
            "grid_auto_flow": null,
            "grid_auto_rows": null,
            "grid_column": null,
            "grid_gap": null,
            "grid_row": null,
            "grid_template_areas": null,
            "grid_template_columns": null,
            "grid_template_rows": null,
            "height": null,
            "justify_content": null,
            "justify_items": null,
            "left": null,
            "margin": null,
            "max_height": null,
            "max_width": null,
            "min_height": null,
            "min_width": null,
            "object_fit": null,
            "object_position": null,
            "order": null,
            "overflow": null,
            "overflow_x": null,
            "overflow_y": null,
            "padding": null,
            "right": null,
            "top": null,
            "visibility": null,
            "width": null
          }
        },
        "7acc8e96faca4102839003546f8bd45c": {
          "model_module": "@jupyter-widgets/controls",
          "model_name": "DescriptionStyleModel",
          "model_module_version": "1.5.0",
          "state": {
            "_model_module": "@jupyter-widgets/controls",
            "_model_module_version": "1.5.0",
            "_model_name": "DescriptionStyleModel",
            "_view_count": null,
            "_view_module": "@jupyter-widgets/base",
            "_view_module_version": "1.2.0",
            "_view_name": "StyleView",
            "description_width": ""
          }
        },
        "51e6ea24306e4abf8c8aeafc4a769d7c": {
          "model_module": "@jupyter-widgets/controls",
          "model_name": "HBoxModel",
          "model_module_version": "1.5.0",
          "state": {
            "_dom_classes": [],
            "_model_module": "@jupyter-widgets/controls",
            "_model_module_version": "1.5.0",
            "_model_name": "HBoxModel",
            "_view_count": null,
            "_view_module": "@jupyter-widgets/controls",
            "_view_module_version": "1.5.0",
            "_view_name": "HBoxView",
            "box_style": "",
            "children": [
              "IPY_MODEL_416586d110584a74b283ca4b0f14161e",
              "IPY_MODEL_4b9e22b10e934cd4960fc7d9a63f6841",
              "IPY_MODEL_cfec61ace76a456fa77703bb3735bfc5"
            ],
            "layout": "IPY_MODEL_3c192a65667a4353a581372cf2be9f05"
          }
        },
        "416586d110584a74b283ca4b0f14161e": {
          "model_module": "@jupyter-widgets/controls",
          "model_name": "HTMLModel",
          "model_module_version": "1.5.0",
          "state": {
            "_dom_classes": [],
            "_model_module": "@jupyter-widgets/controls",
            "_model_module_version": "1.5.0",
            "_model_name": "HTMLModel",
            "_view_count": null,
            "_view_module": "@jupyter-widgets/controls",
            "_view_module_version": "1.5.0",
            "_view_name": "HTMLView",
            "description": "",
            "description_tooltip": null,
            "layout": "IPY_MODEL_15f0ccbeb01d45fe81069d597cafeeb5",
            "placeholder": "​",
            "style": "IPY_MODEL_d7bfeb3e4b6f49db9dc028de7f008c18",
            "value": "vocab.json: 100%"
          }
        },
        "4b9e22b10e934cd4960fc7d9a63f6841": {
          "model_module": "@jupyter-widgets/controls",
          "model_name": "FloatProgressModel",
          "model_module_version": "1.5.0",
          "state": {
            "_dom_classes": [],
            "_model_module": "@jupyter-widgets/controls",
            "_model_module_version": "1.5.0",
            "_model_name": "FloatProgressModel",
            "_view_count": null,
            "_view_module": "@jupyter-widgets/controls",
            "_view_module_version": "1.5.0",
            "_view_name": "ProgressView",
            "bar_style": "success",
            "description": "",
            "description_tooltip": null,
            "layout": "IPY_MODEL_1ddd22bd435840c88883ab7526740e24",
            "max": 1159342,
            "min": 0,
            "orientation": "horizontal",
            "style": "IPY_MODEL_5c456ed12b6349ecb47210e33ace2b89",
            "value": 1159342
          }
        },
        "cfec61ace76a456fa77703bb3735bfc5": {
          "model_module": "@jupyter-widgets/controls",
          "model_name": "HTMLModel",
          "model_module_version": "1.5.0",
          "state": {
            "_dom_classes": [],
            "_model_module": "@jupyter-widgets/controls",
            "_model_module_version": "1.5.0",
            "_model_name": "HTMLModel",
            "_view_count": null,
            "_view_module": "@jupyter-widgets/controls",
            "_view_module_version": "1.5.0",
            "_view_name": "HTMLView",
            "description": "",
            "description_tooltip": null,
            "layout": "IPY_MODEL_63dedbf4260d4d13992a1f0f603d4216",
            "placeholder": "​",
            "style": "IPY_MODEL_742f6d4e71f84fe08cf4b1b124156636",
            "value": " 1.16M/1.16M [00:00&lt;00:00, 9.56MB/s]"
          }
        },
        "3c192a65667a4353a581372cf2be9f05": {
          "model_module": "@jupyter-widgets/base",
          "model_name": "LayoutModel",
          "model_module_version": "1.2.0",
          "state": {
            "_model_module": "@jupyter-widgets/base",
            "_model_module_version": "1.2.0",
            "_model_name": "LayoutModel",
            "_view_count": null,
            "_view_module": "@jupyter-widgets/base",
            "_view_module_version": "1.2.0",
            "_view_name": "LayoutView",
            "align_content": null,
            "align_items": null,
            "align_self": null,
            "border": null,
            "bottom": null,
            "display": null,
            "flex": null,
            "flex_flow": null,
            "grid_area": null,
            "grid_auto_columns": null,
            "grid_auto_flow": null,
            "grid_auto_rows": null,
            "grid_column": null,
            "grid_gap": null,
            "grid_row": null,
            "grid_template_areas": null,
            "grid_template_columns": null,
            "grid_template_rows": null,
            "height": null,
            "justify_content": null,
            "justify_items": null,
            "left": null,
            "margin": null,
            "max_height": null,
            "max_width": null,
            "min_height": null,
            "min_width": null,
            "object_fit": null,
            "object_position": null,
            "order": null,
            "overflow": null,
            "overflow_x": null,
            "overflow_y": null,
            "padding": null,
            "right": null,
            "top": null,
            "visibility": null,
            "width": null
          }
        },
        "15f0ccbeb01d45fe81069d597cafeeb5": {
          "model_module": "@jupyter-widgets/base",
          "model_name": "LayoutModel",
          "model_module_version": "1.2.0",
          "state": {
            "_model_module": "@jupyter-widgets/base",
            "_model_module_version": "1.2.0",
            "_model_name": "LayoutModel",
            "_view_count": null,
            "_view_module": "@jupyter-widgets/base",
            "_view_module_version": "1.2.0",
            "_view_name": "LayoutView",
            "align_content": null,
            "align_items": null,
            "align_self": null,
            "border": null,
            "bottom": null,
            "display": null,
            "flex": null,
            "flex_flow": null,
            "grid_area": null,
            "grid_auto_columns": null,
            "grid_auto_flow": null,
            "grid_auto_rows": null,
            "grid_column": null,
            "grid_gap": null,
            "grid_row": null,
            "grid_template_areas": null,
            "grid_template_columns": null,
            "grid_template_rows": null,
            "height": null,
            "justify_content": null,
            "justify_items": null,
            "left": null,
            "margin": null,
            "max_height": null,
            "max_width": null,
            "min_height": null,
            "min_width": null,
            "object_fit": null,
            "object_position": null,
            "order": null,
            "overflow": null,
            "overflow_x": null,
            "overflow_y": null,
            "padding": null,
            "right": null,
            "top": null,
            "visibility": null,
            "width": null
          }
        },
        "d7bfeb3e4b6f49db9dc028de7f008c18": {
          "model_module": "@jupyter-widgets/controls",
          "model_name": "DescriptionStyleModel",
          "model_module_version": "1.5.0",
          "state": {
            "_model_module": "@jupyter-widgets/controls",
            "_model_module_version": "1.5.0",
            "_model_name": "DescriptionStyleModel",
            "_view_count": null,
            "_view_module": "@jupyter-widgets/base",
            "_view_module_version": "1.2.0",
            "_view_name": "StyleView",
            "description_width": ""
          }
        },
        "1ddd22bd435840c88883ab7526740e24": {
          "model_module": "@jupyter-widgets/base",
          "model_name": "LayoutModel",
          "model_module_version": "1.2.0",
          "state": {
            "_model_module": "@jupyter-widgets/base",
            "_model_module_version": "1.2.0",
            "_model_name": "LayoutModel",
            "_view_count": null,
            "_view_module": "@jupyter-widgets/base",
            "_view_module_version": "1.2.0",
            "_view_name": "LayoutView",
            "align_content": null,
            "align_items": null,
            "align_self": null,
            "border": null,
            "bottom": null,
            "display": null,
            "flex": null,
            "flex_flow": null,
            "grid_area": null,
            "grid_auto_columns": null,
            "grid_auto_flow": null,
            "grid_auto_rows": null,
            "grid_column": null,
            "grid_gap": null,
            "grid_row": null,
            "grid_template_areas": null,
            "grid_template_columns": null,
            "grid_template_rows": null,
            "height": null,
            "justify_content": null,
            "justify_items": null,
            "left": null,
            "margin": null,
            "max_height": null,
            "max_width": null,
            "min_height": null,
            "min_width": null,
            "object_fit": null,
            "object_position": null,
            "order": null,
            "overflow": null,
            "overflow_x": null,
            "overflow_y": null,
            "padding": null,
            "right": null,
            "top": null,
            "visibility": null,
            "width": null
          }
        },
        "5c456ed12b6349ecb47210e33ace2b89": {
          "model_module": "@jupyter-widgets/controls",
          "model_name": "ProgressStyleModel",
          "model_module_version": "1.5.0",
          "state": {
            "_model_module": "@jupyter-widgets/controls",
            "_model_module_version": "1.5.0",
            "_model_name": "ProgressStyleModel",
            "_view_count": null,
            "_view_module": "@jupyter-widgets/base",
            "_view_module_version": "1.2.0",
            "_view_name": "StyleView",
            "bar_color": null,
            "description_width": ""
          }
        },
        "63dedbf4260d4d13992a1f0f603d4216": {
          "model_module": "@jupyter-widgets/base",
          "model_name": "LayoutModel",
          "model_module_version": "1.2.0",
          "state": {
            "_model_module": "@jupyter-widgets/base",
            "_model_module_version": "1.2.0",
            "_model_name": "LayoutModel",
            "_view_count": null,
            "_view_module": "@jupyter-widgets/base",
            "_view_module_version": "1.2.0",
            "_view_name": "LayoutView",
            "align_content": null,
            "align_items": null,
            "align_self": null,
            "border": null,
            "bottom": null,
            "display": null,
            "flex": null,
            "flex_flow": null,
            "grid_area": null,
            "grid_auto_columns": null,
            "grid_auto_flow": null,
            "grid_auto_rows": null,
            "grid_column": null,
            "grid_gap": null,
            "grid_row": null,
            "grid_template_areas": null,
            "grid_template_columns": null,
            "grid_template_rows": null,
            "height": null,
            "justify_content": null,
            "justify_items": null,
            "left": null,
            "margin": null,
            "max_height": null,
            "max_width": null,
            "min_height": null,
            "min_width": null,
            "object_fit": null,
            "object_position": null,
            "order": null,
            "overflow": null,
            "overflow_x": null,
            "overflow_y": null,
            "padding": null,
            "right": null,
            "top": null,
            "visibility": null,
            "width": null
          }
        },
        "742f6d4e71f84fe08cf4b1b124156636": {
          "model_module": "@jupyter-widgets/controls",
          "model_name": "DescriptionStyleModel",
          "model_module_version": "1.5.0",
          "state": {
            "_model_module": "@jupyter-widgets/controls",
            "_model_module_version": "1.5.0",
            "_model_name": "DescriptionStyleModel",
            "_view_count": null,
            "_view_module": "@jupyter-widgets/base",
            "_view_module_version": "1.2.0",
            "_view_name": "StyleView",
            "description_width": ""
          }
        },
        "9a0168e214004275a57ece8afaa1cfcf": {
          "model_module": "@jupyter-widgets/controls",
          "model_name": "HBoxModel",
          "model_module_version": "1.5.0",
          "state": {
            "_dom_classes": [],
            "_model_module": "@jupyter-widgets/controls",
            "_model_module_version": "1.5.0",
            "_model_name": "HBoxModel",
            "_view_count": null,
            "_view_module": "@jupyter-widgets/controls",
            "_view_module_version": "1.5.0",
            "_view_name": "HBoxView",
            "box_style": "",
            "children": [
              "IPY_MODEL_49cad58658144da396a868f245b0fd3e",
              "IPY_MODEL_df200c8929b84160aa3ff2e532ea099e",
              "IPY_MODEL_f9bb32c0e75141d897410a3c52d92189"
            ],
            "layout": "IPY_MODEL_4dd5aefcea02457e97266774b6c66e49"
          }
        },
        "49cad58658144da396a868f245b0fd3e": {
          "model_module": "@jupyter-widgets/controls",
          "model_name": "HTMLModel",
          "model_module_version": "1.5.0",
          "state": {
            "_dom_classes": [],
            "_model_module": "@jupyter-widgets/controls",
            "_model_module_version": "1.5.0",
            "_model_name": "HTMLModel",
            "_view_count": null,
            "_view_module": "@jupyter-widgets/controls",
            "_view_module_version": "1.5.0",
            "_view_name": "HTMLView",
            "description": "",
            "description_tooltip": null,
            "layout": "IPY_MODEL_17bffb27f99f460288fdf962e1c713e0",
            "placeholder": "​",
            "style": "IPY_MODEL_24c5cba1a13d444383bc51077cf29435",
            "value": "merges.txt: 100%"
          }
        },
        "df200c8929b84160aa3ff2e532ea099e": {
          "model_module": "@jupyter-widgets/controls",
          "model_name": "FloatProgressModel",
          "model_module_version": "1.5.0",
          "state": {
            "_dom_classes": [],
            "_model_module": "@jupyter-widgets/controls",
            "_model_module_version": "1.5.0",
            "_model_name": "FloatProgressModel",
            "_view_count": null,
            "_view_module": "@jupyter-widgets/controls",
            "_view_module_version": "1.5.0",
            "_view_name": "ProgressView",
            "bar_style": "success",
            "description": "",
            "description_tooltip": null,
            "layout": "IPY_MODEL_723da0f89903427e8ae1f283d47c5ee0",
            "max": 875476,
            "min": 0,
            "orientation": "horizontal",
            "style": "IPY_MODEL_87efe7df8aa94fe2873230ad61cd9cad",
            "value": 875476
          }
        },
        "f9bb32c0e75141d897410a3c52d92189": {
          "model_module": "@jupyter-widgets/controls",
          "model_name": "HTMLModel",
          "model_module_version": "1.5.0",
          "state": {
            "_dom_classes": [],
            "_model_module": "@jupyter-widgets/controls",
            "_model_module_version": "1.5.0",
            "_model_name": "HTMLModel",
            "_view_count": null,
            "_view_module": "@jupyter-widgets/controls",
            "_view_module_version": "1.5.0",
            "_view_name": "HTMLView",
            "description": "",
            "description_tooltip": null,
            "layout": "IPY_MODEL_16c4437ec5fc4934b03fae2c5788d23a",
            "placeholder": "​",
            "style": "IPY_MODEL_51c83153e53549e89979d5f6632b4730",
            "value": " 875k/875k [00:00&lt;00:00, 17.5MB/s]"
          }
        },
        "4dd5aefcea02457e97266774b6c66e49": {
          "model_module": "@jupyter-widgets/base",
          "model_name": "LayoutModel",
          "model_module_version": "1.2.0",
          "state": {
            "_model_module": "@jupyter-widgets/base",
            "_model_module_version": "1.2.0",
            "_model_name": "LayoutModel",
            "_view_count": null,
            "_view_module": "@jupyter-widgets/base",
            "_view_module_version": "1.2.0",
            "_view_name": "LayoutView",
            "align_content": null,
            "align_items": null,
            "align_self": null,
            "border": null,
            "bottom": null,
            "display": null,
            "flex": null,
            "flex_flow": null,
            "grid_area": null,
            "grid_auto_columns": null,
            "grid_auto_flow": null,
            "grid_auto_rows": null,
            "grid_column": null,
            "grid_gap": null,
            "grid_row": null,
            "grid_template_areas": null,
            "grid_template_columns": null,
            "grid_template_rows": null,
            "height": null,
            "justify_content": null,
            "justify_items": null,
            "left": null,
            "margin": null,
            "max_height": null,
            "max_width": null,
            "min_height": null,
            "min_width": null,
            "object_fit": null,
            "object_position": null,
            "order": null,
            "overflow": null,
            "overflow_x": null,
            "overflow_y": null,
            "padding": null,
            "right": null,
            "top": null,
            "visibility": null,
            "width": null
          }
        },
        "17bffb27f99f460288fdf962e1c713e0": {
          "model_module": "@jupyter-widgets/base",
          "model_name": "LayoutModel",
          "model_module_version": "1.2.0",
          "state": {
            "_model_module": "@jupyter-widgets/base",
            "_model_module_version": "1.2.0",
            "_model_name": "LayoutModel",
            "_view_count": null,
            "_view_module": "@jupyter-widgets/base",
            "_view_module_version": "1.2.0",
            "_view_name": "LayoutView",
            "align_content": null,
            "align_items": null,
            "align_self": null,
            "border": null,
            "bottom": null,
            "display": null,
            "flex": null,
            "flex_flow": null,
            "grid_area": null,
            "grid_auto_columns": null,
            "grid_auto_flow": null,
            "grid_auto_rows": null,
            "grid_column": null,
            "grid_gap": null,
            "grid_row": null,
            "grid_template_areas": null,
            "grid_template_columns": null,
            "grid_template_rows": null,
            "height": null,
            "justify_content": null,
            "justify_items": null,
            "left": null,
            "margin": null,
            "max_height": null,
            "max_width": null,
            "min_height": null,
            "min_width": null,
            "object_fit": null,
            "object_position": null,
            "order": null,
            "overflow": null,
            "overflow_x": null,
            "overflow_y": null,
            "padding": null,
            "right": null,
            "top": null,
            "visibility": null,
            "width": null
          }
        },
        "24c5cba1a13d444383bc51077cf29435": {
          "model_module": "@jupyter-widgets/controls",
          "model_name": "DescriptionStyleModel",
          "model_module_version": "1.5.0",
          "state": {
            "_model_module": "@jupyter-widgets/controls",
            "_model_module_version": "1.5.0",
            "_model_name": "DescriptionStyleModel",
            "_view_count": null,
            "_view_module": "@jupyter-widgets/base",
            "_view_module_version": "1.2.0",
            "_view_name": "StyleView",
            "description_width": ""
          }
        },
        "723da0f89903427e8ae1f283d47c5ee0": {
          "model_module": "@jupyter-widgets/base",
          "model_name": "LayoutModel",
          "model_module_version": "1.2.0",
          "state": {
            "_model_module": "@jupyter-widgets/base",
            "_model_module_version": "1.2.0",
            "_model_name": "LayoutModel",
            "_view_count": null,
            "_view_module": "@jupyter-widgets/base",
            "_view_module_version": "1.2.0",
            "_view_name": "LayoutView",
            "align_content": null,
            "align_items": null,
            "align_self": null,
            "border": null,
            "bottom": null,
            "display": null,
            "flex": null,
            "flex_flow": null,
            "grid_area": null,
            "grid_auto_columns": null,
            "grid_auto_flow": null,
            "grid_auto_rows": null,
            "grid_column": null,
            "grid_gap": null,
            "grid_row": null,
            "grid_template_areas": null,
            "grid_template_columns": null,
            "grid_template_rows": null,
            "height": null,
            "justify_content": null,
            "justify_items": null,
            "left": null,
            "margin": null,
            "max_height": null,
            "max_width": null,
            "min_height": null,
            "min_width": null,
            "object_fit": null,
            "object_position": null,
            "order": null,
            "overflow": null,
            "overflow_x": null,
            "overflow_y": null,
            "padding": null,
            "right": null,
            "top": null,
            "visibility": null,
            "width": null
          }
        },
        "87efe7df8aa94fe2873230ad61cd9cad": {
          "model_module": "@jupyter-widgets/controls",
          "model_name": "ProgressStyleModel",
          "model_module_version": "1.5.0",
          "state": {
            "_model_module": "@jupyter-widgets/controls",
            "_model_module_version": "1.5.0",
            "_model_name": "ProgressStyleModel",
            "_view_count": null,
            "_view_module": "@jupyter-widgets/base",
            "_view_module_version": "1.2.0",
            "_view_name": "StyleView",
            "bar_color": null,
            "description_width": ""
          }
        },
        "16c4437ec5fc4934b03fae2c5788d23a": {
          "model_module": "@jupyter-widgets/base",
          "model_name": "LayoutModel",
          "model_module_version": "1.2.0",
          "state": {
            "_model_module": "@jupyter-widgets/base",
            "_model_module_version": "1.2.0",
            "_model_name": "LayoutModel",
            "_view_count": null,
            "_view_module": "@jupyter-widgets/base",
            "_view_module_version": "1.2.0",
            "_view_name": "LayoutView",
            "align_content": null,
            "align_items": null,
            "align_self": null,
            "border": null,
            "bottom": null,
            "display": null,
            "flex": null,
            "flex_flow": null,
            "grid_area": null,
            "grid_auto_columns": null,
            "grid_auto_flow": null,
            "grid_auto_rows": null,
            "grid_column": null,
            "grid_gap": null,
            "grid_row": null,
            "grid_template_areas": null,
            "grid_template_columns": null,
            "grid_template_rows": null,
            "height": null,
            "justify_content": null,
            "justify_items": null,
            "left": null,
            "margin": null,
            "max_height": null,
            "max_width": null,
            "min_height": null,
            "min_width": null,
            "object_fit": null,
            "object_position": null,
            "order": null,
            "overflow": null,
            "overflow_x": null,
            "overflow_y": null,
            "padding": null,
            "right": null,
            "top": null,
            "visibility": null,
            "width": null
          }
        },
        "51c83153e53549e89979d5f6632b4730": {
          "model_module": "@jupyter-widgets/controls",
          "model_name": "DescriptionStyleModel",
          "model_module_version": "1.5.0",
          "state": {
            "_model_module": "@jupyter-widgets/controls",
            "_model_module_version": "1.5.0",
            "_model_name": "DescriptionStyleModel",
            "_view_count": null,
            "_view_module": "@jupyter-widgets/base",
            "_view_module_version": "1.2.0",
            "_view_name": "StyleView",
            "description_width": ""
          }
        },
        "f7c8a5cf88c549baa2d028c18aaa0823": {
          "model_module": "@jupyter-widgets/controls",
          "model_name": "HBoxModel",
          "model_module_version": "1.5.0",
          "state": {
            "_dom_classes": [],
            "_model_module": "@jupyter-widgets/controls",
            "_model_module_version": "1.5.0",
            "_model_name": "HBoxModel",
            "_view_count": null,
            "_view_module": "@jupyter-widgets/controls",
            "_view_module_version": "1.5.0",
            "_view_name": "HBoxView",
            "box_style": "",
            "children": [
              "IPY_MODEL_488541ad0bec426996766f85c31ceaef",
              "IPY_MODEL_35ab3a14e2e845c2a208f17fd485fffb",
              "IPY_MODEL_b25f6c7331c24f6995d52e27211a988d"
            ],
            "layout": "IPY_MODEL_902c04b326974c0fb5b1b921b95103b7"
          }
        },
        "488541ad0bec426996766f85c31ceaef": {
          "model_module": "@jupyter-widgets/controls",
          "model_name": "HTMLModel",
          "model_module_version": "1.5.0",
          "state": {
            "_dom_classes": [],
            "_model_module": "@jupyter-widgets/controls",
            "_model_module_version": "1.5.0",
            "_model_name": "HTMLModel",
            "_view_count": null,
            "_view_module": "@jupyter-widgets/controls",
            "_view_module_version": "1.5.0",
            "_view_name": "HTMLView",
            "description": "",
            "description_tooltip": null,
            "layout": "IPY_MODEL_1379f94abf6f4b49858b970358a9fe15",
            "placeholder": "​",
            "style": "IPY_MODEL_e9d2ac3e3d654fd68b65f0f49cd3f99e",
            "value": "added_tokens.json: 100%"
          }
        },
        "35ab3a14e2e845c2a208f17fd485fffb": {
          "model_module": "@jupyter-widgets/controls",
          "model_name": "FloatProgressModel",
          "model_module_version": "1.5.0",
          "state": {
            "_dom_classes": [],
            "_model_module": "@jupyter-widgets/controls",
            "_model_module_version": "1.5.0",
            "_model_name": "FloatProgressModel",
            "_view_count": null,
            "_view_module": "@jupyter-widgets/controls",
            "_view_module_version": "1.5.0",
            "_view_name": "ProgressView",
            "bar_style": "success",
            "description": "",
            "description_tooltip": null,
            "layout": "IPY_MODEL_c7b8f7c37d0c47e4a93bc833977fd91e",
            "max": 14,
            "min": 0,
            "orientation": "horizontal",
            "style": "IPY_MODEL_1e56784136d44ba4a27e69f6f860a1dd",
            "value": 14
          }
        },
        "b25f6c7331c24f6995d52e27211a988d": {
          "model_module": "@jupyter-widgets/controls",
          "model_name": "HTMLModel",
          "model_module_version": "1.5.0",
          "state": {
            "_dom_classes": [],
            "_model_module": "@jupyter-widgets/controls",
            "_model_module_version": "1.5.0",
            "_model_name": "HTMLModel",
            "_view_count": null,
            "_view_module": "@jupyter-widgets/controls",
            "_view_module_version": "1.5.0",
            "_view_name": "HTMLView",
            "description": "",
            "description_tooltip": null,
            "layout": "IPY_MODEL_4de1627a74a3438e8460aab64f93f18c",
            "placeholder": "​",
            "style": "IPY_MODEL_4741dfb9e9bd4c748cf1bb9e0e5d0dca",
            "value": " 14.0/14.0 [00:00&lt;00:00, 546B/s]"
          }
        },
        "902c04b326974c0fb5b1b921b95103b7": {
          "model_module": "@jupyter-widgets/base",
          "model_name": "LayoutModel",
          "model_module_version": "1.2.0",
          "state": {
            "_model_module": "@jupyter-widgets/base",
            "_model_module_version": "1.2.0",
            "_model_name": "LayoutModel",
            "_view_count": null,
            "_view_module": "@jupyter-widgets/base",
            "_view_module_version": "1.2.0",
            "_view_name": "LayoutView",
            "align_content": null,
            "align_items": null,
            "align_self": null,
            "border": null,
            "bottom": null,
            "display": null,
            "flex": null,
            "flex_flow": null,
            "grid_area": null,
            "grid_auto_columns": null,
            "grid_auto_flow": null,
            "grid_auto_rows": null,
            "grid_column": null,
            "grid_gap": null,
            "grid_row": null,
            "grid_template_areas": null,
            "grid_template_columns": null,
            "grid_template_rows": null,
            "height": null,
            "justify_content": null,
            "justify_items": null,
            "left": null,
            "margin": null,
            "max_height": null,
            "max_width": null,
            "min_height": null,
            "min_width": null,
            "object_fit": null,
            "object_position": null,
            "order": null,
            "overflow": null,
            "overflow_x": null,
            "overflow_y": null,
            "padding": null,
            "right": null,
            "top": null,
            "visibility": null,
            "width": null
          }
        },
        "1379f94abf6f4b49858b970358a9fe15": {
          "model_module": "@jupyter-widgets/base",
          "model_name": "LayoutModel",
          "model_module_version": "1.2.0",
          "state": {
            "_model_module": "@jupyter-widgets/base",
            "_model_module_version": "1.2.0",
            "_model_name": "LayoutModel",
            "_view_count": null,
            "_view_module": "@jupyter-widgets/base",
            "_view_module_version": "1.2.0",
            "_view_name": "LayoutView",
            "align_content": null,
            "align_items": null,
            "align_self": null,
            "border": null,
            "bottom": null,
            "display": null,
            "flex": null,
            "flex_flow": null,
            "grid_area": null,
            "grid_auto_columns": null,
            "grid_auto_flow": null,
            "grid_auto_rows": null,
            "grid_column": null,
            "grid_gap": null,
            "grid_row": null,
            "grid_template_areas": null,
            "grid_template_columns": null,
            "grid_template_rows": null,
            "height": null,
            "justify_content": null,
            "justify_items": null,
            "left": null,
            "margin": null,
            "max_height": null,
            "max_width": null,
            "min_height": null,
            "min_width": null,
            "object_fit": null,
            "object_position": null,
            "order": null,
            "overflow": null,
            "overflow_x": null,
            "overflow_y": null,
            "padding": null,
            "right": null,
            "top": null,
            "visibility": null,
            "width": null
          }
        },
        "e9d2ac3e3d654fd68b65f0f49cd3f99e": {
          "model_module": "@jupyter-widgets/controls",
          "model_name": "DescriptionStyleModel",
          "model_module_version": "1.5.0",
          "state": {
            "_model_module": "@jupyter-widgets/controls",
            "_model_module_version": "1.5.0",
            "_model_name": "DescriptionStyleModel",
            "_view_count": null,
            "_view_module": "@jupyter-widgets/base",
            "_view_module_version": "1.2.0",
            "_view_name": "StyleView",
            "description_width": ""
          }
        },
        "c7b8f7c37d0c47e4a93bc833977fd91e": {
          "model_module": "@jupyter-widgets/base",
          "model_name": "LayoutModel",
          "model_module_version": "1.2.0",
          "state": {
            "_model_module": "@jupyter-widgets/base",
            "_model_module_version": "1.2.0",
            "_model_name": "LayoutModel",
            "_view_count": null,
            "_view_module": "@jupyter-widgets/base",
            "_view_module_version": "1.2.0",
            "_view_name": "LayoutView",
            "align_content": null,
            "align_items": null,
            "align_self": null,
            "border": null,
            "bottom": null,
            "display": null,
            "flex": null,
            "flex_flow": null,
            "grid_area": null,
            "grid_auto_columns": null,
            "grid_auto_flow": null,
            "grid_auto_rows": null,
            "grid_column": null,
            "grid_gap": null,
            "grid_row": null,
            "grid_template_areas": null,
            "grid_template_columns": null,
            "grid_template_rows": null,
            "height": null,
            "justify_content": null,
            "justify_items": null,
            "left": null,
            "margin": null,
            "max_height": null,
            "max_width": null,
            "min_height": null,
            "min_width": null,
            "object_fit": null,
            "object_position": null,
            "order": null,
            "overflow": null,
            "overflow_x": null,
            "overflow_y": null,
            "padding": null,
            "right": null,
            "top": null,
            "visibility": null,
            "width": null
          }
        },
        "1e56784136d44ba4a27e69f6f860a1dd": {
          "model_module": "@jupyter-widgets/controls",
          "model_name": "ProgressStyleModel",
          "model_module_version": "1.5.0",
          "state": {
            "_model_module": "@jupyter-widgets/controls",
            "_model_module_version": "1.5.0",
            "_model_name": "ProgressStyleModel",
            "_view_count": null,
            "_view_module": "@jupyter-widgets/base",
            "_view_module_version": "1.2.0",
            "_view_name": "StyleView",
            "bar_color": null,
            "description_width": ""
          }
        },
        "4de1627a74a3438e8460aab64f93f18c": {
          "model_module": "@jupyter-widgets/base",
          "model_name": "LayoutModel",
          "model_module_version": "1.2.0",
          "state": {
            "_model_module": "@jupyter-widgets/base",
            "_model_module_version": "1.2.0",
            "_model_name": "LayoutModel",
            "_view_count": null,
            "_view_module": "@jupyter-widgets/base",
            "_view_module_version": "1.2.0",
            "_view_name": "LayoutView",
            "align_content": null,
            "align_items": null,
            "align_self": null,
            "border": null,
            "bottom": null,
            "display": null,
            "flex": null,
            "flex_flow": null,
            "grid_area": null,
            "grid_auto_columns": null,
            "grid_auto_flow": null,
            "grid_auto_rows": null,
            "grid_column": null,
            "grid_gap": null,
            "grid_row": null,
            "grid_template_areas": null,
            "grid_template_columns": null,
            "grid_template_rows": null,
            "height": null,
            "justify_content": null,
            "justify_items": null,
            "left": null,
            "margin": null,
            "max_height": null,
            "max_width": null,
            "min_height": null,
            "min_width": null,
            "object_fit": null,
            "object_position": null,
            "order": null,
            "overflow": null,
            "overflow_x": null,
            "overflow_y": null,
            "padding": null,
            "right": null,
            "top": null,
            "visibility": null,
            "width": null
          }
        },
        "4741dfb9e9bd4c748cf1bb9e0e5d0dca": {
          "model_module": "@jupyter-widgets/controls",
          "model_name": "DescriptionStyleModel",
          "model_module_version": "1.5.0",
          "state": {
            "_model_module": "@jupyter-widgets/controls",
            "_model_module_version": "1.5.0",
            "_model_name": "DescriptionStyleModel",
            "_view_count": null,
            "_view_module": "@jupyter-widgets/base",
            "_view_module_version": "1.2.0",
            "_view_name": "StyleView",
            "description_width": ""
          }
        },
        "b0e24e855d5f48d0b9a859b3ad0738f8": {
          "model_module": "@jupyter-widgets/controls",
          "model_name": "HBoxModel",
          "model_module_version": "1.5.0",
          "state": {
            "_dom_classes": [],
            "_model_module": "@jupyter-widgets/controls",
            "_model_module_version": "1.5.0",
            "_model_name": "HBoxModel",
            "_view_count": null,
            "_view_module": "@jupyter-widgets/controls",
            "_view_module_version": "1.5.0",
            "_view_name": "HBoxView",
            "box_style": "",
            "children": [
              "IPY_MODEL_237d0fad733c41af8abc815e77ec1fac",
              "IPY_MODEL_f605a4e6b23442e3b733afc047c118fe",
              "IPY_MODEL_0b28b4f1ee9243fbbf1c374f6f0639fa"
            ],
            "layout": "IPY_MODEL_1ed1f47598a2475cbb1c1703f3704b28"
          }
        },
        "237d0fad733c41af8abc815e77ec1fac": {
          "model_module": "@jupyter-widgets/controls",
          "model_name": "HTMLModel",
          "model_module_version": "1.5.0",
          "state": {
            "_dom_classes": [],
            "_model_module": "@jupyter-widgets/controls",
            "_model_module_version": "1.5.0",
            "_model_name": "HTMLModel",
            "_view_count": null,
            "_view_module": "@jupyter-widgets/controls",
            "_view_module_version": "1.5.0",
            "_view_name": "HTMLView",
            "description": "",
            "description_tooltip": null,
            "layout": "IPY_MODEL_7ab2d30369a2457fbaf9e472a54c5b33",
            "placeholder": "​",
            "style": "IPY_MODEL_c4d437084cad4f5bb215604068978d8b",
            "value": "special_tokens_map.json: 100%"
          }
        },
        "f605a4e6b23442e3b733afc047c118fe": {
          "model_module": "@jupyter-widgets/controls",
          "model_name": "FloatProgressModel",
          "model_module_version": "1.5.0",
          "state": {
            "_dom_classes": [],
            "_model_module": "@jupyter-widgets/controls",
            "_model_module_version": "1.5.0",
            "_model_name": "FloatProgressModel",
            "_view_count": null,
            "_view_module": "@jupyter-widgets/controls",
            "_view_module_version": "1.5.0",
            "_view_name": "ProgressView",
            "bar_style": "success",
            "description": "",
            "description_tooltip": null,
            "layout": "IPY_MODEL_2893bf69d3594697a73daeb27f8cf609",
            "max": 104,
            "min": 0,
            "orientation": "horizontal",
            "style": "IPY_MODEL_1c3ee001c44c4c74a59abc1f11ecc0fd",
            "value": 104
          }
        },
        "0b28b4f1ee9243fbbf1c374f6f0639fa": {
          "model_module": "@jupyter-widgets/controls",
          "model_name": "HTMLModel",
          "model_module_version": "1.5.0",
          "state": {
            "_dom_classes": [],
            "_model_module": "@jupyter-widgets/controls",
            "_model_module_version": "1.5.0",
            "_model_name": "HTMLModel",
            "_view_count": null,
            "_view_module": "@jupyter-widgets/controls",
            "_view_module_version": "1.5.0",
            "_view_name": "HTMLView",
            "description": "",
            "description_tooltip": null,
            "layout": "IPY_MODEL_641d6114db1c401ba1e08847d6f0c282",
            "placeholder": "​",
            "style": "IPY_MODEL_d92d7b399ef743a19f79be5d13f54365",
            "value": " 104/104 [00:00&lt;00:00, 4.96kB/s]"
          }
        },
        "1ed1f47598a2475cbb1c1703f3704b28": {
          "model_module": "@jupyter-widgets/base",
          "model_name": "LayoutModel",
          "model_module_version": "1.2.0",
          "state": {
            "_model_module": "@jupyter-widgets/base",
            "_model_module_version": "1.2.0",
            "_model_name": "LayoutModel",
            "_view_count": null,
            "_view_module": "@jupyter-widgets/base",
            "_view_module_version": "1.2.0",
            "_view_name": "LayoutView",
            "align_content": null,
            "align_items": null,
            "align_self": null,
            "border": null,
            "bottom": null,
            "display": null,
            "flex": null,
            "flex_flow": null,
            "grid_area": null,
            "grid_auto_columns": null,
            "grid_auto_flow": null,
            "grid_auto_rows": null,
            "grid_column": null,
            "grid_gap": null,
            "grid_row": null,
            "grid_template_areas": null,
            "grid_template_columns": null,
            "grid_template_rows": null,
            "height": null,
            "justify_content": null,
            "justify_items": null,
            "left": null,
            "margin": null,
            "max_height": null,
            "max_width": null,
            "min_height": null,
            "min_width": null,
            "object_fit": null,
            "object_position": null,
            "order": null,
            "overflow": null,
            "overflow_x": null,
            "overflow_y": null,
            "padding": null,
            "right": null,
            "top": null,
            "visibility": null,
            "width": null
          }
        },
        "7ab2d30369a2457fbaf9e472a54c5b33": {
          "model_module": "@jupyter-widgets/base",
          "model_name": "LayoutModel",
          "model_module_version": "1.2.0",
          "state": {
            "_model_module": "@jupyter-widgets/base",
            "_model_module_version": "1.2.0",
            "_model_name": "LayoutModel",
            "_view_count": null,
            "_view_module": "@jupyter-widgets/base",
            "_view_module_version": "1.2.0",
            "_view_name": "LayoutView",
            "align_content": null,
            "align_items": null,
            "align_self": null,
            "border": null,
            "bottom": null,
            "display": null,
            "flex": null,
            "flex_flow": null,
            "grid_area": null,
            "grid_auto_columns": null,
            "grid_auto_flow": null,
            "grid_auto_rows": null,
            "grid_column": null,
            "grid_gap": null,
            "grid_row": null,
            "grid_template_areas": null,
            "grid_template_columns": null,
            "grid_template_rows": null,
            "height": null,
            "justify_content": null,
            "justify_items": null,
            "left": null,
            "margin": null,
            "max_height": null,
            "max_width": null,
            "min_height": null,
            "min_width": null,
            "object_fit": null,
            "object_position": null,
            "order": null,
            "overflow": null,
            "overflow_x": null,
            "overflow_y": null,
            "padding": null,
            "right": null,
            "top": null,
            "visibility": null,
            "width": null
          }
        },
        "c4d437084cad4f5bb215604068978d8b": {
          "model_module": "@jupyter-widgets/controls",
          "model_name": "DescriptionStyleModel",
          "model_module_version": "1.5.0",
          "state": {
            "_model_module": "@jupyter-widgets/controls",
            "_model_module_version": "1.5.0",
            "_model_name": "DescriptionStyleModel",
            "_view_count": null,
            "_view_module": "@jupyter-widgets/base",
            "_view_module_version": "1.2.0",
            "_view_name": "StyleView",
            "description_width": ""
          }
        },
        "2893bf69d3594697a73daeb27f8cf609": {
          "model_module": "@jupyter-widgets/base",
          "model_name": "LayoutModel",
          "model_module_version": "1.2.0",
          "state": {
            "_model_module": "@jupyter-widgets/base",
            "_model_module_version": "1.2.0",
            "_model_name": "LayoutModel",
            "_view_count": null,
            "_view_module": "@jupyter-widgets/base",
            "_view_module_version": "1.2.0",
            "_view_name": "LayoutView",
            "align_content": null,
            "align_items": null,
            "align_self": null,
            "border": null,
            "bottom": null,
            "display": null,
            "flex": null,
            "flex_flow": null,
            "grid_area": null,
            "grid_auto_columns": null,
            "grid_auto_flow": null,
            "grid_auto_rows": null,
            "grid_column": null,
            "grid_gap": null,
            "grid_row": null,
            "grid_template_areas": null,
            "grid_template_columns": null,
            "grid_template_rows": null,
            "height": null,
            "justify_content": null,
            "justify_items": null,
            "left": null,
            "margin": null,
            "max_height": null,
            "max_width": null,
            "min_height": null,
            "min_width": null,
            "object_fit": null,
            "object_position": null,
            "order": null,
            "overflow": null,
            "overflow_x": null,
            "overflow_y": null,
            "padding": null,
            "right": null,
            "top": null,
            "visibility": null,
            "width": null
          }
        },
        "1c3ee001c44c4c74a59abc1f11ecc0fd": {
          "model_module": "@jupyter-widgets/controls",
          "model_name": "ProgressStyleModel",
          "model_module_version": "1.5.0",
          "state": {
            "_model_module": "@jupyter-widgets/controls",
            "_model_module_version": "1.5.0",
            "_model_name": "ProgressStyleModel",
            "_view_count": null,
            "_view_module": "@jupyter-widgets/base",
            "_view_module_version": "1.2.0",
            "_view_name": "StyleView",
            "bar_color": null,
            "description_width": ""
          }
        },
        "641d6114db1c401ba1e08847d6f0c282": {
          "model_module": "@jupyter-widgets/base",
          "model_name": "LayoutModel",
          "model_module_version": "1.2.0",
          "state": {
            "_model_module": "@jupyter-widgets/base",
            "_model_module_version": "1.2.0",
            "_model_name": "LayoutModel",
            "_view_count": null,
            "_view_module": "@jupyter-widgets/base",
            "_view_module_version": "1.2.0",
            "_view_name": "LayoutView",
            "align_content": null,
            "align_items": null,
            "align_self": null,
            "border": null,
            "bottom": null,
            "display": null,
            "flex": null,
            "flex_flow": null,
            "grid_area": null,
            "grid_auto_columns": null,
            "grid_auto_flow": null,
            "grid_auto_rows": null,
            "grid_column": null,
            "grid_gap": null,
            "grid_row": null,
            "grid_template_areas": null,
            "grid_template_columns": null,
            "grid_template_rows": null,
            "height": null,
            "justify_content": null,
            "justify_items": null,
            "left": null,
            "margin": null,
            "max_height": null,
            "max_width": null,
            "min_height": null,
            "min_width": null,
            "object_fit": null,
            "object_position": null,
            "order": null,
            "overflow": null,
            "overflow_x": null,
            "overflow_y": null,
            "padding": null,
            "right": null,
            "top": null,
            "visibility": null,
            "width": null
          }
        },
        "d92d7b399ef743a19f79be5d13f54365": {
          "model_module": "@jupyter-widgets/controls",
          "model_name": "DescriptionStyleModel",
          "model_module_version": "1.5.0",
          "state": {
            "_model_module": "@jupyter-widgets/controls",
            "_model_module_version": "1.5.0",
            "_model_name": "DescriptionStyleModel",
            "_view_count": null,
            "_view_module": "@jupyter-widgets/base",
            "_view_module_version": "1.2.0",
            "_view_name": "StyleView",
            "description_width": ""
          }
        },
        "483caa70b92e459fa0ea42f72d861e7a": {
          "model_module": "@jupyter-widgets/controls",
          "model_name": "HBoxModel",
          "model_module_version": "1.5.0",
          "state": {
            "_dom_classes": [],
            "_model_module": "@jupyter-widgets/controls",
            "_model_module_version": "1.5.0",
            "_model_name": "HBoxModel",
            "_view_count": null,
            "_view_module": "@jupyter-widgets/controls",
            "_view_module_version": "1.5.0",
            "_view_name": "HBoxView",
            "box_style": "",
            "children": [
              "IPY_MODEL_4b9737bfd2f74a5f84963282f5d0d652",
              "IPY_MODEL_3b6c55eaa5534407b32883428d7942d9",
              "IPY_MODEL_bd545debcc1041e6bc69cdb3bbdd53f0"
            ],
            "layout": "IPY_MODEL_813a8873ba314dd4891ffc8cca9bcc5f"
          }
        },
        "4b9737bfd2f74a5f84963282f5d0d652": {
          "model_module": "@jupyter-widgets/controls",
          "model_name": "HTMLModel",
          "model_module_version": "1.5.0",
          "state": {
            "_dom_classes": [],
            "_model_module": "@jupyter-widgets/controls",
            "_model_module_version": "1.5.0",
            "_model_name": "HTMLModel",
            "_view_count": null,
            "_view_module": "@jupyter-widgets/controls",
            "_view_module_version": "1.5.0",
            "_view_name": "HTMLView",
            "description": "",
            "description_tooltip": null,
            "layout": "IPY_MODEL_f626a72ac65b4574982625093ac95ea1",
            "placeholder": "​",
            "style": "IPY_MODEL_332e854f3f264c54a861eb889de8b790",
            "value": "tokenizer.json: 100%"
          }
        },
        "3b6c55eaa5534407b32883428d7942d9": {
          "model_module": "@jupyter-widgets/controls",
          "model_name": "FloatProgressModel",
          "model_module_version": "1.5.0",
          "state": {
            "_dom_classes": [],
            "_model_module": "@jupyter-widgets/controls",
            "_model_module_version": "1.5.0",
            "_model_name": "FloatProgressModel",
            "_view_count": null,
            "_view_module": "@jupyter-widgets/controls",
            "_view_module_version": "1.5.0",
            "_view_name": "ProgressView",
            "bar_style": "success",
            "description": "",
            "description_tooltip": null,
            "layout": "IPY_MODEL_efaf58b87de34aeb8d6a27d1772b744b",
            "max": 2748949,
            "min": 0,
            "orientation": "horizontal",
            "style": "IPY_MODEL_88fbb5dc2cce43dc99b9322035d65a6b",
            "value": 2748949
          }
        },
        "bd545debcc1041e6bc69cdb3bbdd53f0": {
          "model_module": "@jupyter-widgets/controls",
          "model_name": "HTMLModel",
          "model_module_version": "1.5.0",
          "state": {
            "_dom_classes": [],
            "_model_module": "@jupyter-widgets/controls",
            "_model_module_version": "1.5.0",
            "_model_name": "HTMLModel",
            "_view_count": null,
            "_view_module": "@jupyter-widgets/controls",
            "_view_module_version": "1.5.0",
            "_view_name": "HTMLView",
            "description": "",
            "description_tooltip": null,
            "layout": "IPY_MODEL_72773dad8e43404cb4c8312a3117607e",
            "placeholder": "​",
            "style": "IPY_MODEL_dcf6f593926c4404ad4c99c626b9b6de",
            "value": " 2.75M/2.75M [00:00&lt;00:00, 29.8MB/s]"
          }
        },
        "813a8873ba314dd4891ffc8cca9bcc5f": {
          "model_module": "@jupyter-widgets/base",
          "model_name": "LayoutModel",
          "model_module_version": "1.2.0",
          "state": {
            "_model_module": "@jupyter-widgets/base",
            "_model_module_version": "1.2.0",
            "_model_name": "LayoutModel",
            "_view_count": null,
            "_view_module": "@jupyter-widgets/base",
            "_view_module_version": "1.2.0",
            "_view_name": "LayoutView",
            "align_content": null,
            "align_items": null,
            "align_self": null,
            "border": null,
            "bottom": null,
            "display": null,
            "flex": null,
            "flex_flow": null,
            "grid_area": null,
            "grid_auto_columns": null,
            "grid_auto_flow": null,
            "grid_auto_rows": null,
            "grid_column": null,
            "grid_gap": null,
            "grid_row": null,
            "grid_template_areas": null,
            "grid_template_columns": null,
            "grid_template_rows": null,
            "height": null,
            "justify_content": null,
            "justify_items": null,
            "left": null,
            "margin": null,
            "max_height": null,
            "max_width": null,
            "min_height": null,
            "min_width": null,
            "object_fit": null,
            "object_position": null,
            "order": null,
            "overflow": null,
            "overflow_x": null,
            "overflow_y": null,
            "padding": null,
            "right": null,
            "top": null,
            "visibility": null,
            "width": null
          }
        },
        "f626a72ac65b4574982625093ac95ea1": {
          "model_module": "@jupyter-widgets/base",
          "model_name": "LayoutModel",
          "model_module_version": "1.2.0",
          "state": {
            "_model_module": "@jupyter-widgets/base",
            "_model_module_version": "1.2.0",
            "_model_name": "LayoutModel",
            "_view_count": null,
            "_view_module": "@jupyter-widgets/base",
            "_view_module_version": "1.2.0",
            "_view_name": "LayoutView",
            "align_content": null,
            "align_items": null,
            "align_self": null,
            "border": null,
            "bottom": null,
            "display": null,
            "flex": null,
            "flex_flow": null,
            "grid_area": null,
            "grid_auto_columns": null,
            "grid_auto_flow": null,
            "grid_auto_rows": null,
            "grid_column": null,
            "grid_gap": null,
            "grid_row": null,
            "grid_template_areas": null,
            "grid_template_columns": null,
            "grid_template_rows": null,
            "height": null,
            "justify_content": null,
            "justify_items": null,
            "left": null,
            "margin": null,
            "max_height": null,
            "max_width": null,
            "min_height": null,
            "min_width": null,
            "object_fit": null,
            "object_position": null,
            "order": null,
            "overflow": null,
            "overflow_x": null,
            "overflow_y": null,
            "padding": null,
            "right": null,
            "top": null,
            "visibility": null,
            "width": null
          }
        },
        "332e854f3f264c54a861eb889de8b790": {
          "model_module": "@jupyter-widgets/controls",
          "model_name": "DescriptionStyleModel",
          "model_module_version": "1.5.0",
          "state": {
            "_model_module": "@jupyter-widgets/controls",
            "_model_module_version": "1.5.0",
            "_model_name": "DescriptionStyleModel",
            "_view_count": null,
            "_view_module": "@jupyter-widgets/base",
            "_view_module_version": "1.2.0",
            "_view_name": "StyleView",
            "description_width": ""
          }
        },
        "efaf58b87de34aeb8d6a27d1772b744b": {
          "model_module": "@jupyter-widgets/base",
          "model_name": "LayoutModel",
          "model_module_version": "1.2.0",
          "state": {
            "_model_module": "@jupyter-widgets/base",
            "_model_module_version": "1.2.0",
            "_model_name": "LayoutModel",
            "_view_count": null,
            "_view_module": "@jupyter-widgets/base",
            "_view_module_version": "1.2.0",
            "_view_name": "LayoutView",
            "align_content": null,
            "align_items": null,
            "align_self": null,
            "border": null,
            "bottom": null,
            "display": null,
            "flex": null,
            "flex_flow": null,
            "grid_area": null,
            "grid_auto_columns": null,
            "grid_auto_flow": null,
            "grid_auto_rows": null,
            "grid_column": null,
            "grid_gap": null,
            "grid_row": null,
            "grid_template_areas": null,
            "grid_template_columns": null,
            "grid_template_rows": null,
            "height": null,
            "justify_content": null,
            "justify_items": null,
            "left": null,
            "margin": null,
            "max_height": null,
            "max_width": null,
            "min_height": null,
            "min_width": null,
            "object_fit": null,
            "object_position": null,
            "order": null,
            "overflow": null,
            "overflow_x": null,
            "overflow_y": null,
            "padding": null,
            "right": null,
            "top": null,
            "visibility": null,
            "width": null
          }
        },
        "88fbb5dc2cce43dc99b9322035d65a6b": {
          "model_module": "@jupyter-widgets/controls",
          "model_name": "ProgressStyleModel",
          "model_module_version": "1.5.0",
          "state": {
            "_model_module": "@jupyter-widgets/controls",
            "_model_module_version": "1.5.0",
            "_model_name": "ProgressStyleModel",
            "_view_count": null,
            "_view_module": "@jupyter-widgets/base",
            "_view_module_version": "1.2.0",
            "_view_name": "StyleView",
            "bar_color": null,
            "description_width": ""
          }
        },
        "72773dad8e43404cb4c8312a3117607e": {
          "model_module": "@jupyter-widgets/base",
          "model_name": "LayoutModel",
          "model_module_version": "1.2.0",
          "state": {
            "_model_module": "@jupyter-widgets/base",
            "_model_module_version": "1.2.0",
            "_model_name": "LayoutModel",
            "_view_count": null,
            "_view_module": "@jupyter-widgets/base",
            "_view_module_version": "1.2.0",
            "_view_name": "LayoutView",
            "align_content": null,
            "align_items": null,
            "align_self": null,
            "border": null,
            "bottom": null,
            "display": null,
            "flex": null,
            "flex_flow": null,
            "grid_area": null,
            "grid_auto_columns": null,
            "grid_auto_flow": null,
            "grid_auto_rows": null,
            "grid_column": null,
            "grid_gap": null,
            "grid_row": null,
            "grid_template_areas": null,
            "grid_template_columns": null,
            "grid_template_rows": null,
            "height": null,
            "justify_content": null,
            "justify_items": null,
            "left": null,
            "margin": null,
            "max_height": null,
            "max_width": null,
            "min_height": null,
            "min_width": null,
            "object_fit": null,
            "object_position": null,
            "order": null,
            "overflow": null,
            "overflow_x": null,
            "overflow_y": null,
            "padding": null,
            "right": null,
            "top": null,
            "visibility": null,
            "width": null
          }
        },
        "dcf6f593926c4404ad4c99c626b9b6de": {
          "model_module": "@jupyter-widgets/controls",
          "model_name": "DescriptionStyleModel",
          "model_module_version": "1.5.0",
          "state": {
            "_model_module": "@jupyter-widgets/controls",
            "_model_module_version": "1.5.0",
            "_model_name": "DescriptionStyleModel",
            "_view_count": null,
            "_view_module": "@jupyter-widgets/base",
            "_view_module_version": "1.2.0",
            "_view_name": "StyleView",
            "description_width": ""
          }
        },
        "a5be8b54419348e380714fab8ec4c639": {
          "model_module": "@jupyter-widgets/controls",
          "model_name": "HBoxModel",
          "model_module_version": "1.5.0",
          "state": {
            "_dom_classes": [],
            "_model_module": "@jupyter-widgets/controls",
            "_model_module_version": "1.5.0",
            "_model_name": "HBoxModel",
            "_view_count": null,
            "_view_module": "@jupyter-widgets/controls",
            "_view_module_version": "1.5.0",
            "_view_name": "HBoxView",
            "box_style": "",
            "children": [
              "IPY_MODEL_6917c56d44fc4cae8e62e0e1a114617b",
              "IPY_MODEL_0c29c48858174896aa30269a674e7d36",
              "IPY_MODEL_d46ce8547a90463faf35ea81733f5209"
            ],
            "layout": "IPY_MODEL_c16dacc3e14f4ed6a33b8a04128b1b3c"
          }
        },
        "6917c56d44fc4cae8e62e0e1a114617b": {
          "model_module": "@jupyter-widgets/controls",
          "model_name": "HTMLModel",
          "model_module_version": "1.5.0",
          "state": {
            "_dom_classes": [],
            "_model_module": "@jupyter-widgets/controls",
            "_model_module_version": "1.5.0",
            "_model_name": "HTMLModel",
            "_view_count": null,
            "_view_module": "@jupyter-widgets/controls",
            "_view_module_version": "1.5.0",
            "_view_name": "HTMLView",
            "description": "",
            "description_tooltip": null,
            "layout": "IPY_MODEL_33816a869dc945de9c95ad7270544e9e",
            "placeholder": "​",
            "style": "IPY_MODEL_8a76e1b6d9304dc382fad7d7cd13c8f9",
            "value": "config.json: 100%"
          }
        },
        "0c29c48858174896aa30269a674e7d36": {
          "model_module": "@jupyter-widgets/controls",
          "model_name": "FloatProgressModel",
          "model_module_version": "1.5.0",
          "state": {
            "_dom_classes": [],
            "_model_module": "@jupyter-widgets/controls",
            "_model_module_version": "1.5.0",
            "_model_name": "FloatProgressModel",
            "_view_count": null,
            "_view_module": "@jupyter-widgets/controls",
            "_view_module_version": "1.5.0",
            "_view_name": "ProgressView",
            "bar_style": "success",
            "description": "",
            "description_tooltip": null,
            "layout": "IPY_MODEL_6c595ab0cc8a4772866f57963ad9c886",
            "max": 808,
            "min": 0,
            "orientation": "horizontal",
            "style": "IPY_MODEL_850197bb6d8f4aa0a4fa0b4696c67cc8",
            "value": 808
          }
        },
        "d46ce8547a90463faf35ea81733f5209": {
          "model_module": "@jupyter-widgets/controls",
          "model_name": "HTMLModel",
          "model_module_version": "1.5.0",
          "state": {
            "_dom_classes": [],
            "_model_module": "@jupyter-widgets/controls",
            "_model_module_version": "1.5.0",
            "_model_name": "HTMLModel",
            "_view_count": null,
            "_view_module": "@jupyter-widgets/controls",
            "_view_module_version": "1.5.0",
            "_view_name": "HTMLView",
            "description": "",
            "description_tooltip": null,
            "layout": "IPY_MODEL_631aae99e9f54db29028c63f7c0dac73",
            "placeholder": "​",
            "style": "IPY_MODEL_3b4fcc7ac0584dbe925325a1c134973e",
            "value": " 808/808 [00:00&lt;00:00, 23.0kB/s]"
          }
        },
        "c16dacc3e14f4ed6a33b8a04128b1b3c": {
          "model_module": "@jupyter-widgets/base",
          "model_name": "LayoutModel",
          "model_module_version": "1.2.0",
          "state": {
            "_model_module": "@jupyter-widgets/base",
            "_model_module_version": "1.2.0",
            "_model_name": "LayoutModel",
            "_view_count": null,
            "_view_module": "@jupyter-widgets/base",
            "_view_module_version": "1.2.0",
            "_view_name": "LayoutView",
            "align_content": null,
            "align_items": null,
            "align_self": null,
            "border": null,
            "bottom": null,
            "display": null,
            "flex": null,
            "flex_flow": null,
            "grid_area": null,
            "grid_auto_columns": null,
            "grid_auto_flow": null,
            "grid_auto_rows": null,
            "grid_column": null,
            "grid_gap": null,
            "grid_row": null,
            "grid_template_areas": null,
            "grid_template_columns": null,
            "grid_template_rows": null,
            "height": null,
            "justify_content": null,
            "justify_items": null,
            "left": null,
            "margin": null,
            "max_height": null,
            "max_width": null,
            "min_height": null,
            "min_width": null,
            "object_fit": null,
            "object_position": null,
            "order": null,
            "overflow": null,
            "overflow_x": null,
            "overflow_y": null,
            "padding": null,
            "right": null,
            "top": null,
            "visibility": null,
            "width": null
          }
        },
        "33816a869dc945de9c95ad7270544e9e": {
          "model_module": "@jupyter-widgets/base",
          "model_name": "LayoutModel",
          "model_module_version": "1.2.0",
          "state": {
            "_model_module": "@jupyter-widgets/base",
            "_model_module_version": "1.2.0",
            "_model_name": "LayoutModel",
            "_view_count": null,
            "_view_module": "@jupyter-widgets/base",
            "_view_module_version": "1.2.0",
            "_view_name": "LayoutView",
            "align_content": null,
            "align_items": null,
            "align_self": null,
            "border": null,
            "bottom": null,
            "display": null,
            "flex": null,
            "flex_flow": null,
            "grid_area": null,
            "grid_auto_columns": null,
            "grid_auto_flow": null,
            "grid_auto_rows": null,
            "grid_column": null,
            "grid_gap": null,
            "grid_row": null,
            "grid_template_areas": null,
            "grid_template_columns": null,
            "grid_template_rows": null,
            "height": null,
            "justify_content": null,
            "justify_items": null,
            "left": null,
            "margin": null,
            "max_height": null,
            "max_width": null,
            "min_height": null,
            "min_width": null,
            "object_fit": null,
            "object_position": null,
            "order": null,
            "overflow": null,
            "overflow_x": null,
            "overflow_y": null,
            "padding": null,
            "right": null,
            "top": null,
            "visibility": null,
            "width": null
          }
        },
        "8a76e1b6d9304dc382fad7d7cd13c8f9": {
          "model_module": "@jupyter-widgets/controls",
          "model_name": "DescriptionStyleModel",
          "model_module_version": "1.5.0",
          "state": {
            "_model_module": "@jupyter-widgets/controls",
            "_model_module_version": "1.5.0",
            "_model_name": "DescriptionStyleModel",
            "_view_count": null,
            "_view_module": "@jupyter-widgets/base",
            "_view_module_version": "1.2.0",
            "_view_name": "StyleView",
            "description_width": ""
          }
        },
        "6c595ab0cc8a4772866f57963ad9c886": {
          "model_module": "@jupyter-widgets/base",
          "model_name": "LayoutModel",
          "model_module_version": "1.2.0",
          "state": {
            "_model_module": "@jupyter-widgets/base",
            "_model_module_version": "1.2.0",
            "_model_name": "LayoutModel",
            "_view_count": null,
            "_view_module": "@jupyter-widgets/base",
            "_view_module_version": "1.2.0",
            "_view_name": "LayoutView",
            "align_content": null,
            "align_items": null,
            "align_self": null,
            "border": null,
            "bottom": null,
            "display": null,
            "flex": null,
            "flex_flow": null,
            "grid_area": null,
            "grid_auto_columns": null,
            "grid_auto_flow": null,
            "grid_auto_rows": null,
            "grid_column": null,
            "grid_gap": null,
            "grid_row": null,
            "grid_template_areas": null,
            "grid_template_columns": null,
            "grid_template_rows": null,
            "height": null,
            "justify_content": null,
            "justify_items": null,
            "left": null,
            "margin": null,
            "max_height": null,
            "max_width": null,
            "min_height": null,
            "min_width": null,
            "object_fit": null,
            "object_position": null,
            "order": null,
            "overflow": null,
            "overflow_x": null,
            "overflow_y": null,
            "padding": null,
            "right": null,
            "top": null,
            "visibility": null,
            "width": null
          }
        },
        "850197bb6d8f4aa0a4fa0b4696c67cc8": {
          "model_module": "@jupyter-widgets/controls",
          "model_name": "ProgressStyleModel",
          "model_module_version": "1.5.0",
          "state": {
            "_model_module": "@jupyter-widgets/controls",
            "_model_module_version": "1.5.0",
            "_model_name": "ProgressStyleModel",
            "_view_count": null,
            "_view_module": "@jupyter-widgets/base",
            "_view_module_version": "1.2.0",
            "_view_name": "StyleView",
            "bar_color": null,
            "description_width": ""
          }
        },
        "631aae99e9f54db29028c63f7c0dac73": {
          "model_module": "@jupyter-widgets/base",
          "model_name": "LayoutModel",
          "model_module_version": "1.2.0",
          "state": {
            "_model_module": "@jupyter-widgets/base",
            "_model_module_version": "1.2.0",
            "_model_name": "LayoutModel",
            "_view_count": null,
            "_view_module": "@jupyter-widgets/base",
            "_view_module_version": "1.2.0",
            "_view_name": "LayoutView",
            "align_content": null,
            "align_items": null,
            "align_self": null,
            "border": null,
            "bottom": null,
            "display": null,
            "flex": null,
            "flex_flow": null,
            "grid_area": null,
            "grid_auto_columns": null,
            "grid_auto_flow": null,
            "grid_auto_rows": null,
            "grid_column": null,
            "grid_gap": null,
            "grid_row": null,
            "grid_template_areas": null,
            "grid_template_columns": null,
            "grid_template_rows": null,
            "height": null,
            "justify_content": null,
            "justify_items": null,
            "left": null,
            "margin": null,
            "max_height": null,
            "max_width": null,
            "min_height": null,
            "min_width": null,
            "object_fit": null,
            "object_position": null,
            "order": null,
            "overflow": null,
            "overflow_x": null,
            "overflow_y": null,
            "padding": null,
            "right": null,
            "top": null,
            "visibility": null,
            "width": null
          }
        },
        "3b4fcc7ac0584dbe925325a1c134973e": {
          "model_module": "@jupyter-widgets/controls",
          "model_name": "DescriptionStyleModel",
          "model_module_version": "1.5.0",
          "state": {
            "_model_module": "@jupyter-widgets/controls",
            "_model_module_version": "1.5.0",
            "_model_name": "DescriptionStyleModel",
            "_view_count": null,
            "_view_module": "@jupyter-widgets/base",
            "_view_module_version": "1.2.0",
            "_view_name": "StyleView",
            "description_width": ""
          }
        }
      }
    }
  },
  "nbformat": 4,
  "nbformat_minor": 0
}